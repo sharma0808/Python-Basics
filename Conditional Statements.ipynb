{
 "cells": [
  {
   "cell_type": "markdown",
   "id": "45840889",
   "metadata": {},
   "source": [
    "# Conditional Statement"
   ]
  },
  {
   "cell_type": "markdown",
   "id": "71581582",
   "metadata": {},
   "source": [
    "## If statement"
   ]
  },
  {
   "cell_type": "code",
   "execution_count": 1,
   "id": "082770ff",
   "metadata": {},
   "outputs": [],
   "source": [
    "a=100\n",
    "b=150\n",
    "if a>b:\n",
    "    print(\"a is greater than b\") ### No output - Nothing is defined for False condition."
   ]
  },
  {
   "cell_type": "code",
   "execution_count": 2,
   "id": "50d68c4a",
   "metadata": {},
   "outputs": [
    {
     "name": "stdout",
     "output_type": "stream",
     "text": [
      "a is greater than b\n"
     ]
    }
   ],
   "source": [
    "a=200\n",
    "b=150\n",
    "if a>b:\n",
    "    print(\"a is greater than b\")  ### True - So there is output"
   ]
  },
  {
   "cell_type": "code",
   "execution_count": 3,
   "id": "c60a35dd",
   "metadata": {},
   "outputs": [],
   "source": [
    "a=0.1\n",
    "b=0.2\n",
    "if a>b:\n",
    "    print(\"Hi, I am Praveen Sharma\")"
   ]
  },
  {
   "cell_type": "code",
   "execution_count": 4,
   "id": "58d29a9e",
   "metadata": {},
   "outputs": [],
   "source": [
    "a=\"Praveen\"\n",
    "b=\"PRAVEEN\"\n",
    "if a==b:\n",
    "    print(\"Name is matched\")"
   ]
  },
  {
   "cell_type": "markdown",
   "id": "f6a47e8a",
   "metadata": {},
   "source": [
    "## If-Else statement"
   ]
  },
  {
   "cell_type": "code",
   "execution_count": 5,
   "id": "7c8dab5d",
   "metadata": {},
   "outputs": [
    {
     "ename": "SyntaxError",
     "evalue": "invalid syntax (<ipython-input-5-748811ed29a8>, line 5)",
     "output_type": "error",
     "traceback": [
      "\u001b[1;36m  File \u001b[1;32m\"<ipython-input-5-748811ed29a8>\"\u001b[1;36m, line \u001b[1;32m5\u001b[0m\n\u001b[1;33m    else:    ### syntax error\u001b[0m\n\u001b[1;37m    ^\u001b[0m\n\u001b[1;31mSyntaxError\u001b[0m\u001b[1;31m:\u001b[0m invalid syntax\n"
     ]
    }
   ],
   "source": [
    "a=50\n",
    "b=70\n",
    "if a>b:\n",
    "    print(\"Hi, I am going to Mumbai\")\n",
    "    else:    ### syntax error - Indentation error\n",
    "        print(\"I am going to Banglore\")"
   ]
  },
  {
   "cell_type": "code",
   "execution_count": 6,
   "id": "2784c41e",
   "metadata": {},
   "outputs": [
    {
     "name": "stdout",
     "output_type": "stream",
     "text": [
      "I am going to Banglore\n"
     ]
    }
   ],
   "source": [
    "a=50\n",
    "b=70\n",
    "if a>b:\n",
    "    print(\"Hi, I am going to Mumbai\")\n",
    "else:\n",
    "    print(\"I am going to Banglore\")"
   ]
  },
  {
   "cell_type": "code",
   "execution_count": 7,
   "id": "839d8ad2",
   "metadata": {},
   "outputs": [
    {
     "name": "stdout",
     "output_type": "stream",
     "text": [
      "Enter the Password vinay@smart\n",
      "Welcome To ESCORT HOSPITAL\n"
     ]
    }
   ],
   "source": [
    "password=str(input(\"Enter the Password \"))\n",
    "if password==\"vinay@smart\":\n",
    "    print(\"Welcome To ESCORT HOSPITAL\")\n",
    "else:\n",
    "    print(\"Incorret Password\")"
   ]
  },
  {
   "cell_type": "code",
   "execution_count": 8,
   "id": "d4d82004",
   "metadata": {},
   "outputs": [
    {
     "name": "stdout",
     "output_type": "stream",
     "text": [
      "10 is greater than zero\n"
     ]
    }
   ],
   "source": [
    "num=10\n",
    "if num>0:\n",
    "    print(num,\"is greater than zero\")\n",
    "else:\n",
    "    print(num,\"is less than zero\")"
   ]
  },
  {
   "cell_type": "code",
   "execution_count": 9,
   "id": "5ce1b413",
   "metadata": {},
   "outputs": [
    {
     "name": "stdout",
     "output_type": "stream",
     "text": [
      "85.75 greater than Passing Marks : Pass\n"
     ]
    }
   ],
   "source": [
    "hindi=82\n",
    "eng=83\n",
    "math=100\n",
    "science=78\n",
    "avg=(hindi+eng+math+science)/4 \n",
    "if avg <= 33:\n",
    "    print(avg,\"less than Passing Marks : Failed\")\n",
    "else:\n",
    "    print(avg,\"greater than Passing Marks : Pass\")\n",
    "    "
   ]
  },
  {
   "cell_type": "code",
   "execution_count": 10,
   "id": "43797a7d",
   "metadata": {},
   "outputs": [
    {
     "name": "stdout",
     "output_type": "stream",
     "text": [
      "10\n",
      "12\n",
      "x is less than y\n"
     ]
    }
   ],
   "source": [
    "x=int(input())\n",
    "y=int(input())\n",
    "if x>=y:\n",
    "    print(\"x is greater than y\")\n",
    "else:\n",
    "    print(\"x is less than y\")"
   ]
  },
  {
   "cell_type": "code",
   "execution_count": 11,
   "id": "87a10fd3",
   "metadata": {},
   "outputs": [
    {
     "name": "stdout",
     "output_type": "stream",
     "text": [
      "cherry\n",
      "cherry is in fruits list\n"
     ]
    }
   ],
   "source": [
    "fruit_list=[\"apple\",\"mango\",\"cherry\",\"pineapple\",\"orange\"]\n",
    "search_fruit=input()\n",
    "if search_fruit in fruit_list:\n",
    "    print(search_fruit, \"is in fruits list\")\n",
    "else:\n",
    "    print(search_fruit, \"is not in fruits list\")"
   ]
  },
  {
   "cell_type": "markdown",
   "id": "7a567ada",
   "metadata": {},
   "source": [
    "## If elif else statement"
   ]
  },
  {
   "cell_type": "code",
   "execution_count": 12,
   "id": "7a618f5d",
   "metadata": {},
   "outputs": [
    {
     "name": "stdout",
     "output_type": "stream",
     "text": [
      "HINDI SCORE : 78\n",
      "ENGLISH SCORE : 83\n",
      "MATH SCORE : 100\n",
      "PHYSICS SCORE : 79\n",
      "CHEMISTRY SCORE : 86\n",
      "85.2 EQUAL AND GREATER THAN 80 % - Distinction\n"
     ]
    }
   ],
   "source": [
    "HINDI=int(input(\"HINDI SCORE : \"))\n",
    "ENGLISH=int(input(\"ENGLISH SCORE : \"))\n",
    "MATH=int(input(\"MATH SCORE : \"))\n",
    "PHYSICS=int(input(\"PHYSICS SCORE : \"))\n",
    "CHEMISTRY=int(input(\"CHEMISTRY SCORE : \"))\n",
    "AVG=(HINDI+ENGLISH+MATH+PHYSICS+CHEMISTRY)/5\n",
    "if AVG >= 80:\n",
    "    print(AVG,\"EQUAL AND GREATER THAN 80 % - Distinction\")\n",
    "elif AVG >= 60 and AVG < 80:\n",
    "    print(AVG,\"EQUAL AND GREATER THAN 60 % and LESS THAN 80 % - First Division\")\n",
    "elif AVG >= 50 and AVG < 60:\n",
    "    print(AVG,\"EQUAL AND GREATER THAN 50 % and LESS THAN 60 %- Second Division\")\n",
    "elif AVG >= 40 and AVG < 50:\n",
    "    print(AVG,\"EQUAL AND GREATER THAN 40 % and LESS THAN 50 % - Third Division\")\n",
    "elif AVG >= 35:\n",
    "    print(AVG,\"EQUAL AND GREATER THAN 35 % - Pass\")\n",
    "else:\n",
    "    print(AVG,\"LESS THAN 35 % - Fail\")"
   ]
  },
  {
   "cell_type": "markdown",
   "id": "a1be1665",
   "metadata": {},
   "source": [
    "## Nested If-else"
   ]
  },
  {
   "cell_type": "code",
   "execution_count": 13,
   "id": "b3d052f5",
   "metadata": {},
   "outputs": [
    {
     "name": "stdout",
     "output_type": "stream",
     "text": [
      "value of a :45\n",
      "value of b :181\n",
      "value of c :91\n",
      "b is greater than a,c\n"
     ]
    }
   ],
   "source": [
    "### Find a greater number among three numbers.\n",
    "a=int(input(\"value of a :\"))\n",
    "b=int(input(\"value of b :\"))\n",
    "c=int(input(\"value of c :\"))\n",
    "if a>b:\n",
    "    if a>c:\n",
    "        print(\"a is greater than b,c\")\n",
    "    else:\n",
    "        print(\"c is greater than a,b\")\n",
    "else:\n",
    "    if b>c:\n",
    "        print(\"b is greater than a,c\")\n",
    "    else:\n",
    "        print(\"c is greater than a,b\")"
   ]
  },
  {
   "cell_type": "code",
   "execution_count": 14,
   "id": "05c54bc2",
   "metadata": {},
   "outputs": [
    {
     "name": "stdout",
     "output_type": "stream",
     "text": [
      "Enter a Number :50.0\n",
      "Number is Positive\n"
     ]
    }
   ],
   "source": [
    "### Write a program whether a number is positive and negative.\n",
    "num=float(input(\"Enter a Number :\"))\n",
    "if num >= 0:\n",
    "    if num == 0:\n",
    "        print(\"Number is Zero\")\n",
    "    else:\n",
    "        print(\"Number is Positive\")\n",
    "else:\n",
    "    print(\"Number is Negative\")"
   ]
  },
  {
   "cell_type": "code",
   "execution_count": null,
   "id": "67534419",
   "metadata": {},
   "outputs": [],
   "source": []
  }
 ],
 "metadata": {
  "kernelspec": {
   "display_name": "Python 3",
   "language": "python",
   "name": "python3"
  },
  "language_info": {
   "codemirror_mode": {
    "name": "ipython",
    "version": 3
   },
   "file_extension": ".py",
   "mimetype": "text/x-python",
   "name": "python",
   "nbconvert_exporter": "python",
   "pygments_lexer": "ipython3",
   "version": "3.8.8"
  }
 },
 "nbformat": 4,
 "nbformat_minor": 5
}
