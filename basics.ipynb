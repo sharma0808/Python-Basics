{
 "cells": [
  {
   "cell_type": "markdown",
   "id": "36cc4b90",
   "metadata": {},
   "source": [
    "Let's start Programming"
   ]
  },
  {
   "cell_type": "markdown",
   "id": "1caf1893",
   "metadata": {},
   "source": [
    "## Shortcuts:\n",
    "## Shift + Enter => Run\n",
    "## A => Insert a cell Above\n",
    "## B => Insert a cell Below\n",
    "## X or DD => Deleting a cell \n",
    "## M => Markdown a cell"
   ]
  },
  {
   "cell_type": "code",
   "execution_count": 1,
   "id": "907de3f0",
   "metadata": {},
   "outputs": [
    {
     "data": {
      "text/plain": [
       "51.0"
      ]
     },
     "execution_count": 1,
     "metadata": {},
     "output_type": "execute_result"
    }
   ],
   "source": [
    "58-56/8"
   ]
  },
  {
   "cell_type": "code",
   "execution_count": 2,
   "id": "25682bd2",
   "metadata": {},
   "outputs": [
    {
     "data": {
      "text/plain": [
       "-49.0"
      ]
     },
     "execution_count": 2,
     "metadata": {},
     "output_type": "execute_result"
    }
   ],
   "source": [
    "56/8-7*8"
   ]
  },
  {
   "cell_type": "code",
   "execution_count": 3,
   "id": "08819f1e",
   "metadata": {},
   "outputs": [
    {
     "data": {
      "text/plain": [
       "79"
      ]
     },
     "execution_count": 3,
     "metadata": {},
     "output_type": "execute_result"
    }
   ],
   "source": [
    "56-66+89"
   ]
  },
  {
   "cell_type": "code",
   "execution_count": 4,
   "id": "7c084599",
   "metadata": {},
   "outputs": [
    {
     "data": {
      "text/plain": [
       "'Hello World'"
      ]
     },
     "execution_count": 4,
     "metadata": {},
     "output_type": "execute_result"
    }
   ],
   "source": [
    "x = \"Hello World\"\n",
    "x                  "
   ]
  },
  {
   "cell_type": "code",
   "execution_count": 5,
   "id": "a8dd1f91",
   "metadata": {},
   "outputs": [
    {
     "name": "stdout",
     "output_type": "stream",
     "text": [
      "Hello World\n"
     ]
    }
   ],
   "source": [
    "print('Hello World')  "
   ]
  },
  {
   "cell_type": "code",
   "execution_count": 6,
   "id": "49db321c",
   "metadata": {},
   "outputs": [
    {
     "name": "stdout",
     "output_type": "stream",
     "text": [
      "Hello World\n"
     ]
    }
   ],
   "source": [
    "print(\"Hello World\")"
   ]
  },
  {
   "cell_type": "code",
   "execution_count": 7,
   "id": "d915c511",
   "metadata": {},
   "outputs": [
    {
     "data": {
      "text/plain": [
       "'Hello world'"
      ]
     },
     "execution_count": 7,
     "metadata": {},
     "output_type": "execute_result"
    }
   ],
   "source": [
    "'Hello world'"
   ]
  },
  {
   "cell_type": "code",
   "execution_count": 8,
   "id": "8e08231e",
   "metadata": {},
   "outputs": [
    {
     "name": "stdout",
     "output_type": "stream",
     "text": [
      "hello world\n"
     ]
    }
   ],
   "source": [
    "print('hello world') # String should be written in single/double inverted comma"
   ]
  },
  {
   "cell_type": "markdown",
   "id": "edb2f244",
   "metadata": {},
   "source": [
    "## => when increase the number of  # , font size will be decreased\n",
    "\n",
    "# Hello         \n",
    "## Hello \n",
    "### Hello"
   ]
  },
  {
   "cell_type": "code",
   "execution_count": 9,
   "id": "ca5cdc79",
   "metadata": {},
   "outputs": [],
   "source": [
    "### print ... It's not Print\n",
    "### String should be within ' '/\" \""
   ]
  },
  {
   "cell_type": "markdown",
   "id": "3acebd8a",
   "metadata": {},
   "source": [
    "\"Let's start programming\""
   ]
  },
  {
   "cell_type": "code",
   "execution_count": 10,
   "id": "7031b271",
   "metadata": {},
   "outputs": [],
   "source": [
    "#example 1 ...."
   ]
  },
  {
   "cell_type": "code",
   "execution_count": 11,
   "id": "cde8824f",
   "metadata": {},
   "outputs": [
    {
     "data": {
      "text/plain": [
       "'Hello World'"
      ]
     },
     "execution_count": 11,
     "metadata": {},
     "output_type": "execute_result"
    }
   ],
   "source": [
    "x = 'Hello World'\n",
    "x"
   ]
  },
  {
   "cell_type": "code",
   "execution_count": 12,
   "id": "0a853417",
   "metadata": {},
   "outputs": [
    {
     "data": {
      "text/plain": [
       "'Hello World'"
      ]
     },
     "execution_count": 12,
     "metadata": {},
     "output_type": "execute_result"
    }
   ],
   "source": [
    "x = \"Hello World\"\n",
    "x"
   ]
  },
  {
   "cell_type": "code",
   "execution_count": 13,
   "id": "8d25dd8c",
   "metadata": {},
   "outputs": [
    {
     "data": {
      "text/plain": [
       "'Hello World'"
      ]
     },
     "execution_count": 13,
     "metadata": {},
     "output_type": "execute_result"
    }
   ],
   "source": [
    "x =(\"Hello World\")\n",
    "x"
   ]
  },
  {
   "cell_type": "code",
   "execution_count": 14,
   "id": "e690629a",
   "metadata": {},
   "outputs": [
    {
     "data": {
      "text/plain": [
       "str"
      ]
     },
     "execution_count": 14,
     "metadata": {},
     "output_type": "execute_result"
    }
   ],
   "source": [
    "type(x)"
   ]
  },
  {
   "cell_type": "code",
   "execution_count": 15,
   "id": "b5b93667",
   "metadata": {},
   "outputs": [
    {
     "ename": "TypeError",
     "evalue": "'y' is an invalid keyword argument for print()",
     "output_type": "error",
     "traceback": [
      "\u001b[1;31m---------------------------------------------------------------------------\u001b[0m",
      "\u001b[1;31mTypeError\u001b[0m                                 Traceback (most recent call last)",
      "\u001b[1;32m<ipython-input-15-8bcf2a88f66b>\u001b[0m in \u001b[0;36m<module>\u001b[1;34m\u001b[0m\n\u001b[1;32m----> 1\u001b[1;33m \u001b[0mprint\u001b[0m\u001b[1;33m(\u001b[0m\u001b[0my\u001b[0m\u001b[1;33m=\u001b[0m\u001b[1;34m\"Hello World\"\u001b[0m\u001b[1;33m)\u001b[0m  \u001b[1;31m# This way is wrong.\u001b[0m\u001b[1;33m\u001b[0m\u001b[1;33m\u001b[0m\u001b[0m\n\u001b[0m",
      "\u001b[1;31mTypeError\u001b[0m: 'y' is an invalid keyword argument for print()"
     ]
    }
   ],
   "source": [
    "print(y=\"Hello World\")  # This way is wrong."
   ]
  },
  {
   "cell_type": "code",
   "execution_count": 16,
   "id": "e43b3078",
   "metadata": {},
   "outputs": [
    {
     "data": {
      "text/plain": [
       "'PRAVEEN'"
      ]
     },
     "execution_count": 16,
     "metadata": {},
     "output_type": "execute_result"
    }
   ],
   "source": [
    "y = \"PRAVEEN\"\n",
    "y"
   ]
  },
  {
   "cell_type": "code",
   "execution_count": 17,
   "id": "2bdd4b54",
   "metadata": {},
   "outputs": [
    {
     "data": {
      "text/plain": [
       "str"
      ]
     },
     "execution_count": 17,
     "metadata": {},
     "output_type": "execute_result"
    }
   ],
   "source": [
    "type(y)"
   ]
  },
  {
   "cell_type": "code",
   "execution_count": null,
   "id": "844d3e04",
   "metadata": {},
   "outputs": [],
   "source": [
    "#example 2 ...."
   ]
  },
  {
   "cell_type": "code",
   "execution_count": 18,
   "id": "89fcf941",
   "metadata": {},
   "outputs": [
    {
     "data": {
      "text/plain": [
       "10"
      ]
     },
     "execution_count": 18,
     "metadata": {},
     "output_type": "execute_result"
    }
   ],
   "source": [
    "x = 10\n",
    "x"
   ]
  },
  {
   "cell_type": "code",
   "execution_count": 19,
   "id": "8efdfe43",
   "metadata": {},
   "outputs": [
    {
     "data": {
      "text/plain": [
       "int"
      ]
     },
     "execution_count": 19,
     "metadata": {},
     "output_type": "execute_result"
    }
   ],
   "source": [
    "type(x) # int - No decimal point"
   ]
  },
  {
   "cell_type": "code",
   "execution_count": 20,
   "id": "123cf80b",
   "metadata": {},
   "outputs": [
    {
     "name": "stdout",
     "output_type": "stream",
     "text": [
      "<class 'int'>\n"
     ]
    }
   ],
   "source": [
    "print(type(x))  ## print (type(x)) => print same result"
   ]
  },
  {
   "cell_type": "code",
   "execution_count": null,
   "id": "7313700c",
   "metadata": {},
   "outputs": [],
   "source": [
    "#example 3 ...."
   ]
  },
  {
   "cell_type": "code",
   "execution_count": 21,
   "id": "3073a0c5",
   "metadata": {},
   "outputs": [
    {
     "data": {
      "text/plain": [
       "float"
      ]
     },
     "execution_count": 21,
     "metadata": {},
     "output_type": "execute_result"
    }
   ],
   "source": [
    "x = 10.5 # float-decimal point\n",
    "type(x)"
   ]
  },
  {
   "cell_type": "code",
   "execution_count": 22,
   "id": "0d164f8b",
   "metadata": {},
   "outputs": [
    {
     "name": "stdout",
     "output_type": "stream",
     "text": [
      "<class 'float'>\n"
     ]
    }
   ],
   "source": [
    "print(type(x)) # Return an float object constructed from a float number"
   ]
  },
  {
   "cell_type": "code",
   "execution_count": null,
   "id": "85bbf2ee",
   "metadata": {},
   "outputs": [],
   "source": [
    "#example 4 ...."
   ]
  },
  {
   "cell_type": "code",
   "execution_count": 23,
   "id": "b35da4cc",
   "metadata": {},
   "outputs": [
    {
     "data": {
      "text/plain": [
       "complex"
      ]
     },
     "execution_count": 23,
     "metadata": {},
     "output_type": "execute_result"
    }
   ],
   "source": [
    "x = 1j  # only j is considering in python not other.\n",
    "type(x)"
   ]
  },
  {
   "cell_type": "code",
   "execution_count": 24,
   "id": "2ef72b26",
   "metadata": {},
   "outputs": [
    {
     "ename": "NameError",
     "evalue": "name 'j' is not defined",
     "output_type": "error",
     "traceback": [
      "\u001b[1;31m---------------------------------------------------------------------------\u001b[0m",
      "\u001b[1;31mNameError\u001b[0m                                 Traceback (most recent call last)",
      "\u001b[1;32m<ipython-input-24-7e200212156a>\u001b[0m in \u001b[0;36m<module>\u001b[1;34m\u001b[0m\n\u001b[1;32m----> 1\u001b[1;33m \u001b[0mx\u001b[0m \u001b[1;33m=\u001b[0m \u001b[0mj\u001b[0m \u001b[1;31m# NameError: name 'j' is not defined.\u001b[0m\u001b[1;33m\u001b[0m\u001b[1;33m\u001b[0m\u001b[0m\n\u001b[0m\u001b[0;32m      2\u001b[0m       \u001b[1;31m# any number must be written in multiplication of j.\u001b[0m\u001b[1;33m\u001b[0m\u001b[1;33m\u001b[0m\u001b[1;33m\u001b[0m\u001b[0m\n\u001b[0;32m      3\u001b[0m \u001b[0mx\u001b[0m\u001b[1;33m\u001b[0m\u001b[1;33m\u001b[0m\u001b[0m\n",
      "\u001b[1;31mNameError\u001b[0m: name 'j' is not defined"
     ]
    }
   ],
   "source": [
    "x = j # NameError: name 'j' is not defined.\n",
    "      # any number must be written in multiplication of j.\n",
    "x"
   ]
  },
  {
   "cell_type": "code",
   "execution_count": 25,
   "id": "d52ab090",
   "metadata": {},
   "outputs": [
    {
     "data": {
      "text/plain": [
       "(2+0j)"
      ]
     },
     "execution_count": 25,
     "metadata": {},
     "output_type": "execute_result"
    }
   ],
   "source": [
    "x = 2+0j\n",
    "x"
   ]
  },
  {
   "cell_type": "code",
   "execution_count": 26,
   "id": "9a9b1db1",
   "metadata": {},
   "outputs": [
    {
     "data": {
      "text/plain": [
       "complex"
      ]
     },
     "execution_count": 26,
     "metadata": {},
     "output_type": "execute_result"
    }
   ],
   "source": [
    "x = 2-5j\n",
    "type(x)"
   ]
  },
  {
   "cell_type": "code",
   "execution_count": 27,
   "id": "308f317e",
   "metadata": {},
   "outputs": [
    {
     "data": {
      "text/plain": [
       "(25+19j)"
      ]
     },
     "execution_count": 27,
     "metadata": {},
     "output_type": "execute_result"
    }
   ],
   "source": [
    "x = 2+5j\n",
    "y = 5-3j\n",
    "z = x*y\n",
    "z"
   ]
  },
  {
   "cell_type": "code",
   "execution_count": 28,
   "id": "025fca40",
   "metadata": {},
   "outputs": [
    {
     "ename": "SyntaxError",
     "evalue": "invalid syntax (<ipython-input-28-1f12d81f1880>, line 1)",
     "output_type": "error",
     "traceback": [
      "\u001b[1;36m  File \u001b[1;32m\"<ipython-input-28-1f12d81f1880>\"\u001b[1;36m, line \u001b[1;32m1\u001b[0m\n\u001b[1;33m    x = 2+4i  # SyntaxError: invalid syntax (complex number should be written with j)\u001b[0m\n\u001b[1;37m           ^\u001b[0m\n\u001b[1;31mSyntaxError\u001b[0m\u001b[1;31m:\u001b[0m invalid syntax\n"
     ]
    }
   ],
   "source": [
    "x = 2+4i  # SyntaxError: invalid syntax (complex number should be written with j)\n",
    "type(x)"
   ]
  },
  {
   "cell_type": "code",
   "execution_count": 29,
   "id": "a2ec6fca",
   "metadata": {},
   "outputs": [
    {
     "data": {
      "text/plain": [
       "(2+1j)"
      ]
     },
     "execution_count": 29,
     "metadata": {},
     "output_type": "execute_result"
    }
   ],
   "source": [
    "x = 2+1j\n",
    "x"
   ]
  },
  {
   "cell_type": "code",
   "execution_count": 30,
   "id": "62f34b22",
   "metadata": {},
   "outputs": [
    {
     "data": {
      "text/plain": [
       "complex"
      ]
     },
     "execution_count": 30,
     "metadata": {},
     "output_type": "execute_result"
    }
   ],
   "source": [
    "x = 2+1j\n",
    "x\n",
    "type(x)"
   ]
  },
  {
   "cell_type": "code",
   "execution_count": 31,
   "id": "034ce008",
   "metadata": {},
   "outputs": [
    {
     "data": {
      "text/plain": [
       "(2+1j)"
      ]
     },
     "execution_count": 31,
     "metadata": {},
     "output_type": "execute_result"
    }
   ],
   "source": [
    "x = 2+1j\n",
    "type(x)\n",
    "x       # last command of code will be considering"
   ]
  },
  {
   "cell_type": "code",
   "execution_count": 32,
   "id": "13095231",
   "metadata": {},
   "outputs": [
    {
     "data": {
      "text/plain": [
       "((2+1j), complex)"
      ]
     },
     "execution_count": 32,
     "metadata": {},
     "output_type": "execute_result"
    }
   ],
   "source": [
    "x = 2+1j\n",
    "x,type(x)"
   ]
  },
  {
   "cell_type": "code",
   "execution_count": 33,
   "id": "78eb6442",
   "metadata": {},
   "outputs": [
    {
     "name": "stdout",
     "output_type": "stream",
     "text": [
      "(2+1j) <class 'complex'>\n"
     ]
    }
   ],
   "source": [
    "x = 2+1j\n",
    "print(x,type(x))"
   ]
  },
  {
   "cell_type": "code",
   "execution_count": 34,
   "id": "56fee31a",
   "metadata": {},
   "outputs": [
    {
     "name": "stdout",
     "output_type": "stream",
     "text": [
      "(2+1j) <class 'complex'>\n"
     ]
    }
   ],
   "source": [
    "x = 2+1j\n",
    "print(x,\n",
    "      type(x)) ## No Error"
   ]
  },
  {
   "cell_type": "code",
   "execution_count": null,
   "id": "b62f5a28",
   "metadata": {},
   "outputs": [],
   "source": [
    "#example 5 ...."
   ]
  },
  {
   "cell_type": "code",
   "execution_count": 35,
   "id": "2e62a04d",
   "metadata": {},
   "outputs": [
    {
     "data": {
      "text/plain": [
       "(3.6, float)"
      ]
     },
     "execution_count": 35,
     "metadata": {},
     "output_type": "execute_result"
    }
   ],
   "source": [
    "x = 3.6\n",
    "x,type(x)"
   ]
  },
  {
   "cell_type": "code",
   "execution_count": null,
   "id": "9ca1f7b4",
   "metadata": {},
   "outputs": [],
   "source": [
    "#example 6 ...."
   ]
  },
  {
   "cell_type": "code",
   "execution_count": 36,
   "id": "1ab156f5",
   "metadata": {},
   "outputs": [
    {
     "data": {
      "text/plain": [
       "['apple', 'mango', 'banana']"
      ]
     },
     "execution_count": 36,
     "metadata": {},
     "output_type": "execute_result"
    }
   ],
   "source": [
    "x = [\"apple\",\"mango\",\"banana\"]\n",
    "x"
   ]
  },
  {
   "cell_type": "code",
   "execution_count": 37,
   "id": "749e52cf",
   "metadata": {},
   "outputs": [
    {
     "data": {
      "text/plain": [
       "list"
      ]
     },
     "execution_count": 37,
     "metadata": {},
     "output_type": "execute_result"
    }
   ],
   "source": [
    "x = [\"apple\",\"mango\",\"banana\"]\n",
    "type(x)"
   ]
  },
  {
   "cell_type": "code",
   "execution_count": 38,
   "id": "52990d29",
   "metadata": {},
   "outputs": [
    {
     "data": {
      "text/plain": [
       "list"
      ]
     },
     "execution_count": 38,
     "metadata": {},
     "output_type": "execute_result"
    }
   ],
   "source": [
    "x = [1,2,3,4]\n",
    "type(x)"
   ]
  },
  {
   "cell_type": "code",
   "execution_count": 39,
   "id": "bf010a2e",
   "metadata": {},
   "outputs": [
    {
     "data": {
      "text/plain": [
       "list"
      ]
     },
     "execution_count": 39,
     "metadata": {},
     "output_type": "execute_result"
    }
   ],
   "source": [
    "x = [1,2.5,2-2j,\"mango\"]\n",
    "type(x)"
   ]
  },
  {
   "cell_type": "code",
   "execution_count": null,
   "id": "cf7e4b4d",
   "metadata": {},
   "outputs": [],
   "source": [
    "#example 7 ...."
   ]
  },
  {
   "cell_type": "code",
   "execution_count": 40,
   "id": "50a906ae",
   "metadata": {},
   "outputs": [
    {
     "name": "stdout",
     "output_type": "stream",
     "text": [
      "('apple', 'mango', 'banana')\n"
     ]
    }
   ],
   "source": [
    "x = (\"apple\",\"mango\",\"banana\")\n",
    "print(x)"
   ]
  },
  {
   "cell_type": "code",
   "execution_count": 41,
   "id": "c95c120a",
   "metadata": {},
   "outputs": [
    {
     "data": {
      "text/plain": [
       "tuple"
      ]
     },
     "execution_count": 41,
     "metadata": {},
     "output_type": "execute_result"
    }
   ],
   "source": [
    "x = (\"apple\",\"mango\",\"banana\")\n",
    "type(x)"
   ]
  },
  {
   "cell_type": "code",
   "execution_count": 42,
   "id": "b63488d5",
   "metadata": {},
   "outputs": [
    {
     "data": {
      "text/plain": [
       "tuple"
      ]
     },
     "execution_count": 42,
     "metadata": {},
     "output_type": "execute_result"
    }
   ],
   "source": [
    "x = (1,2.5,2-2j,\"mango\")\n",
    "type(x)"
   ]
  },
  {
   "cell_type": "code",
   "execution_count": 43,
   "id": "dc146fe6",
   "metadata": {},
   "outputs": [
    {
     "data": {
      "text/plain": [
       "(1, 2.5, (2-2j), 'mango')"
      ]
     },
     "execution_count": 43,
     "metadata": {},
     "output_type": "execute_result"
    }
   ],
   "source": [
    "x = 1,2.5,2-2j,\"mango\"  \n",
    "x"
   ]
  },
  {
   "cell_type": "code",
   "execution_count": 44,
   "id": "00377743",
   "metadata": {},
   "outputs": [
    {
     "data": {
      "text/plain": [
       "tuple"
      ]
     },
     "execution_count": 44,
     "metadata": {},
     "output_type": "execute_result"
    }
   ],
   "source": [
    "x = 1,2.5,2-2j,\"mango\"   ## without parenthesis it return tuple\n",
    "type(x)                   "
   ]
  },
  {
   "cell_type": "code",
   "execution_count": null,
   "id": "847e8d2f",
   "metadata": {},
   "outputs": [],
   "source": [
    "#example 8 ...."
   ]
  },
  {
   "cell_type": "code",
   "execution_count": 45,
   "id": "b7b95e52",
   "metadata": {},
   "outputs": [
    {
     "data": {
      "text/plain": [
       "{'name': 'praveen', 'age': 25}"
      ]
     },
     "execution_count": 45,
     "metadata": {},
     "output_type": "execute_result"
    }
   ],
   "source": [
    "x ={\"name\" : \"praveen\", \"age\" : 25}\n",
    "x"
   ]
  },
  {
   "cell_type": "code",
   "execution_count": 46,
   "id": "d57d02ce",
   "metadata": {},
   "outputs": [
    {
     "data": {
      "text/plain": [
       "dict"
      ]
     },
     "execution_count": 46,
     "metadata": {},
     "output_type": "execute_result"
    }
   ],
   "source": [
    "x ={\"name\" : \"praveen\", \"age\" : 25} # Dictionary\n",
    "type(x)"
   ]
  },
  {
   "cell_type": "code",
   "execution_count": null,
   "id": "652289fd",
   "metadata": {},
   "outputs": [],
   "source": [
    "#example 9 ...."
   ]
  },
  {
   "cell_type": "code",
   "execution_count": 47,
   "id": "23364b35",
   "metadata": {},
   "outputs": [
    {
     "data": {
      "text/plain": [
       "{'apple', 'cherry', 'mango'}"
      ]
     },
     "execution_count": 47,
     "metadata": {},
     "output_type": "execute_result"
    }
   ],
   "source": [
    "x = {\"apple\",\"mango\",\"cherry\"}\n",
    "x"
   ]
  },
  {
   "cell_type": "code",
   "execution_count": 48,
   "id": "57ef4a7b",
   "metadata": {},
   "outputs": [
    {
     "data": {
      "text/plain": [
       "set"
      ]
     },
     "execution_count": 48,
     "metadata": {},
     "output_type": "execute_result"
    }
   ],
   "source": [
    "x = {\"apple\",\"mango\",\"cherry\"}\n",
    "type(x)"
   ]
  },
  {
   "cell_type": "code",
   "execution_count": 49,
   "id": "934f01fa",
   "metadata": {},
   "outputs": [
    {
     "data": {
      "text/plain": [
       "{2, 5, 6, 8, 9, 13, 19, 21}"
      ]
     },
     "execution_count": 49,
     "metadata": {},
     "output_type": "execute_result"
    }
   ],
   "source": [
    "x ={2,9,5,6,13,8,21,19}  # Tuple arrange numbers in ascending order  \n",
    "x   "
   ]
  },
  {
   "cell_type": "code",
   "execution_count": 50,
   "id": "e4880b29",
   "metadata": {},
   "outputs": [
    {
     "data": {
      "text/plain": [
       "{1, 3, 33, 4, 5, 55, 6.5, 7, 'a', 'ab', 'ac', 'ad', 'd'}"
      ]
     },
     "execution_count": 50,
     "metadata": {},
     "output_type": "execute_result"
    }
   ],
   "source": [
    "x = {3,1,33,5,4,55,6.5,5,7,\"ab\",\"a\",\"ad\",\"ac\",\"d\"}\n",
    "x   # arrange as per ASCII / It's arranged according to first number only after that the alphabet is now."
   ]
  },
  {
   "cell_type": "code",
   "execution_count": 51,
   "id": "23615b1e",
   "metadata": {},
   "outputs": [
    {
     "data": {
      "text/plain": [
       "{(10+5j),\n",
       " -100,\n",
       " -5,\n",
       " 1,\n",
       " 10j,\n",
       " 3,\n",
       " 33,\n",
       " 4,\n",
       " 5,\n",
       " 55,\n",
       " 6.5,\n",
       " 7,\n",
       " 'a',\n",
       " 'ab',\n",
       " 'ac',\n",
       " 'ad',\n",
       " 'd'}"
      ]
     },
     "execution_count": 51,
     "metadata": {},
     "output_type": "execute_result"
    }
   ],
   "source": [
    "x = {3,1,33,10+5j,5,-5,4,55,10j,-100,6.5,5,7,\"ab\",\"a\",\"ad\",\"ac\",\"d\"}\n",
    "x"
   ]
  },
  {
   "cell_type": "code",
   "execution_count": null,
   "id": "99642f7e",
   "metadata": {},
   "outputs": [],
   "source": [
    "#example 10 ...."
   ]
  },
  {
   "cell_type": "code",
   "execution_count": 52,
   "id": "d435b80b",
   "metadata": {},
   "outputs": [
    {
     "data": {
      "text/plain": [
       "True"
      ]
     },
     "execution_count": 52,
     "metadata": {},
     "output_type": "execute_result"
    }
   ],
   "source": [
    "x = True\n",
    "x"
   ]
  },
  {
   "cell_type": "code",
   "execution_count": 53,
   "id": "0d0d01e8",
   "metadata": {},
   "outputs": [
    {
     "ename": "NameError",
     "evalue": "name 'true' is not defined",
     "output_type": "error",
     "traceback": [
      "\u001b[1;31m---------------------------------------------------------------------------\u001b[0m",
      "\u001b[1;31mNameError\u001b[0m                                 Traceback (most recent call last)",
      "\u001b[1;32m<ipython-input-53-e58458ac7a9f>\u001b[0m in \u001b[0;36m<module>\u001b[1;34m\u001b[0m\n\u001b[1;32m----> 1\u001b[1;33m \u001b[0mx\u001b[0m \u001b[1;33m=\u001b[0m \u001b[0mtrue\u001b[0m \u001b[1;31m#NameError: name 'true' is not defined\u001b[0m\u001b[1;33m\u001b[0m\u001b[1;33m\u001b[0m\u001b[0m\n\u001b[0m\u001b[0;32m      2\u001b[0m \u001b[0mx\u001b[0m\u001b[1;33m\u001b[0m\u001b[1;33m\u001b[0m\u001b[0m\n",
      "\u001b[1;31mNameError\u001b[0m: name 'true' is not defined"
     ]
    }
   ],
   "source": [
    "x = true #NameError: name 'true' is not defined\n",
    "x"
   ]
  },
  {
   "cell_type": "code",
   "execution_count": 54,
   "id": "9b6772cc",
   "metadata": {},
   "outputs": [
    {
     "data": {
      "text/plain": [
       "bool"
      ]
     },
     "execution_count": 54,
     "metadata": {},
     "output_type": "execute_result"
    }
   ],
   "source": [
    "x = True\n",
    "type(x)"
   ]
  },
  {
   "cell_type": "code",
   "execution_count": 55,
   "id": "0dfaaf6a",
   "metadata": {},
   "outputs": [
    {
     "data": {
      "text/plain": [
       "bool"
      ]
     },
     "execution_count": 55,
     "metadata": {},
     "output_type": "execute_result"
    }
   ],
   "source": [
    "x = False\n",
    "type(x)"
   ]
  },
  {
   "cell_type": "code",
   "execution_count": null,
   "id": "eb4d41ca",
   "metadata": {},
   "outputs": [],
   "source": [
    "# Some Examples"
   ]
  },
  {
   "cell_type": "code",
   "execution_count": 56,
   "id": "06996b38",
   "metadata": {},
   "outputs": [
    {
     "data": {
      "text/plain": [
       "str"
      ]
     },
     "execution_count": 56,
     "metadata": {},
     "output_type": "execute_result"
    }
   ],
   "source": [
    "a = \"Sharma\"\n",
    "type(a)"
   ]
  },
  {
   "cell_type": "code",
   "execution_count": 57,
   "id": "e753898c",
   "metadata": {},
   "outputs": [
    {
     "data": {
      "text/plain": [
       "float"
      ]
     },
     "execution_count": 57,
     "metadata": {},
     "output_type": "execute_result"
    }
   ],
   "source": [
    "b = 5.2\n",
    "type(b)"
   ]
  },
  {
   "cell_type": "code",
   "execution_count": 58,
   "id": "1d525956",
   "metadata": {},
   "outputs": [
    {
     "data": {
      "text/plain": [
       "int"
      ]
     },
     "execution_count": 58,
     "metadata": {},
     "output_type": "execute_result"
    }
   ],
   "source": [
    "c = 3\n",
    "type(c)"
   ]
  },
  {
   "cell_type": "code",
   "execution_count": 59,
   "id": "b1bda7b8",
   "metadata": {},
   "outputs": [
    {
     "data": {
      "text/plain": [
       "int"
      ]
     },
     "execution_count": 59,
     "metadata": {},
     "output_type": "execute_result"
    }
   ],
   "source": [
    "c = 33\n",
    "type(c)"
   ]
  },
  {
   "cell_type": "code",
   "execution_count": 60,
   "id": "60344cd9",
   "metadata": {},
   "outputs": [
    {
     "data": {
      "text/plain": [
       "complex"
      ]
     },
     "execution_count": 60,
     "metadata": {},
     "output_type": "execute_result"
    }
   ],
   "source": [
    "d = 10+8j\n",
    "type(d)"
   ]
  },
  {
   "cell_type": "markdown",
   "id": "9bcfed9b",
   "metadata": {},
   "source": [
    "## Conversion into Data Type"
   ]
  },
  {
   "cell_type": "code",
   "execution_count": 61,
   "id": "3d996715",
   "metadata": {
    "scrolled": true
   },
   "outputs": [
    {
     "data": {
      "text/plain": [
       "5.0"
      ]
     },
     "execution_count": 61,
     "metadata": {},
     "output_type": "execute_result"
    }
   ],
   "source": [
    "## int into float\n",
    "x =5\n",
    "float(x)"
   ]
  },
  {
   "cell_type": "code",
   "execution_count": 62,
   "id": "8f26d66c",
   "metadata": {},
   "outputs": [
    {
     "data": {
      "text/plain": [
       "5"
      ]
     },
     "execution_count": 62,
     "metadata": {},
     "output_type": "execute_result"
    }
   ],
   "source": [
    "## float into int\n",
    "x = 5.8\n",
    "int(x)"
   ]
  },
  {
   "cell_type": "code",
   "execution_count": 63,
   "id": "c3914973",
   "metadata": {},
   "outputs": [
    {
     "data": {
      "text/plain": [
       "'5'"
      ]
     },
     "execution_count": 63,
     "metadata": {},
     "output_type": "execute_result"
    }
   ],
   "source": [
    "## int into string\n",
    "x = 5\n",
    "str(x)"
   ]
  },
  {
   "cell_type": "markdown",
   "id": "f7281450",
   "metadata": {},
   "source": [
    "### when you execute first cell command and then another. After that you insert a new cell between them and you write type(). It will be shown the type of last cell command that would be run.[69,71,70]"
   ]
  },
  {
   "cell_type": "code",
   "execution_count": 64,
   "id": "0fcf71e1",
   "metadata": {},
   "outputs": [],
   "source": [
    "x = 5.5"
   ]
  },
  {
   "cell_type": "code",
   "execution_count": 66,
   "id": "9b144d90",
   "metadata": {},
   "outputs": [
    {
     "data": {
      "text/plain": [
       "str"
      ]
     },
     "execution_count": 66,
     "metadata": {},
     "output_type": "execute_result"
    }
   ],
   "source": [
    "type(x)"
   ]
  },
  {
   "cell_type": "code",
   "execution_count": 65,
   "id": "a09610e3",
   "metadata": {},
   "outputs": [],
   "source": [
    "x = \"Rohit\""
   ]
  },
  {
   "cell_type": "code",
   "execution_count": null,
   "id": "e726acf6",
   "metadata": {},
   "outputs": [],
   "source": []
  },
  {
   "cell_type": "markdown",
   "id": "1848ee13",
   "metadata": {},
   "source": [
    "# Variables in Python"
   ]
  },
  {
   "cell_type": "markdown",
   "id": "1769cff8",
   "metadata": {},
   "source": [
    "variables are containers for storing values.\n",
    "A Python variable is a reserved memory location to store values."
   ]
  },
  {
   "cell_type": "markdown",
   "id": "53163bb5",
   "metadata": {},
   "source": [
    "# Declaring Variable"
   ]
  },
  {
   "cell_type": "markdown",
   "id": "ec00a679",
   "metadata": {},
   "source": [
    "Python has no command for declaring the variables.\n",
    "When you assign a value to a variable, then a variable is created."
   ]
  },
  {
   "cell_type": "code",
   "execution_count": 67,
   "id": "96324da2",
   "metadata": {},
   "outputs": [],
   "source": [
    "x = 18 ### declaring a variable"
   ]
  },
  {
   "cell_type": "code",
   "execution_count": 68,
   "id": "37efae78",
   "metadata": {},
   "outputs": [
    {
     "data": {
      "text/plain": [
       "18"
      ]
     },
     "execution_count": 68,
     "metadata": {},
     "output_type": "execute_result"
    }
   ],
   "source": [
    "x  ### showing the o/p"
   ]
  },
  {
   "cell_type": "code",
   "execution_count": 69,
   "id": "eec21f4a",
   "metadata": {},
   "outputs": [
    {
     "ename": "NameError",
     "evalue": "name 'Saktimaan' is not defined",
     "output_type": "error",
     "traceback": [
      "\u001b[1;31m---------------------------------------------------------------------------\u001b[0m",
      "\u001b[1;31mNameError\u001b[0m                                 Traceback (most recent call last)",
      "\u001b[1;32m<ipython-input-69-68075990b3d7>\u001b[0m in \u001b[0;36m<module>\u001b[1;34m\u001b[0m\n\u001b[1;32m----> 1\u001b[1;33m \u001b[0mName\u001b[0m \u001b[1;33m=\u001b[0m \u001b[0mSaktimaan\u001b[0m  \u001b[1;31m### NameError: name 'Saktimaan' is not defined\u001b[0m\u001b[1;33m\u001b[0m\u001b[1;33m\u001b[0m\u001b[0m\n\u001b[0m\u001b[0;32m      2\u001b[0m \u001b[0mName\u001b[0m\u001b[1;33m\u001b[0m\u001b[1;33m\u001b[0m\u001b[0m\n",
      "\u001b[1;31mNameError\u001b[0m: name 'Saktimaan' is not defined"
     ]
    }
   ],
   "source": [
    "Name = Saktimaan  ### NameError: name 'Saktimaan' is not defined\n",
    "Name"
   ]
  },
  {
   "cell_type": "code",
   "execution_count": 70,
   "id": "133ad9d2",
   "metadata": {},
   "outputs": [
    {
     "data": {
      "text/plain": [
       "'Saktimaan'"
      ]
     },
     "execution_count": 70,
     "metadata": {},
     "output_type": "execute_result"
    }
   ],
   "source": [
    "Name =\"Saktimaan\"\n",
    "Name"
   ]
  },
  {
   "cell_type": "code",
   "execution_count": 71,
   "id": "fed875ef",
   "metadata": {},
   "outputs": [
    {
     "data": {
      "text/plain": [
       "'Gangadhar'"
      ]
     },
     "execution_count": 71,
     "metadata": {},
     "output_type": "execute_result"
    }
   ],
   "source": [
    "Nick_Name =\"Gangadhar\"\n",
    "Nick_Name"
   ]
  },
  {
   "cell_type": "code",
   "execution_count": 72,
   "id": "408b5e26",
   "metadata": {},
   "outputs": [
    {
     "data": {
      "text/plain": [
       "'Gangadhar'"
      ]
     },
     "execution_count": 72,
     "metadata": {},
     "output_type": "execute_result"
    }
   ],
   "source": [
    "_NickName =\"Gangadhar\"\n",
    "_NickName"
   ]
  },
  {
   "cell_type": "code",
   "execution_count": 73,
   "id": "f98efa93",
   "metadata": {},
   "outputs": [
    {
     "ename": "SyntaxError",
     "evalue": "invalid syntax (<ipython-input-73-05b9e1fd850c>, line 1)",
     "output_type": "error",
     "traceback": [
      "\u001b[1;36m  File \u001b[1;32m\"<ipython-input-73-05b9e1fd850c>\"\u001b[1;36m, line \u001b[1;32m1\u001b[0m\n\u001b[1;33m    1NickName =\"Gangadhar\"  ### SyntaxError: invalid syntax\u001b[0m\n\u001b[1;37m     ^\u001b[0m\n\u001b[1;31mSyntaxError\u001b[0m\u001b[1;31m:\u001b[0m invalid syntax\n"
     ]
    }
   ],
   "source": [
    "1NickName =\"Gangadhar\"  ### SyntaxError: invalid syntax\n",
    "1NickName               ### variable should not start with number."
   ]
  },
  {
   "cell_type": "code",
   "execution_count": 74,
   "id": "fecc2da1",
   "metadata": {},
   "outputs": [
    {
     "data": {
      "text/plain": [
       "'Gangadhar'"
      ]
     },
     "execution_count": 74,
     "metadata": {},
     "output_type": "execute_result"
    }
   ],
   "source": [
    "Nick11Name =\"Gangadhar\" ### After writing first alphabetical letter you can write number anywhere.\n",
    "Nick11Name "
   ]
  },
  {
   "cell_type": "code",
   "execution_count": 75,
   "id": "116e8246",
   "metadata": {},
   "outputs": [
    {
     "data": {
      "text/plain": [
       "'Gangadhar'"
      ]
     },
     "execution_count": 75,
     "metadata": {},
     "output_type": "execute_result"
    }
   ],
   "source": [
    "NickName11 =\"Gangadhar\" \n",
    "NickName11 "
   ]
  },
  {
   "cell_type": "code",
   "execution_count": null,
   "id": "f68cc5c1",
   "metadata": {},
   "outputs": [],
   "source": [
    "Nick&&Name =\"Gangadhar\"  ### SyntaxError: invalid syntax\n",
    "Nick&&Name  "
   ]
  },
  {
   "cell_type": "code",
   "execution_count": null,
   "id": "ef8f9d36",
   "metadata": {},
   "outputs": [],
   "source": [
    "Nick@Name =\"Gangadhar\"  ### SyntaxError: cannot assign to operator\n",
    "Nick@Name               ### No other symbol allow in Python except Underscore(_)"
   ]
  },
  {
   "cell_type": "code",
   "execution_count": null,
   "id": "d02eecc8",
   "metadata": {},
   "outputs": [],
   "source": [
    "Nick~Name =\"Gangadhar\"  ### SyntaxError: invalid syntax\n",
    "Nick~Name               ### No other symbol allow in Python except Underscore(_)"
   ]
  },
  {
   "cell_type": "code",
   "execution_count": null,
   "id": "56778a68",
   "metadata": {},
   "outputs": [],
   "source": [
    "Nick$Name =\"Gangadhar\"  ### SyntaxError: invalid syntax\n",
    "Nick$Name               ### No other symbol allow in Python except Underscore(_)"
   ]
  },
  {
   "cell_type": "code",
   "execution_count": 76,
   "id": "d30100d1",
   "metadata": {},
   "outputs": [
    {
     "data": {
      "text/plain": [
       "25"
      ]
     },
     "execution_count": 76,
     "metadata": {},
     "output_type": "execute_result"
    }
   ],
   "source": [
    "age = 25\n",
    "age"
   ]
  },
  {
   "cell_type": "code",
   "execution_count": 77,
   "id": "5e4adea7",
   "metadata": {},
   "outputs": [
    {
     "ename": "NameError",
     "evalue": "name 'Age' is not defined",
     "output_type": "error",
     "traceback": [
      "\u001b[1;31m---------------------------------------------------------------------------\u001b[0m",
      "\u001b[1;31mNameError\u001b[0m                                 Traceback (most recent call last)",
      "\u001b[1;32m<ipython-input-77-d83da0026d22>\u001b[0m in \u001b[0;36m<module>\u001b[1;34m\u001b[0m\n\u001b[1;32m----> 1\u001b[1;33m \u001b[0mAge\u001b[0m \u001b[1;31m### NameError: name 'Age' is not defined\u001b[0m\u001b[1;33m\u001b[0m\u001b[1;33m\u001b[0m\u001b[0m\n\u001b[0m",
      "\u001b[1;31mNameError\u001b[0m: name 'Age' is not defined"
     ]
    }
   ],
   "source": [
    "Age ### NameError: name 'Age' is not defined"
   ]
  },
  {
   "cell_type": "code",
   "execution_count": null,
   "id": "7556df8f",
   "metadata": {},
   "outputs": [],
   "source": [
    "AGE  ### NameError: name 'Age' is not defined\n",
    "     ### case-sensitive(age, Age and AGE are three different variables )"
   ]
  }
 ],
 "metadata": {
  "kernelspec": {
   "display_name": "Python 3",
   "language": "python",
   "name": "python3"
  },
  "language_info": {
   "codemirror_mode": {
    "name": "ipython",
    "version": 3
   },
   "file_extension": ".py",
   "mimetype": "text/x-python",
   "name": "python",
   "nbconvert_exporter": "python",
   "pygments_lexer": "ipython3",
   "version": "3.8.8"
  }
 },
 "nbformat": 4,
 "nbformat_minor": 5
}
