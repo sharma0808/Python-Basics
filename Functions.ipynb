{
 "cells": [
  {
   "cell_type": "markdown",
   "id": "fb16a08d",
   "metadata": {},
   "source": [
    "# Functions"
   ]
  },
  {
   "cell_type": "markdown",
   "id": "06fd4980",
   "metadata": {},
   "source": [
    "## Three Types Functions:\n",
    "### 1. built-in functions\n",
    "### 2. user-defined functions\n",
    "### 3. lambda functions    -  lambda arguments : expression"
   ]
  },
  {
   "cell_type": "markdown",
   "id": "34d1fd5d",
   "metadata": {},
   "source": [
    "#### built-in functions"
   ]
  },
  {
   "cell_type": "code",
   "execution_count": 1,
   "id": "6e54c5af",
   "metadata": {},
   "outputs": [],
   "source": [
    "## max(), min(), int(), sum(), len() are built in functions"
   ]
  },
  {
   "cell_type": "markdown",
   "id": "d81582c0",
   "metadata": {},
   "source": [
    "#### user-defined functions"
   ]
  },
  {
   "cell_type": "code",
   "execution_count": 2,
   "id": "4b5e02ed",
   "metadata": {},
   "outputs": [
    {
     "name": "stdout",
     "output_type": "stream",
     "text": [
      "Hello\n"
     ]
    }
   ],
   "source": [
    "### code implementation for function without parameter:\n",
    "def greeting():   ## the function greeting is declared\n",
    "    print(\"Hello\")  ## it will print the hello\n",
    "    \n",
    "greeting()   ## when greeting function is callled it will execute the statement inside the function"
   ]
  },
  {
   "cell_type": "code",
   "execution_count": 3,
   "id": "16a95e88",
   "metadata": {},
   "outputs": [
    {
     "name": "stdout",
     "output_type": "stream",
     "text": [
      "Enter Your Name :Salman Khan\n",
      "Hi, Salman Khan Welcome to BiggBoss\n"
     ]
    }
   ],
   "source": [
    "def BigBoss():\n",
    "  name = str(input('Enter Your Name :'))\n",
    "  print('Hi, %s Welcome to BiggBoss'%name)\n",
    "\n",
    "BigBoss()"
   ]
  },
  {
   "cell_type": "code",
   "execution_count": 4,
   "id": "0fb604b4",
   "metadata": {},
   "outputs": [
    {
     "name": "stdout",
     "output_type": "stream",
     "text": [
      "Select 1 for addition\n",
      "Select 2 for multiplication\n",
      "Select the operation : 2\n"
     ]
    },
    {
     "data": {
      "text/plain": [
       "20"
      ]
     },
     "execution_count": 4,
     "metadata": {},
     "output_type": "execute_result"
    }
   ],
   "source": [
    "def operation(n1,n2):       ## operation is user defined function name \n",
    "    print(\"Select 1 for addition\")  ## printing a choice of operation performed\n",
    "    print(\"Select 2 for multiplication\")\n",
    "    select=int(input(\"Select the operation : \"))  ## select the choice of operation from the user and store it into select variable.\n",
    "    if select==1:\n",
    "        sum=n1+n2\n",
    "        return sum\n",
    "    elif select==2:\n",
    "        mul=n1*n2\n",
    "        return mul\n",
    "    else:\n",
    "        return 'invalid option'\n",
    "operation(4,5)    ## Here we call the function and pass the argument"
   ]
  },
  {
   "cell_type": "markdown",
   "id": "f7dddfd3",
   "metadata": {},
   "source": [
    "#### lambda functions"
   ]
  },
  {
   "cell_type": "code",
   "execution_count": 5,
   "id": "6ff9fb3c",
   "metadata": {},
   "outputs": [
    {
     "name": "stdout",
     "output_type": "stream",
     "text": [
      "30\n"
     ]
    }
   ],
   "source": [
    "sum=lambda x,y,z:x+y+z\n",
    "print(sum(9,10,11))"
   ]
  },
  {
   "cell_type": "code",
   "execution_count": 6,
   "id": "813fe84a",
   "metadata": {},
   "outputs": [
    {
     "data": {
      "text/plain": [
       "30"
      ]
     },
     "execution_count": 6,
     "metadata": {},
     "output_type": "execute_result"
    }
   ],
   "source": [
    "sum=lambda x,y,z:x+y+z\n",
    "\n",
    "sum(9,10,11)"
   ]
  },
  {
   "cell_type": "code",
   "execution_count": 7,
   "id": "872394c3",
   "metadata": {},
   "outputs": [
    {
     "name": "stdout",
     "output_type": "stream",
     "text": [
      "41\n"
     ]
    }
   ],
   "source": [
    "mul=lambda w,x,y,z:(w+x)*y-z\n",
    "print(mul(8,2,5,9))"
   ]
  },
  {
   "cell_type": "markdown",
   "id": "81b82bc0",
   "metadata": {},
   "source": [
    "#### Three built-in lambda functions in Python\n",
    "##### . Filter\n",
    "##### . Map\n",
    "##### . Reduce"
   ]
  },
  {
   "cell_type": "code",
   "execution_count": 8,
   "id": "493a8863",
   "metadata": {},
   "outputs": [
    {
     "name": "stdout",
     "output_type": "stream",
     "text": [
      "[7, 9, 15, 35, 11, 41]\n"
     ]
    }
   ],
   "source": [
    "li=[7,9,15,35,18,11,50,41]\n",
    "final_list=list(filter(lambda x:(x%2 != 0),li))\n",
    "print(final_list)"
   ]
  },
  {
   "cell_type": "code",
   "execution_count": 9,
   "id": "6b52bf40",
   "metadata": {},
   "outputs": [
    {
     "name": "stdout",
     "output_type": "stream",
     "text": [
      "[14, 18, 30, 70, 36, 22, 100, 82]\n"
     ]
    }
   ],
   "source": [
    "li=[7,9,15,35,18,11,50,41]\n",
    "final_list=list(map((lambda x:x*2),li))\n",
    "print(final_list)"
   ]
  },
  {
   "cell_type": "code",
   "execution_count": 10,
   "id": "8e21ce00",
   "metadata": {},
   "outputs": [
    {
     "name": "stdout",
     "output_type": "stream",
     "text": [
      "83\n"
     ]
    }
   ],
   "source": [
    "from functools import reduce\n",
    "li=[5,10,15,8,20,25]\n",
    "sum=reduce((lambda x,y:x+y),li)\n",
    "print(sum)"
   ]
  },
  {
   "cell_type": "code",
   "execution_count": null,
   "id": "67534419",
   "metadata": {},
   "outputs": [],
   "source": []
  }
 ],
 "metadata": {
  "kernelspec": {
   "display_name": "Python 3",
   "language": "python",
   "name": "python3"
  },
  "language_info": {
   "codemirror_mode": {
    "name": "ipython",
    "version": 3
   },
   "file_extension": ".py",
   "mimetype": "text/x-python",
   "name": "python",
   "nbconvert_exporter": "python",
   "pygments_lexer": "ipython3",
   "version": "3.8.8"
  }
 },
 "nbformat": 4,
 "nbformat_minor": 5
}
