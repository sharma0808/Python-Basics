{
 "cells": [
  {
   "cell_type": "markdown",
   "id": "7731defe",
   "metadata": {},
   "source": [
    "## Inheritance"
   ]
  },
  {
   "cell_type": "markdown",
   "id": "e6a66754",
   "metadata": {},
   "source": [
    "### Types of Inheritance\n",
    "                            - Single Inheritance\n",
    "                            - Multiple Inheritance\n",
    "                            - Multilevel Inheritance"
   ]
  },
  {
   "cell_type": "code",
   "execution_count": 1,
   "id": "5c270fd7",
   "metadata": {},
   "outputs": [
    {
     "name": "stdout",
     "output_type": "stream",
     "text": [
      "This is an employee\n",
      "This is an programmer\n",
      "Google\n"
     ]
    }
   ],
   "source": [
    "# Single Inheritance \n",
    "# How to inherit properties of Base/Parent class through Derived/child class\n",
    "class Employee:\n",
    "    company = \"Google\"\n",
    "\n",
    "    def showDetails(self):\n",
    "        print(\"This is an employee\")\n",
    "\n",
    "class Programmer(Employee):\n",
    "    \n",
    "    def showDetails(self):\n",
    "        print(\"This is an programmer\")\n",
    "\n",
    "e = Employee()\n",
    "e.showDetails()\n",
    "p = Programmer()\n",
    "p.showDetails()\n",
    "print(p.company)"
   ]
  },
  {
   "cell_type": "code",
   "execution_count": 2,
   "id": "e85c3a66",
   "metadata": {},
   "outputs": [
    {
     "name": "stdout",
     "output_type": "stream",
     "text": [
      "This is an employee\n",
      "This is an programmer\n",
      "Youtube\n"
     ]
    }
   ],
   "source": [
    "# How to overwrite the properties of Base class through Derived class\n",
    "class Employee:\n",
    "    company = \"Google\"\n",
    "\n",
    "    def showDetails(self):\n",
    "        print(\"This is an employee\")\n",
    "\n",
    "class Programmer(Employee):\n",
    "    language = \"Python\"\n",
    "    company = \"Youtube\"\n",
    "\n",
    "    def getLanguage(self):\n",
    "        print(f\"The language is {self.language}\")\n",
    "    \n",
    "    def showDetails(self):\n",
    "        print(\"This is an programmer\")\n",
    "\n",
    "\n",
    "e = Employee()\n",
    "e.showDetails()\n",
    "p = Programmer()\n",
    "p.showDetails()\n",
    "print(p.company)"
   ]
  },
  {
   "cell_type": "code",
   "execution_count": 3,
   "id": "3e4492da",
   "metadata": {},
   "outputs": [
    {
     "name": "stdout",
     "output_type": "stream",
     "text": [
      "Fiverr\n"
     ]
    }
   ],
   "source": [
    "# Multiple Inheritance\n",
    "class Freelancer:\n",
    "    company = \"Fiverr\"\n",
    "    level = 0\n",
    "\n",
    "    def upgradeLevel(self):\n",
    "        self.level = self.level + 1\n",
    "\n",
    "class Employee:\n",
    "    company = \"Visa\"\n",
    "    eCode = 120\n",
    "\n",
    "\n",
    "class Programmer(Freelancer, Employee): \n",
    "    name = \"Rohit\"\n",
    "\n",
    "p = Programmer()\n",
    "p.upgradeLevel()\n",
    "print(p.company)"
   ]
  },
  {
   "cell_type": "code",
   "execution_count": 4,
   "id": "93b44870",
   "metadata": {},
   "outputs": [
    {
     "name": "stdout",
     "output_type": "stream",
     "text": [
      "I am breathing...\n",
      "I am an Employee so I am luckily breathing..\n",
      "Honda\n",
      "I am a Progarmmer so I am breathing++..\n",
      "Fiverr\n",
      "India\n"
     ]
    }
   ],
   "source": [
    "#  Multilevel Inheritance\n",
    "class Person:\n",
    "    country = \"India\"\n",
    "    def takeBreath(self):\n",
    "        print(\"I am breathing...\")\n",
    "\n",
    "class Employee(Person):\n",
    "    company = \"Honda\"\n",
    "\n",
    "    def getSalary(self):\n",
    "        print(f\"Salary is {self.salary}\")\n",
    "    \n",
    "    def takeBreath(self):\n",
    "        print(\"I am an Employee so I am luckily breathing..\")\n",
    "\n",
    "class Programmer(Employee):\n",
    "    company = \"Fiverr\"\n",
    "    \n",
    "    def getSalary(self):\n",
    "        print(f\"No salary to programmers\")\n",
    "    \n",
    "    def takeBreath(self):\n",
    "        print(\"I am a Progarmmer so I am breathing++..\")\n",
    "\n",
    "p = Person()\n",
    "p.takeBreath()\n",
    "# print(p.company) # throws an error\n",
    "\n",
    "e = Employee()\n",
    "e.takeBreath()\n",
    "print(e.company)\n",
    "\n",
    "pr = Programmer()\n",
    "pr.takeBreath()\n",
    "print(pr.company)\n",
    "print(pr.country)\n"
   ]
  },
  {
   "cell_type": "code",
   "execution_count": 5,
   "id": "b55fc954",
   "metadata": {},
   "outputs": [
    {
     "name": "stdout",
     "output_type": "stream",
     "text": [
      "Initializing Person...\n",
      "\n",
      "Initializing Employee...\n",
      "\n",
      "Initializing Programmer...\n",
      "\n"
     ]
    }
   ],
   "source": [
    "# Super() method\n",
    "class Person:\n",
    "    country = \"India\"\n",
    "\n",
    "    def __init__(self):\n",
    "        print(\"Initializing Person...\\n\")\n",
    "\n",
    "    def takeBreath(self):\n",
    "        print(\"I am breathing...\")\n",
    "\n",
    "class Employee(Person):\n",
    "    company = \"Honda\"\n",
    "\n",
    "    def __init__(self):\n",
    "        super().__init__()\n",
    "        print(\"Initializing Employee...\\n\")\n",
    "\n",
    "    def getSalary(self):\n",
    "        print(f\"Salary is {self.salary}\")\n",
    "    \n",
    "    def takeBreath(self):\n",
    "        super().takeBreath()\n",
    "        print(\"I am an Employee so I am luckily breathing..\")\n",
    "\n",
    "class Programmer(Employee):\n",
    "    company = \"Fiverr\"\n",
    "\n",
    "    def __init__(self):\n",
    "        super().__init__()\n",
    "        print(\"Initializing Programmer...\\n\")\n",
    "\n",
    "    def getSalary(self):\n",
    "        print(f\"No salary to programmers\")\n",
    "    \n",
    "    def takeBreath(self):\n",
    "        super().takeBreath()\n",
    "        print(\"I am a Progarmmer so I am breathing++..\")\n",
    "\n",
    "# p = Person()\n",
    "# p.takeBreath() \n",
    "\n",
    "# e = Employee()\n",
    "# e.takeBreath() \n",
    "\n",
    "pr = Programmer()\n",
    "# pr.takeBreath() \n"
   ]
  },
  {
   "cell_type": "code",
   "execution_count": 6,
   "id": "482ec272",
   "metadata": {},
   "outputs": [
    {
     "name": "stdout",
     "output_type": "stream",
     "text": [
      "100\n",
      "455\n",
      "455\n"
     ]
    }
   ],
   "source": [
    "# change class attribute by using class method (@classmethod) without creating class object\n",
    "class Employee:\n",
    "    company = \"Camel\"\n",
    "    salary = 100\n",
    "    location = \"Delhi\"\n",
    "\n",
    "    # def changeSalary(self, sal):\n",
    "    #     self.__class__.salary = sal\n",
    "\n",
    "    @classmethod\n",
    "    def changeSalary(cls, sal):\n",
    "        cls.salary = sal\n",
    "\n",
    "e = Employee()\n",
    "print(e.salary)\n",
    "e.changeSalary(455)\n",
    "print(e.salary)\n",
    "print(Employee.salary)\n"
   ]
  },
  {
   "cell_type": "code",
   "execution_count": 7,
   "id": "f10dac1a",
   "metadata": {},
   "outputs": [
    {
     "name": "stdout",
     "output_type": "stream",
     "text": [
      "6000\n",
      "5600\n",
      "200\n"
     ]
    }
   ],
   "source": [
    "# use of @property in python (getters and setters)\n",
    "class Employee:\n",
    "    company = \"Bharat Gas\"\n",
    "    salary = 5600\n",
    "    salarybonus = 400\n",
    "    # totalSalary = 6100\n",
    "\n",
    "    @property\n",
    "    def totalSalary(self):\n",
    "        return self.salary + self.salarybonus\n",
    "\n",
    "    @totalSalary.setter\n",
    "    def totalSalary(self, val):\n",
    "        self.salarybonus = val - self.salary\n",
    "\n",
    "e = Employee()\n",
    "print(e.totalSalary)\n",
    "e.totalSalary = 5800\n",
    "print(e.salary)\n",
    "print(e.salarybonus)"
   ]
  },
  {
   "cell_type": "code",
   "execution_count": 8,
   "id": "b7e4b9f4",
   "metadata": {},
   "outputs": [
    {
     "name": "stdout",
     "output_type": "stream",
     "text": [
      "Lets add\n",
      "Lets multiply\n",
      "10\n",
      "24\n"
     ]
    }
   ],
   "source": [
    "# operator overloading in python\n",
    "class Number:\n",
    "    def __init__(self, num):\n",
    "        self.num = num\n",
    "\n",
    "    def __add__(self, num2):\n",
    "        print(\"Lets add\")\n",
    "        return self.num + num2.num\n",
    "\n",
    "    def __mul__(self, num2):\n",
    "        print(\"Lets multiply\")\n",
    "        return self.num * num2.num\n",
    "\n",
    "n1 = Number(4)\n",
    "n2 = Number(6)\n",
    "sum = n1 + n2\n",
    "mul = n1 * n2\n",
    "print(sum)\n",
    "print(mul)"
   ]
  },
  {
   "cell_type": "code",
   "execution_count": 9,
   "id": "713d1e9d",
   "metadata": {},
   "outputs": [
    {
     "name": "stdout",
     "output_type": "stream",
     "text": [
      "Decimal Number: 9\n",
      "1\n"
     ]
    }
   ],
   "source": [
    "# other operators \n",
    "class Number:\n",
    "    def __init__(self, num):\n",
    "        self.num = num\n",
    "\n",
    "    def __add__(self, num2):\n",
    "        print(\"Lets add\")\n",
    "        return self.num + num2.num\n",
    "\n",
    "    def __mul__(self, num2):\n",
    "        print(\"Lets multiply\")\n",
    "        return self.num * num2.num\n",
    "    \n",
    "    def __str__(self):\n",
    "        return f\"Decimal Number: {self.num}\"\n",
    "    \n",
    "    def __len__(self):\n",
    "        return 1\n",
    "\n",
    "n = Number(9)\n",
    "print(n)\n",
    "print(len(n))"
   ]
  },
  {
   "cell_type": "markdown",
   "id": "c68651c4",
   "metadata": {},
   "source": [
    "### 1.  Create a class C-2d vector and use it to create another class representing a 3-d vector."
   ]
  },
  {
   "cell_type": "code",
   "execution_count": 10,
   "id": "86973de0",
   "metadata": {},
   "outputs": [
    {
     "name": "stdout",
     "output_type": "stream",
     "text": [
      "1i + 3j\n",
      "1i + 9j + 7k\n"
     ]
    }
   ],
   "source": [
    "class C2dVec:\n",
    "    def __init__(self, i, j):\n",
    "        self.icap = i\n",
    "        self.jcap = j\n",
    "\n",
    "    def __str__(self):\n",
    "        return f\"{self.icap}i + {self.jcap}j\"\n",
    "\n",
    "class C3dVec(C2dVec):\n",
    "    def __init__(self, i, j, k):\n",
    "        super().__init__(i, j)\n",
    "        self.kcap = k\n",
    "    \n",
    "    def __str__(self):\n",
    "        return f\"{self.icap}i + {self.jcap}j + {self.kcap}k\"\n",
    "    \n",
    "    \n",
    "v2d = C2dVec(1, 3)\n",
    "v3d = C3dVec(1, 9, 7)\n",
    "print(v2d)\n",
    "print(v3d)\n",
    "        "
   ]
  },
  {
   "cell_type": "markdown",
   "id": "2483f85f",
   "metadata": {},
   "source": [
    "### 2. Create a class pets from a class Animals and further create class Dog from Pets. Add a method bark to class Dog."
   ]
  },
  {
   "cell_type": "code",
   "execution_count": 11,
   "id": "717dce49",
   "metadata": {},
   "outputs": [
    {
     "name": "stdout",
     "output_type": "stream",
     "text": [
      "Bow bow!\n"
     ]
    }
   ],
   "source": [
    "class Animals:\n",
    "    animalType = \"Mammal\"\n",
    "\n",
    "class Pets:\n",
    "    color = \"White\"\n",
    "\n",
    "class Dog:\n",
    "    @staticmethod\n",
    "    def bark():\n",
    "        print(\"Bow bow!\")\n",
    "\n",
    "d  = Dog()\n",
    "d.bark()"
   ]
  },
  {
   "cell_type": "markdown",
   "id": "cad682f9",
   "metadata": {},
   "source": [
    "### 3. Create a class Employee and add salary and increment properties to it. \n",
    "###  Write a method salary After increment method with a @property decorator with a setter which changes the value of increment based on the salary.\n"
   ]
  },
  {
   "cell_type": "code",
   "execution_count": 12,
   "id": "23325180",
   "metadata": {},
   "outputs": [
    {
     "name": "stdout",
     "output_type": "stream",
     "text": [
      "1500.0\n",
      "1.5\n",
      "2.0\n"
     ]
    }
   ],
   "source": [
    "# salaryAfterIncrement =  salary * increment\n",
    "\n",
    "class Employee:\n",
    "    salary = 1000\n",
    "    increment = 1.5\n",
    "    @property\n",
    "    def salaryAfterIncrement(self):\n",
    "        return self.salary*self.increment\n",
    "    \n",
    "    @salaryAfterIncrement.setter\n",
    "    def salaryAfterIncrement(self, sai):\n",
    "        self.increment = sai/self.salary\n",
    "\n",
    "e = Employee()\n",
    "print(e.salaryAfterIncrement)\n",
    "\n",
    "print(e.increment)\n",
    "e.salaryAfterIncrement = 2000\n",
    "print(e.increment)"
   ]
  },
  {
   "cell_type": "markdown",
   "id": "19a86622",
   "metadata": {},
   "source": [
    "### 4. Write a class Complex to represent Complex numbers, along with overloaded operators + and * which adds and multiplies them. "
   ]
  },
  {
   "cell_type": "code",
   "execution_count": 13,
   "id": "f8c76d31",
   "metadata": {},
   "outputs": [
    {
     "name": "stdout",
     "output_type": "stream",
     "text": [
      "332 - 41i\n",
      "183 - 1361i\n"
     ]
    }
   ],
   "source": [
    "# (a+bi)(c+di) = (ac−bd) + (ad+bc)i\n",
    "\n",
    "class Complex:\n",
    "    def __init__(self, r, i):\n",
    "        self.real = r \n",
    "        self.imaginary = i\n",
    "\n",
    "    def __add__(self, c):\n",
    "        return Complex(self.real + c.real, self.imaginary + c.imaginary)\n",
    "    \n",
    "    def __mul__(self, c):\n",
    "        mulReal =  self.real*c.real - self.imaginary*c.imaginary\n",
    "        mulImg =  self.real*c.imaginary + self.imaginary*c.real\n",
    "        return Complex(mulReal, mulImg)\n",
    "\n",
    "    def __str__(self):\n",
    "        if self.imaginary<0:\n",
    "            return f\"{self.real} - {-self.imaginary}i\"\n",
    "        else:\n",
    "            return f\"{self.real} + {self.imaginary}i\"\n",
    "\n",
    "c1 = Complex(1, -4)\n",
    "c2 = Complex(331, -37)\n",
    "print(c1 + c2)\n",
    "print(c1 * c2)"
   ]
  },
  {
   "cell_type": "markdown",
   "id": "f30c573c",
   "metadata": {},
   "source": [
    "### 5.  Write a class Vector representing a vector of n dimension. Overload the  + and * operator which calculates the sum and the dot product off them. "
   ]
  },
  {
   "cell_type": "code",
   "execution_count": 14,
   "id": "48e6575f",
   "metadata": {},
   "outputs": [
    {
     "name": "stdout",
     "output_type": "stream",
     "text": [
      " 2a0 + 10a1 + 15a2 \n",
      "79\n"
     ]
    }
   ],
   "source": [
    "class Vector:\n",
    "    def __init__(self, vec):\n",
    "       self.vec = vec\n",
    "    \n",
    "    def __str__(self):\n",
    "        str1 = \"\" \n",
    "        index = 0\n",
    "        for i in self.vec:\n",
    "            str1 += f\" {i}a{index} +\"\n",
    "            index +=1\n",
    "        return str1[:-1]\n",
    "\n",
    "    def __add__(self, vec2):\n",
    "        newList = []\n",
    "        for i in range(len(self.vec)):\n",
    "            newList.append(self.vec[i] + vec2.vec[i])\n",
    "        return Vector(newList)\n",
    "    \n",
    "    def __mul__(self, vec2):\n",
    "        sum = 0\n",
    "        for i in range(len(self.vec)):\n",
    "            sum += self.vec[i] * vec2.vec[i]\n",
    "        return sum\n",
    "\n",
    "v1 = Vector([1, 4, 6])\n",
    "v2 = Vector([1, 6, 9])\n",
    "print(v1+v2)\n",
    "print(v1*v2)"
   ]
  },
  {
   "cell_type": "markdown",
   "id": "eeb00c0d",
   "metadata": {},
   "source": [
    "### 6. Write __str__() method to print the vector as follows:\n",
    "             7i^ + 8j^ + 10k^\n",
    "       Assume vector of dimension 3 for this problem."
   ]
  },
  {
   "cell_type": "code",
   "execution_count": 15,
   "id": "b5dd5cf9",
   "metadata": {},
   "outputs": [
    {
     "name": "stdout",
     "output_type": "stream",
     "text": [
      "1i + 4j + 6k\n",
      "1i + 6j + 9k\n"
     ]
    }
   ],
   "source": [
    "class Vector:\n",
    "    def __init__(self, vec):\n",
    "       self.vec = vec\n",
    "    \n",
    "    def __str__(self):\n",
    "        return f\"{self.vec[0]}i + {self.vec[1]}j + {self.vec[2]}k\"\n",
    " \n",
    "\n",
    "v1 = Vector([1, 4, 6])\n",
    "v2 = Vector([1, 6, 9])\n",
    "print(v1)\n",
    "print(v2)"
   ]
  },
  {
   "cell_type": "markdown",
   "id": "1e5cde1e",
   "metadata": {},
   "source": [
    "### 7. Overide the __len__() method on Vector of problem 5 to display the dimension of the vector. "
   ]
  },
  {
   "cell_type": "code",
   "execution_count": 16,
   "id": "d71c6919",
   "metadata": {},
   "outputs": [
    {
     "name": "stdout",
     "output_type": "stream",
     "text": [
      "4\n",
      "3\n"
     ]
    }
   ],
   "source": [
    "class Vector:\n",
    "    def __init__(self, vec):\n",
    "       self.vec = vec\n",
    "    \n",
    "    def __str__(self):\n",
    "        str1 = \"\" \n",
    "        index = 0\n",
    "        for i in self.vec:\n",
    "            str1 += f\" {i}a{index} +\"\n",
    "            index +=1\n",
    "        return str1[:-1]\n",
    "\n",
    "    def __add__(self, vec2):\n",
    "        newList = []\n",
    "        for i in range(len(self.vec)):\n",
    "            newList.append(self.vec[i] + vec2.vec[i])\n",
    "        return Vector(newList)\n",
    "    \n",
    "    def __mul__(self, vec2):\n",
    "        sum = 0\n",
    "        for i in range(len(self.vec)):\n",
    "            sum += self.vec[i] * vec2.vec[i]\n",
    "        return sum\n",
    "    \n",
    "    def __len__(self):\n",
    "        return len(self.vec)\n",
    "\n",
    "v1 = Vector([1, 4, 6, 6])\n",
    "v2 = Vector([1, 6, 9])\n",
    "print(len(v1))\n",
    "print(len(v2))"
   ]
  },
  {
   "cell_type": "code",
   "execution_count": null,
   "id": "f549317c",
   "metadata": {},
   "outputs": [],
   "source": []
  }
 ],
 "metadata": {
  "kernelspec": {
   "display_name": "Python 3",
   "language": "python",
   "name": "python3"
  },
  "language_info": {
   "codemirror_mode": {
    "name": "ipython",
    "version": 3
   },
   "file_extension": ".py",
   "mimetype": "text/x-python",
   "name": "python",
   "nbconvert_exporter": "python",
   "pygments_lexer": "ipython3",
   "version": "3.8.8"
  }
 },
 "nbformat": 4,
 "nbformat_minor": 5
}
