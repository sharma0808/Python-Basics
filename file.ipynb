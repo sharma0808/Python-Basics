{
 "cells": [
  {
   "cell_type": "markdown",
   "id": "99436282",
   "metadata": {},
   "source": [
    "# File Handling"
   ]
  },
  {
   "cell_type": "code",
   "execution_count": 1,
   "id": "9e49a8ca",
   "metadata": {},
   "outputs": [
    {
     "name": "stdout",
     "output_type": "stream",
     "text": [
      "Praveen is a good boy.\n",
      "and he is the best.\n",
      "He is honest. @#$%^&*\n",
      "Amazing life @#$%^&*\n",
      "\n"
     ]
    }
   ],
   "source": [
    "# Use open function to read the content of a file!\n",
    "f = open('this.txt', 'r')\n",
    "data = f.read() # can't use this function again for again reading the content of a file\n",
    "print(data)\n",
    "f.close()"
   ]
  },
  {
   "cell_type": "code",
   "execution_count": 2,
   "id": "7b1c9b4e",
   "metadata": {},
   "outputs": [
    {
     "name": "stdout",
     "output_type": "stream",
     "text": [
      "Praveen\n"
     ]
    }
   ],
   "source": [
    "# Use open function to read the content of a file!\n",
    "# f = open('this.txt', 'r')\n",
    "f = open('this.txt') # by default the mode is r\n",
    "data = f.read(7) # reads first 7 characters from the file\n",
    "print(data)\n",
    "f.close()"
   ]
  },
  {
   "cell_type": "code",
   "execution_count": 3,
   "id": "8c69d8d5",
   "metadata": {},
   "outputs": [
    {
     "name": "stdout",
     "output_type": "stream",
     "text": [
      "Praveen is a good boy.\n",
      "\n",
      "and he is the best.\n",
      "\n",
      "He is honest. @#$%^&*\n",
      "\n",
      "Amazing life @#$%^&*\n",
      "\n"
     ]
    }
   ],
   "source": [
    "# other method to read the file\n",
    "f = open('this.txt')\n",
    "# read first line\n",
    "data = f.readline() \n",
    "print(data)\n",
    "\n",
    "# Read second line\n",
    "data = f.readline() \n",
    "print(data)\n",
    "\n",
    "# Read third line\n",
    "data = f.readline() \n",
    "print(data)\n",
    "\n",
    "# Read fourth line... and so on...\n",
    "data = f.readline() \n",
    "print(data)\n",
    "f.close()"
   ]
  },
  {
   "cell_type": "code",
   "execution_count": 4,
   "id": "1111bc50",
   "metadata": {},
   "outputs": [],
   "source": [
    "# write file in python\n",
    "f = open('another.txt', 'w')\n",
    "f.write(\"I am writing \") \n",
    "f.close()"
   ]
  },
  {
   "cell_type": "code",
   "execution_count": 5,
   "id": "32a71f8c",
   "metadata": {},
   "outputs": [],
   "source": [
    "# write file in python using appending mode\n",
    "f = open('another.txt', 'a')\n",
    "f.write(\" I am appending \") \n",
    "f.close()"
   ]
  },
  {
   "cell_type": "code",
   "execution_count": 6,
   "id": "31b51c92",
   "metadata": {},
   "outputs": [],
   "source": [
    "# write file in python\n",
    "# write file in python using appending mode\n",
    "f = open('another.txt', 'a')\n",
    "f.write(\"I am appending \") # we can call multiple times\n",
    "f.write(\"I am appending \") \n",
    "f.write(\"I am appending \") \n",
    "f.close()"
   ]
  },
  {
   "cell_type": "code",
   "execution_count": 7,
   "id": "6436f2bc",
   "metadata": {},
   "outputs": [
    {
     "name": "stdout",
     "output_type": "stream",
     "text": [
      "2\n"
     ]
    }
   ],
   "source": [
    "# With statement   -  The best way to open and close the file automatically \n",
    "with open('another.txt', 'r') as f:\n",
    "    a = f.read()\n",
    "with open('another.txt', 'a') as f:\n",
    "    a = f.write(\"me\")\n",
    "print(a)"
   ]
  },
  {
   "cell_type": "markdown",
   "id": "dd0b4779",
   "metadata": {},
   "source": [
    "### 1. Write a program to read the text from a given file 'poems.txt' and find out whether it contans the word 'twinkle'"
   ]
  },
  {
   "cell_type": "code",
   "execution_count": 8,
   "id": "2d57e7e5",
   "metadata": {},
   "outputs": [
    {
     "name": "stdout",
     "output_type": "stream",
     "text": [
      "Twinkle is present\n"
     ]
    }
   ],
   "source": [
    "f = open(\"poems.txt\")\n",
    "text = f.read()\n",
    "if \"twinkle\" in text:\n",
    "    print(\"Twinkle is present\")\n",
    "else:\n",
    "    print(\"Twinkle is not present\")\n",
    "f.close()"
   ]
  },
  {
   "cell_type": "markdown",
   "id": "f08c3d9c",
   "metadata": {},
   "source": [
    "### 2. The game() finction in a program lets a user play a game and returns the score as an integer. You need to read a file 'Hiscore.text' which is either blank or contains the previous Hi-score. You need to write a program to update the Hi-score whenever game() breaks the Hi-score. "
   ]
  },
  {
   "cell_type": "code",
   "execution_count": 9,
   "id": "3598338e",
   "metadata": {},
   "outputs": [],
   "source": [
    "def game():\n",
    "    return 44677\n",
    "\n",
    "score = game()\n",
    "with open(\"hiscore.txt\") as f:\n",
    "    hiScoreStr = f.read()\n",
    "    \n",
    "if hiScoreStr=='':\n",
    "    with open(\"hiscore.txt\", \"w\") as f:\n",
    "        f.write(str(score))\n",
    "\n",
    "elif int(hiScoreStr)<score :\n",
    "    with open(\"hiscore.txt\", \"w\") as f:\n",
    "        f.write(str(score))"
   ]
  },
  {
   "cell_type": "markdown",
   "id": "b9d41ece",
   "metadata": {},
   "source": [
    "### 3. Write a program to generate multiplication tables from 2 to 20 and write it to the different files. Place these files in a folder for a 13-year old."
   ]
  },
  {
   "cell_type": "code",
   "execution_count": 10,
   "id": "751be4db",
   "metadata": {},
   "outputs": [],
   "source": [
    "for i in range(2, 21):\n",
    "    with open(f\"Tables/Multiplication_table_of_{i}.txt\", 'w') as f:\n",
    "        for j in range(1, 11):\n",
    "            f.write(f\"{i}X{j}={i*j}\")\n",
    "            if j!=10:\n",
    "                f.write('\\n')\n"
   ]
  },
  {
   "cell_type": "markdown",
   "id": "4fa399bb",
   "metadata": {},
   "source": [
    "### 4. A file contains a word 'Donkey' multiple times. You need to write a program which replaces this word with ## by updating the same file."
   ]
  },
  {
   "cell_type": "code",
   "execution_count": 11,
   "id": "a11875d8",
   "metadata": {},
   "outputs": [],
   "source": [
    "with open(\"this.txt\") as f:\n",
    "    content = f.read()\n",
    "    \n",
    "content = content.replace(\"donkey\", \"@#$%^&*\")\n",
    "\n",
    "with open(\"this.txt\", \"w\") as f:\n",
    "    f.write(content)"
   ]
  },
  {
   "cell_type": "markdown",
   "id": "d4b91521",
   "metadata": {},
   "source": [
    "### 5. Repeat program 4 for a list of such words to be censored."
   ]
  },
  {
   "cell_type": "code",
   "execution_count": 15,
   "id": "543a1abd",
   "metadata": {},
   "outputs": [],
   "source": [
    "words = [\"Narendra Damodardas Modi\", \"He\", \"Modi\", \"Damodardas\", \"Mehsana\", \"Gujarat\"]\n",
    "with open(\"Story.txt\") as f:\n",
    "    content = f.read()\n",
    "for word in words:\n",
    "    content = content.replace(word, \"@#$%^&*\")\n",
    "    with open(\"Story.txt\", \"w\") as f:\n",
    "        f.write(content)"
   ]
  },
  {
   "cell_type": "markdown",
   "id": "1a3f2295",
   "metadata": {},
   "source": [
    "### 6 . Write a program to mine a log file and find out whether it contains 'python'."
   ]
  },
  {
   "cell_type": "code",
   "execution_count": 19,
   "id": "46a38214",
   "metadata": {},
   "outputs": [
    {
     "name": "stdout",
     "output_type": "stream",
     "text": [
      "Yes python is present\n"
     ]
    }
   ],
   "source": [
    "with open(\"log.txt\") as f:\n",
    "    content = f.read()\n",
    "\n",
    "if 'python' in content.lower():\n",
    "    print(\"Yes python is present\")\n",
    "else:\n",
    "    print(\"No python is not present\")"
   ]
  },
  {
   "cell_type": "markdown",
   "id": "ce583baa",
   "metadata": {},
   "source": [
    "### 7. Write a program to find out the line number where python is present from Question 6."
   ]
  },
  {
   "cell_type": "code",
   "execution_count": 31,
   "id": "edce7a89",
   "metadata": {},
   "outputs": [
    {
     "name": "stdout",
     "output_type": "stream",
     "text": [
      "03/22 08:51:02 INFO   :..reg_process: pYthon has stopped working \n",
      "\n",
      "Yes python is present on line number 7\n",
      "03/22 08:51:06 INFO   :....mailbox_register: Python has stopped working \n",
      "\n",
      "Yes python is present on line number 29\n",
      "03/22 08:51:06 INFO   :....mailbox_register: python has stopped working \n",
      "\n",
      "Yes python is present on line number 47\n"
     ]
    }
   ],
   "source": [
    "content = True\n",
    "i = 1\n",
    "with open(\"log.txt\") as f:\n",
    "    while content:\n",
    "        content = f.readline()\n",
    "        if 'python' in content.lower():\n",
    "            print(content)\n",
    "            print(f\"Yes python is present on line number {i}\") \n",
    "        i+=1"
   ]
  },
  {
   "cell_type": "markdown",
   "id": "ea4da00a",
   "metadata": {},
   "source": [
    "### 8. Write a program to make a copy of a text file 'this.text'."
   ]
  },
  {
   "cell_type": "code",
   "execution_count": 32,
   "id": "6886f824",
   "metadata": {},
   "outputs": [],
   "source": [
    "with open(\"this.txt\") as f:\n",
    "    content = f.read()\n",
    "    \n",
    "with open(\"copy.txt\", \"w\") as f:\n",
    "    f.write(content)"
   ]
  },
  {
   "cell_type": "markdown",
   "id": "b1f5da20",
   "metadata": {},
   "source": [
    "### 9. Write a program to find out whether a file is identical and matches the content of another file."
   ]
  },
  {
   "cell_type": "code",
   "execution_count": 35,
   "id": "57b6e1c6",
   "metadata": {},
   "outputs": [
    {
     "name": "stdout",
     "output_type": "stream",
     "text": [
      "Files are not identical\n"
     ]
    }
   ],
   "source": [
    "file1 = \"log.txt\"\n",
    "file2 = \"this.txt\"\n",
    "\n",
    "with open(file1) as f:\n",
    "    f1 = f.read()\n",
    "\n",
    "with open(file2) as f:\n",
    "    f2= f.read()\n",
    "\n",
    "if f1 == f2:\n",
    "    print(\"Files are identical\")\n",
    "else:\n",
    "    print(\"Files are not identical\")"
   ]
  },
  {
   "cell_type": "markdown",
   "id": "2697bb04",
   "metadata": {},
   "source": [
    "### 10. Write a program to wipe out the contents of a file using python. "
   ]
  },
  {
   "cell_type": "code",
   "execution_count": 36,
   "id": "a8aa472e",
   "metadata": {},
   "outputs": [],
   "source": [
    "with open(\"copy.txt\", \"w\") as f:\n",
    "    f2= f.write(\" \")"
   ]
  },
  {
   "cell_type": "markdown",
   "id": "aced841c",
   "metadata": {},
   "source": [
    "### 11. Write a program to rename a file to 'renamed_by_python.txt'"
   ]
  },
  {
   "cell_type": "code",
   "execution_count": 37,
   "id": "1d68d3e7",
   "metadata": {},
   "outputs": [],
   "source": [
    "import os\n",
    "oldfile = \"demo.txt\"\n",
    "newfile = \"renamed_by_python.txt\"\n",
    "\n",
    "with open(oldfile) as f:\n",
    "    content = f.read()\n",
    "    \n",
    "with open(newfile, \"w\") as f:\n",
    "    f.write(content)\n",
    "    \n",
    "os.remove(oldfile)"
   ]
  },
  {
   "cell_type": "code",
   "execution_count": null,
   "id": "424b3178",
   "metadata": {},
   "outputs": [],
   "source": []
  }
 ],
 "metadata": {
  "kernelspec": {
   "display_name": "Python 3",
   "language": "python",
   "name": "python3"
  },
  "language_info": {
   "codemirror_mode": {
    "name": "ipython",
    "version": 3
   },
   "file_extension": ".py",
   "mimetype": "text/x-python",
   "name": "python",
   "nbconvert_exporter": "python",
   "pygments_lexer": "ipython3",
   "version": "3.8.8"
  }
 },
 "nbformat": 4,
 "nbformat_minor": 5
}
