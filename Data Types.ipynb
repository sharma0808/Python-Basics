{
 "cells": [
  {
   "cell_type": "markdown",
   "id": "d57798af",
   "metadata": {},
   "source": [
    "## List:"
   ]
  },
  {
   "cell_type": "markdown",
   "id": "2cbb789c",
   "metadata": {},
   "source": [
    "### 1. Allows Heterogenous\n",
    "### 2.Retrive using index\n",
    "### 3.mutable\n",
    "### [ ]"
   ]
  },
  {
   "cell_type": "code",
   "execution_count": 1,
   "id": "341631d2",
   "metadata": {},
   "outputs": [
    {
     "data": {
      "text/plain": [
       "list"
      ]
     },
     "execution_count": 1,
     "metadata": {},
     "output_type": "execute_result"
    }
   ],
   "source": [
    "list =[\"apple\",\"banana\",\"cherry\"]\n",
    "type(list)"
   ]
  },
  {
   "cell_type": "code",
   "execution_count": 2,
   "id": "dd017ee6",
   "metadata": {},
   "outputs": [
    {
     "data": {
      "text/plain": [
       "list"
      ]
     },
     "execution_count": 2,
     "metadata": {},
     "output_type": "execute_result"
    }
   ],
   "source": [
    "sample_list= [12,43,\"hi\",2+10j,3.5,100]    ## Heterogenous - multiple data types\n",
    "type(sample_list)"
   ]
  },
  {
   "cell_type": "code",
   "execution_count": 3,
   "id": "1928f7d5",
   "metadata": {},
   "outputs": [
    {
     "data": {
      "text/plain": [
       "(2+10j)"
      ]
     },
     "execution_count": 3,
     "metadata": {},
     "output_type": "execute_result"
    }
   ],
   "source": [
    "sample_list[3]  ## accessing list items"
   ]
  },
  {
   "cell_type": "code",
   "execution_count": 4,
   "id": "cec089df",
   "metadata": {},
   "outputs": [
    {
     "data": {
      "text/plain": [
       "'hi'"
      ]
     },
     "execution_count": 4,
     "metadata": {},
     "output_type": "execute_result"
    }
   ],
   "source": [
    "sample_list[2]"
   ]
  },
  {
   "cell_type": "code",
   "execution_count": 5,
   "id": "d5f23506",
   "metadata": {},
   "outputs": [
    {
     "ename": "IndexError",
     "evalue": "list index out of range",
     "output_type": "error",
     "traceback": [
      "\u001b[1;31m---------------------------------------------------------------------------\u001b[0m",
      "\u001b[1;31mIndexError\u001b[0m                                Traceback (most recent call last)",
      "\u001b[1;32m<ipython-input-5-46063fa1b0e7>\u001b[0m in \u001b[0;36m<module>\u001b[1;34m\u001b[0m\n\u001b[1;32m----> 1\u001b[1;33m \u001b[0msample_list\u001b[0m\u001b[1;33m[\u001b[0m\u001b[1;36m10\u001b[0m\u001b[1;33m]\u001b[0m\u001b[1;33m\u001b[0m\u001b[1;33m\u001b[0m\u001b[0m\n\u001b[0m",
      "\u001b[1;31mIndexError\u001b[0m: list index out of range"
     ]
    }
   ],
   "source": [
    "sample_list[10]  ## list index out of range"
   ]
  },
  {
   "cell_type": "code",
   "execution_count": 6,
   "id": "c58812ae",
   "metadata": {},
   "outputs": [],
   "source": [
    "sample_list[1]=\"vinay\"   ## Mutable -After creating a list we can change any item using index"
   ]
  },
  {
   "cell_type": "code",
   "execution_count": 7,
   "id": "a21c8b50",
   "metadata": {},
   "outputs": [
    {
     "data": {
      "text/plain": [
       "[12, 'vinay', 'hi', (2+10j), 3.5, 100]"
      ]
     },
     "execution_count": 7,
     "metadata": {},
     "output_type": "execute_result"
    }
   ],
   "source": [
    "sample_list"
   ]
  },
  {
   "cell_type": "code",
   "execution_count": 9,
   "id": "d3bfd8ed",
   "metadata": {},
   "outputs": [],
   "source": [
    "sample_list.reverse()"
   ]
  },
  {
   "cell_type": "code",
   "execution_count": 10,
   "id": "a36857f5",
   "metadata": {},
   "outputs": [
    {
     "data": {
      "text/plain": [
       "[100, 3.5, (2+10j), 'hi', 'vinay', 12]"
      ]
     },
     "execution_count": 10,
     "metadata": {},
     "output_type": "execute_result"
    }
   ],
   "source": [
    "sample_list"
   ]
  },
  {
   "cell_type": "code",
   "execution_count": 11,
   "id": "813ac5a5",
   "metadata": {},
   "outputs": [],
   "source": [
    "### create a list of natural numbers from 1 to 10 and name it as Natural_numbers:\n",
    "Natural_numbers = [1,2,3,4,5,6,7,8,9,10]"
   ]
  },
  {
   "cell_type": "code",
   "execution_count": 12,
   "id": "5fbf9e6f",
   "metadata": {},
   "outputs": [
    {
     "data": {
      "text/plain": [
       "8"
      ]
     },
     "execution_count": 12,
     "metadata": {},
     "output_type": "execute_result"
    }
   ],
   "source": [
    "### Retrive item of index 7:\n",
    "Natural_numbers[7]"
   ]
  },
  {
   "cell_type": "code",
   "execution_count": 13,
   "id": "a8cf08c1",
   "metadata": {},
   "outputs": [],
   "source": [
    "### change the index 9 to 8:\n",
    "Natural_numbers[9]=8"
   ]
  },
  {
   "cell_type": "code",
   "execution_count": 15,
   "id": "599f4591",
   "metadata": {},
   "outputs": [
    {
     "data": {
      "text/plain": [
       "[1, 2, 3, 4, 5, 6, 7, 8, 9, 8]"
      ]
     },
     "execution_count": 15,
     "metadata": {},
     "output_type": "execute_result"
    }
   ],
   "source": [
    "Natural_numbers"
   ]
  },
  {
   "cell_type": "code",
   "execution_count": 16,
   "id": "8c01cb69",
   "metadata": {},
   "outputs": [],
   "source": [
    "### Reverse the list:\n",
    "Natural_numbers.reverse()"
   ]
  },
  {
   "cell_type": "code",
   "execution_count": 18,
   "id": "053d1526",
   "metadata": {},
   "outputs": [
    {
     "data": {
      "text/plain": [
       "[8, 9, 8, 7, 6, 5, 4, 3, 2, 1]"
      ]
     },
     "execution_count": 18,
     "metadata": {},
     "output_type": "execute_result"
    }
   ],
   "source": [
    "Natural_numbers"
   ]
  },
  {
   "cell_type": "code",
   "execution_count": 19,
   "id": "f5008b97",
   "metadata": {},
   "outputs": [],
   "source": [
    "### Add 11 to the list:\n",
    "Natural_numbers.append(11)  ## Element/Item add at the last position of list"
   ]
  },
  {
   "cell_type": "code",
   "execution_count": 20,
   "id": "e3cb3611",
   "metadata": {},
   "outputs": [
    {
     "data": {
      "text/plain": [
       "[8, 9, 8, 7, 6, 5, 4, 3, 2, 1, 11]"
      ]
     },
     "execution_count": 20,
     "metadata": {},
     "output_type": "execute_result"
    }
   ],
   "source": [
    "Natural_numbers"
   ]
  },
  {
   "cell_type": "code",
   "execution_count": 21,
   "id": "43736350",
   "metadata": {},
   "outputs": [],
   "source": [
    "### sort elements of the list:\n",
    "Natural_numbers.sort()   ##This function sort the elements of the list in ascending order"
   ]
  },
  {
   "cell_type": "code",
   "execution_count": 22,
   "id": "1fa7f5d9",
   "metadata": {},
   "outputs": [
    {
     "data": {
      "text/plain": [
       "[1, 2, 3, 4, 5, 6, 7, 8, 8, 9, 11]"
      ]
     },
     "execution_count": 22,
     "metadata": {},
     "output_type": "execute_result"
    }
   ],
   "source": [
    "Natural_numbers"
   ]
  },
  {
   "cell_type": "markdown",
   "id": "f40c4b47",
   "metadata": {},
   "source": [
    "## How to use index to get any value"
   ]
  },
  {
   "cell_type": "code",
   "execution_count": 15,
   "id": "55a3a7d2",
   "metadata": {},
   "outputs": [],
   "source": [
    "## Create a list\n",
    "li = [2, 3, 4, 5, 6, 7, 8, 9]"
   ]
  },
  {
   "cell_type": "code",
   "execution_count": 16,
   "id": "f431b53f",
   "metadata": {},
   "outputs": [
    {
     "data": {
      "text/plain": [
       "3"
      ]
     },
     "execution_count": 16,
     "metadata": {},
     "output_type": "execute_result"
    }
   ],
   "source": [
    "## access second element of List\n",
    "li[1]"
   ]
  },
  {
   "cell_type": "code",
   "execution_count": 17,
   "id": "a79723b5",
   "metadata": {},
   "outputs": [
    {
     "data": {
      "text/plain": [
       "7"
      ]
     },
     "execution_count": 17,
     "metadata": {},
     "output_type": "execute_result"
    }
   ],
   "source": [
    "## How to access 7 from a list\n",
    "li[5]"
   ]
  },
  {
   "cell_type": "code",
   "execution_count": 23,
   "id": "c87d7545",
   "metadata": {},
   "outputs": [
    {
     "data": {
      "text/plain": [
       "(3, 4)"
      ]
     },
     "execution_count": 23,
     "metadata": {},
     "output_type": "execute_result"
    }
   ],
   "source": [
    "## How to access 3, 4 from a list\n",
    "li[1], li[2]"
   ]
  },
  {
   "cell_type": "code",
   "execution_count": 20,
   "id": "9ed8cdd9",
   "metadata": {},
   "outputs": [
    {
     "data": {
      "text/plain": [
       "[3, 4]"
      ]
     },
     "execution_count": 20,
     "metadata": {},
     "output_type": "execute_result"
    }
   ],
   "source": [
    "li[1:3]"
   ]
  },
  {
   "cell_type": "code",
   "execution_count": 24,
   "id": "45e41b84",
   "metadata": {},
   "outputs": [
    {
     "data": {
      "text/plain": [
       "9"
      ]
     },
     "execution_count": 24,
     "metadata": {},
     "output_type": "execute_result"
    }
   ],
   "source": [
    "## we don't know the Length of List, How to get the last Element of the List\n",
    "li[-1]"
   ]
  },
  {
   "cell_type": "code",
   "execution_count": 25,
   "id": "5bc0303a",
   "metadata": {},
   "outputs": [
    {
     "data": {
      "text/plain": [
       "8"
      ]
     },
     "execution_count": 25,
     "metadata": {},
     "output_type": "execute_result"
    }
   ],
   "source": [
    "## Second last Element\n",
    "li[-2]"
   ]
  },
  {
   "cell_type": "code",
   "execution_count": 30,
   "id": "cbd9ddb0",
   "metadata": {},
   "outputs": [
    {
     "data": {
      "text/plain": [
       "[6, 7, 8, 9]"
      ]
     },
     "execution_count": 30,
     "metadata": {},
     "output_type": "execute_result"
    }
   ],
   "source": [
    "## Last 4 Elements \n",
    "li[-4:]  ## last 4 elements"
   ]
  },
  {
   "cell_type": "code",
   "execution_count": 36,
   "id": "fff3125d",
   "metadata": {},
   "outputs": [
    {
     "data": {
      "text/plain": [
       "[2, 3, 4, 5, 6]"
      ]
     },
     "execution_count": 36,
     "metadata": {},
     "output_type": "execute_result"
    }
   ],
   "source": [
    "li[:-3]  ## all elements except right 3 elements"
   ]
  },
  {
   "cell_type": "code",
   "execution_count": 37,
   "id": "05918968",
   "metadata": {},
   "outputs": [
    {
     "data": {
      "text/plain": [
       "[2, 3, 4, 5, 6, 7, 8, 9]"
      ]
     },
     "execution_count": 37,
     "metadata": {},
     "output_type": "execute_result"
    }
   ],
   "source": [
    "li[0:]  ## start from 0 index => li[:]"
   ]
  },
  {
   "cell_type": "code",
   "execution_count": 42,
   "id": "0ef0ba08",
   "metadata": {},
   "outputs": [
    {
     "data": {
      "text/plain": [
       "[9, 8, 7, 6, 5, 4, 3, 2]"
      ]
     },
     "execution_count": 42,
     "metadata": {},
     "output_type": "execute_result"
    }
   ],
   "source": [
    "## Reverse the entire List\n",
    "li[::-1]"
   ]
  },
  {
   "cell_type": "code",
   "execution_count": 48,
   "id": "0eb620bf",
   "metadata": {},
   "outputs": [
    {
     "data": {
      "text/plain": [
       "[2, 4, 6, 8]"
      ]
     },
     "execution_count": 48,
     "metadata": {},
     "output_type": "execute_result"
    }
   ],
   "source": [
    "## skip Even Elements\n",
    "li = [2, 3, 4, 5, 6, 7, 8, 9]\n",
    "li[::2]"
   ]
  },
  {
   "cell_type": "markdown",
   "id": "2f7682fb",
   "metadata": {},
   "source": [
    "## Problems on List:"
   ]
  },
  {
   "cell_type": "markdown",
   "id": "fb6c4acf",
   "metadata": {},
   "source": [
    "#### create a list on all the data types(int,float,complex,string,ect...)\n",
    "#### Reverse the list\n",
    "#### sort the Elements of the list"
   ]
  },
  {
   "cell_type": "code",
   "execution_count": 1,
   "id": "91be5c6e",
   "metadata": {},
   "outputs": [],
   "source": [
    "list = [10,\"cherry\",30.5,\"rahul\",20+3j]  "
   ]
  },
  {
   "cell_type": "code",
   "execution_count": 2,
   "id": "1987c29a",
   "metadata": {},
   "outputs": [
    {
     "data": {
      "text/plain": [
       "[(20+3j), 'rahul', 30.5, 'cherry', 10]"
      ]
     },
     "execution_count": 2,
     "metadata": {},
     "output_type": "execute_result"
    }
   ],
   "source": [
    "list.reverse()\n",
    "list"
   ]
  },
  {
   "cell_type": "code",
   "execution_count": 33,
   "id": "b5ae0de5",
   "metadata": {},
   "outputs": [
    {
     "ename": "TypeError",
     "evalue": "'<' not supported between instances of 'str' and 'int'",
     "output_type": "error",
     "traceback": [
      "\u001b[1;31m---------------------------------------------------------------------------\u001b[0m",
      "\u001b[1;31mTypeError\u001b[0m                                 Traceback (most recent call last)",
      "\u001b[1;32m<ipython-input-33-3c2f2ea7cf41>\u001b[0m in \u001b[0;36m<module>\u001b[1;34m\u001b[0m\n\u001b[1;32m----> 1\u001b[1;33m \u001b[0mlist\u001b[0m\u001b[1;33m.\u001b[0m\u001b[0msort\u001b[0m\u001b[1;33m(\u001b[0m\u001b[1;33m)\u001b[0m\u001b[1;33m\u001b[0m\u001b[1;33m\u001b[0m\u001b[0m\n\u001b[0m",
      "\u001b[1;31mTypeError\u001b[0m: '<' not supported between instances of 'str' and 'int'"
     ]
    }
   ],
   "source": [
    "list.sort()  ## string and complex not able to be sort out"
   ]
  },
  {
   "cell_type": "code",
   "execution_count": 34,
   "id": "2f9d8aca",
   "metadata": {},
   "outputs": [
    {
     "data": {
      "text/plain": [
       "[1, 2.5, 3, 3.5, 10, 10.5, 11]"
      ]
     },
     "execution_count": 34,
     "metadata": {},
     "output_type": "execute_result"
    }
   ],
   "source": [
    "### create another list with float and int numbers:\n",
    "mylist = [3.5,2.5,1,3,10,10.5,11]\n",
    "mylist.sort()\n",
    "mylist"
   ]
  },
  {
   "cell_type": "markdown",
   "id": "a3143b5e",
   "metadata": {},
   "source": [
    "### Create a list with only string data type.\n",
    "### No. Elements should be 5 (apple,mango,banana,cherry,pineaplle)"
   ]
  },
  {
   "cell_type": "code",
   "execution_count": 35,
   "id": "529e62b3",
   "metadata": {},
   "outputs": [],
   "source": [
    "fruit_collection =[\"apple\",\"mango\",\"banana\",\"cherry\",\"pineapple\"] "
   ]
  },
  {
   "cell_type": "code",
   "execution_count": 36,
   "id": "95abbb06",
   "metadata": {},
   "outputs": [
    {
     "name": "stdout",
     "output_type": "stream",
     "text": [
      "True\n"
     ]
    }
   ],
   "source": [
    "### find Banana lies in fruit_collection list:\n",
    "print(\"banana\" in fruit_collection)  ## operator - in"
   ]
  },
  {
   "cell_type": "code",
   "execution_count": 38,
   "id": "4e4778d5",
   "metadata": {},
   "outputs": [
    {
     "name": "stdout",
     "output_type": "stream",
     "text": [
      "apple\n",
      "mango\n",
      "banana\n",
      "cherry\n",
      "pineapple\n"
     ]
    }
   ],
   "source": [
    "### print items:\n",
    "for items in fruit_collection:    ## for operator\n",
    "    print(items)"
   ]
  },
  {
   "cell_type": "code",
   "execution_count": 39,
   "id": "277535be",
   "metadata": {},
   "outputs": [
    {
     "data": {
      "text/plain": [
       "5"
      ]
     },
     "execution_count": 39,
     "metadata": {},
     "output_type": "execute_result"
    }
   ],
   "source": [
    "### length of fruit_collection list:\n",
    "len(fruit_collection)"
   ]
  },
  {
   "cell_type": "markdown",
   "id": "da843d5b",
   "metadata": {},
   "source": [
    "#### create a list with float and int numbers\n",
    "#### find the length of this list\n",
    "#### find the maximum value in this list\n",
    "#### find the minimum value in this list\n",
    "#### Remove all the Elements in this list"
   ]
  },
  {
   "cell_type": "code",
   "execution_count": 42,
   "id": "b59a4126",
   "metadata": {},
   "outputs": [],
   "source": [
    "numbers_list = [150,12.0,123,1.111,999.999,10000]"
   ]
  },
  {
   "cell_type": "code",
   "execution_count": 43,
   "id": "6c4b647a",
   "metadata": {},
   "outputs": [
    {
     "data": {
      "text/plain": [
       "6"
      ]
     },
     "execution_count": 43,
     "metadata": {},
     "output_type": "execute_result"
    }
   ],
   "source": [
    "len(numbers_list)"
   ]
  },
  {
   "cell_type": "code",
   "execution_count": 44,
   "id": "d4a3f98a",
   "metadata": {},
   "outputs": [
    {
     "data": {
      "text/plain": [
       "10000"
      ]
     },
     "execution_count": 44,
     "metadata": {},
     "output_type": "execute_result"
    }
   ],
   "source": [
    "max(numbers_list)"
   ]
  },
  {
   "cell_type": "code",
   "execution_count": 45,
   "id": "c32ebc40",
   "metadata": {},
   "outputs": [
    {
     "data": {
      "text/plain": [
       "1.111"
      ]
     },
     "execution_count": 45,
     "metadata": {},
     "output_type": "execute_result"
    }
   ],
   "source": [
    "min(numbers_list)"
   ]
  },
  {
   "cell_type": "code",
   "execution_count": 48,
   "id": "c5dc8171",
   "metadata": {},
   "outputs": [
    {
     "data": {
      "text/plain": [
       "[]"
      ]
     },
     "execution_count": 48,
     "metadata": {},
     "output_type": "execute_result"
    }
   ],
   "source": [
    "numbers_list.clear()  ## clear() - Empty list\n",
    "numbers_list"
   ]
  },
  {
   "cell_type": "markdown",
   "id": "1ab21c64",
   "metadata": {},
   "source": [
    "#### create two list with any data types and add these two lists are added.  / concatnation"
   ]
  },
  {
   "cell_type": "code",
   "execution_count": 49,
   "id": "beb49264",
   "metadata": {},
   "outputs": [
    {
     "data": {
      "text/plain": [
       "[99, 10, 'vinay', 0j, True, 'sharma', 98, (1+1j), False]"
      ]
     },
     "execution_count": 49,
     "metadata": {},
     "output_type": "execute_result"
    }
   ],
   "source": [
    "list1 =[99,10,\"vinay\",0+0j,True]\n",
    "list2 =[\"sharma\",98,1+1j,False]\n",
    "list3=list1+list2\n",
    "list3"
   ]
  },
  {
   "cell_type": "markdown",
   "id": "ef0fefee",
   "metadata": {},
   "source": [
    "# Test on List:"
   ]
  },
  {
   "cell_type": "markdown",
   "id": "c518655e",
   "metadata": {},
   "source": [
    "### Create a list of int and float data type\n",
    "### find the number of elements in the list\n",
    "### find the minimum and maximum value\n",
    "### Append a new element to the list\n",
    "### create a copy of the list\n",
    "### Return index position of an object\n",
    "### Insert a new element at the specified index position \n",
    "### Delete an  element from a list\n",
    "### Reverse a list\n",
    "### Sort a list\n",
    "### Remove all the Elements from the list"
   ]
  },
  {
   "cell_type": "code",
   "execution_count": 1,
   "id": "39039472",
   "metadata": {},
   "outputs": [],
   "source": [
    "test_list = [101,10.1,102,10.2,110,11.0]"
   ]
  },
  {
   "cell_type": "code",
   "execution_count": 2,
   "id": "9f4320b3",
   "metadata": {},
   "outputs": [
    {
     "data": {
      "text/plain": [
       "6"
      ]
     },
     "execution_count": 2,
     "metadata": {},
     "output_type": "execute_result"
    }
   ],
   "source": [
    "len(test_list)"
   ]
  },
  {
   "cell_type": "code",
   "execution_count": 3,
   "id": "4e1bf6bc",
   "metadata": {},
   "outputs": [
    {
     "data": {
      "text/plain": [
       "10.1"
      ]
     },
     "execution_count": 3,
     "metadata": {},
     "output_type": "execute_result"
    }
   ],
   "source": [
    "min(test_list)"
   ]
  },
  {
   "cell_type": "code",
   "execution_count": 4,
   "id": "8135835e",
   "metadata": {},
   "outputs": [
    {
     "data": {
      "text/plain": [
       "110"
      ]
     },
     "execution_count": 4,
     "metadata": {},
     "output_type": "execute_result"
    }
   ],
   "source": [
    "max(test_list)"
   ]
  },
  {
   "cell_type": "code",
   "execution_count": 5,
   "id": "953ea840",
   "metadata": {},
   "outputs": [
    {
     "data": {
      "text/plain": [
       "[101, 10.1, 102, 10.2, 110, 11.0, 120]"
      ]
     },
     "execution_count": 5,
     "metadata": {},
     "output_type": "execute_result"
    }
   ],
   "source": [
    "test_list.append(120)\n",
    "test_list"
   ]
  },
  {
   "cell_type": "code",
   "execution_count": 6,
   "id": "a4aad351",
   "metadata": {},
   "outputs": [
    {
     "data": {
      "text/plain": [
       "[101, 10.1, 102, 10.2, 110, 11.0, 120]"
      ]
     },
     "execution_count": 6,
     "metadata": {},
     "output_type": "execute_result"
    }
   ],
   "source": [
    "new_list=test_list.copy()\n",
    "new_list"
   ]
  },
  {
   "cell_type": "code",
   "execution_count": 7,
   "id": "3a8dc647",
   "metadata": {},
   "outputs": [
    {
     "data": {
      "text/plain": [
       "2"
      ]
     },
     "execution_count": 7,
     "metadata": {},
     "output_type": "execute_result"
    }
   ],
   "source": [
    "test_list.index(102)"
   ]
  },
  {
   "cell_type": "code",
   "execution_count": 8,
   "id": "432a24a1",
   "metadata": {},
   "outputs": [
    {
     "data": {
      "text/plain": [
       "[101, 130, 10.1, 102, 10.2, 110, 11.0, 120]"
      ]
     },
     "execution_count": 8,
     "metadata": {},
     "output_type": "execute_result"
    }
   ],
   "source": [
    "test_list.insert(1,130)\n",
    "test_list"
   ]
  },
  {
   "cell_type": "code",
   "execution_count": 9,
   "id": "3b2447ea",
   "metadata": {},
   "outputs": [
    {
     "data": {
      "text/plain": [
       "[101, 10.1, 102, 10.2, 110, 11.0, 120]"
      ]
     },
     "execution_count": 9,
     "metadata": {},
     "output_type": "execute_result"
    }
   ],
   "source": [
    "del test_list[1]\n",
    "test_list"
   ]
  },
  {
   "cell_type": "code",
   "execution_count": 10,
   "id": "4aaeda21",
   "metadata": {},
   "outputs": [
    {
     "data": {
      "text/plain": [
       "[101, 10.1, 102, 10.2, 11.0, 120]"
      ]
     },
     "execution_count": 10,
     "metadata": {},
     "output_type": "execute_result"
    }
   ],
   "source": [
    "test_list.remove(110)\n",
    "test_list"
   ]
  },
  {
   "cell_type": "code",
   "execution_count": 11,
   "id": "fd5bcff8",
   "metadata": {},
   "outputs": [
    {
     "data": {
      "text/plain": [
       "120"
      ]
     },
     "execution_count": 11,
     "metadata": {},
     "output_type": "execute_result"
    }
   ],
   "source": [
    "test_list.pop()"
   ]
  },
  {
   "cell_type": "code",
   "execution_count": 12,
   "id": "51d9e0a5",
   "metadata": {},
   "outputs": [
    {
     "data": {
      "text/plain": [
       "[101, 10.1, 102, 10.2, 11.0]"
      ]
     },
     "execution_count": 12,
     "metadata": {},
     "output_type": "execute_result"
    }
   ],
   "source": [
    "test_list"
   ]
  },
  {
   "cell_type": "code",
   "execution_count": 13,
   "id": "18fcec5b",
   "metadata": {},
   "outputs": [
    {
     "data": {
      "text/plain": [
       "10.1"
      ]
     },
     "execution_count": 13,
     "metadata": {},
     "output_type": "execute_result"
    }
   ],
   "source": [
    "test_list.pop(1)"
   ]
  },
  {
   "cell_type": "code",
   "execution_count": 14,
   "id": "4404f586",
   "metadata": {},
   "outputs": [
    {
     "data": {
      "text/plain": [
       "[101, 102, 10.2, 11.0]"
      ]
     },
     "execution_count": 14,
     "metadata": {},
     "output_type": "execute_result"
    }
   ],
   "source": [
    "test_list"
   ]
  },
  {
   "cell_type": "code",
   "execution_count": 59,
   "id": "4e4edd45",
   "metadata": {},
   "outputs": [
    {
     "data": {
      "text/plain": [
       "[120, 11.0, 110, 10.2, 102, 10.1, 101]"
      ]
     },
     "execution_count": 59,
     "metadata": {},
     "output_type": "execute_result"
    }
   ],
   "source": [
    "test_list.reverse()\n",
    "test_list"
   ]
  },
  {
   "cell_type": "code",
   "execution_count": 60,
   "id": "c3873919",
   "metadata": {},
   "outputs": [
    {
     "data": {
      "text/plain": [
       "[10.1, 10.2, 11.0, 101, 102, 110, 120]"
      ]
     },
     "execution_count": 60,
     "metadata": {},
     "output_type": "execute_result"
    }
   ],
   "source": [
    "test_list.sort()\n",
    "test_list"
   ]
  },
  {
   "cell_type": "code",
   "execution_count": 62,
   "id": "79aff487",
   "metadata": {},
   "outputs": [
    {
     "data": {
      "text/plain": [
       "[]"
      ]
     },
     "execution_count": 62,
     "metadata": {},
     "output_type": "execute_result"
    }
   ],
   "source": [
    "test_list.clear()\n",
    "test_list"
   ]
  },
  {
   "cell_type": "markdown",
   "id": "163d89a6",
   "metadata": {},
   "source": [
    "# String"
   ]
  },
  {
   "cell_type": "code",
   "execution_count": 53,
   "id": "e9c28293",
   "metadata": {},
   "outputs": [],
   "source": [
    "string = \"Hello World World\""
   ]
  },
  {
   "cell_type": "code",
   "execution_count": 54,
   "id": "9768f695",
   "metadata": {},
   "outputs": [
    {
     "data": {
      "text/plain": [
       "'H'"
      ]
     },
     "execution_count": 54,
     "metadata": {},
     "output_type": "execute_result"
    }
   ],
   "source": [
    "string[0]"
   ]
  },
  {
   "cell_type": "code",
   "execution_count": 55,
   "id": "bfe662c0",
   "metadata": {},
   "outputs": [
    {
     "data": {
      "text/plain": [
       "'ld'"
      ]
     },
     "execution_count": 55,
     "metadata": {},
     "output_type": "execute_result"
    }
   ],
   "source": [
    "string[-2:]"
   ]
  },
  {
   "cell_type": "code",
   "execution_count": 56,
   "id": "4d5b6d71",
   "metadata": {},
   "outputs": [
    {
     "data": {
      "text/plain": [
       "'dlroW dlroW olleH'"
      ]
     },
     "execution_count": 56,
     "metadata": {},
     "output_type": "execute_result"
    }
   ],
   "source": [
    "string[::-1]"
   ]
  },
  {
   "cell_type": "code",
   "execution_count": 60,
   "id": "abfcd99a",
   "metadata": {},
   "outputs": [
    {
     "ename": "TypeError",
     "evalue": "'str' object does not support item assignment",
     "output_type": "error",
     "traceback": [
      "\u001b[1;31m---------------------------------------------------------------------------\u001b[0m",
      "\u001b[1;31mTypeError\u001b[0m                                 Traceback (most recent call last)",
      "\u001b[1;32m<ipython-input-60-0b098149468a>\u001b[0m in \u001b[0;36m<module>\u001b[1;34m\u001b[0m\n\u001b[1;32m----> 1\u001b[1;33m \u001b[0mstring\u001b[0m\u001b[1;33m[\u001b[0m\u001b[1;36m0\u001b[0m\u001b[1;33m]\u001b[0m\u001b[1;33m=\u001b[0m\u001b[1;34m'h'\u001b[0m\u001b[1;33m\u001b[0m\u001b[1;33m\u001b[0m\u001b[0m\n\u001b[0m",
      "\u001b[1;31mTypeError\u001b[0m: 'str' object does not support item assignment"
     ]
    }
   ],
   "source": [
    "string[0]='h'"
   ]
  },
  {
   "cell_type": "code",
   "execution_count": null,
   "id": "bde71ea2",
   "metadata": {},
   "outputs": [],
   "source": []
  },
  {
   "cell_type": "markdown",
   "id": "b0bb00ca",
   "metadata": {},
   "source": [
    "## Tuple:"
   ]
  },
  {
   "cell_type": "markdown",
   "id": "ce245881",
   "metadata": {},
   "source": [
    "### 1. Allows Heterogenous\n",
    "### 2.Retrive using index\n",
    "### 3.Cannot change the data once declared - immutable\n",
    "### ()"
   ]
  },
  {
   "cell_type": "code",
   "execution_count": 74,
   "id": "7a06fae0",
   "metadata": {},
   "outputs": [],
   "source": [
    "sample_tuple = (1,12,22,1+3j,\"hi\",True)"
   ]
  },
  {
   "cell_type": "code",
   "execution_count": 75,
   "id": "c209d4bf",
   "metadata": {},
   "outputs": [
    {
     "data": {
      "text/plain": [
       "tuple"
      ]
     },
     "execution_count": 75,
     "metadata": {},
     "output_type": "execute_result"
    }
   ],
   "source": [
    "type(sample_tuple)"
   ]
  },
  {
   "cell_type": "code",
   "execution_count": 76,
   "id": "7c2d7888",
   "metadata": {},
   "outputs": [
    {
     "data": {
      "text/plain": [
       "(1+3j)"
      ]
     },
     "execution_count": 76,
     "metadata": {},
     "output_type": "execute_result"
    }
   ],
   "source": [
    "sample_tuple[3]"
   ]
  },
  {
   "cell_type": "code",
   "execution_count": 77,
   "id": "3cd4c07f",
   "metadata": {},
   "outputs": [
    {
     "ename": "AttributeError",
     "evalue": "'tuple' object has no attribute 'reverse'",
     "output_type": "error",
     "traceback": [
      "\u001b[1;31m---------------------------------------------------------------------------\u001b[0m",
      "\u001b[1;31mAttributeError\u001b[0m                            Traceback (most recent call last)",
      "\u001b[1;32m<ipython-input-77-ad9148e49edb>\u001b[0m in \u001b[0;36m<module>\u001b[1;34m\u001b[0m\n\u001b[1;32m----> 1\u001b[1;33m \u001b[0msample_tuple\u001b[0m\u001b[1;33m.\u001b[0m\u001b[0mreverse\u001b[0m\u001b[1;33m(\u001b[0m\u001b[1;33m)\u001b[0m\u001b[1;33m\u001b[0m\u001b[1;33m\u001b[0m\u001b[0m\n\u001b[0m",
      "\u001b[1;31mAttributeError\u001b[0m: 'tuple' object has no attribute 'reverse'"
     ]
    }
   ],
   "source": [
    "sample_tuple.reverse()  ### 'tuple' object has no attribute 'reverse'"
   ]
  },
  {
   "cell_type": "code",
   "execution_count": 78,
   "id": "3c30d91e",
   "metadata": {},
   "outputs": [
    {
     "ename": "TypeError",
     "evalue": "'tuple' object does not support item assignment",
     "output_type": "error",
     "traceback": [
      "\u001b[1;31m---------------------------------------------------------------------------\u001b[0m",
      "\u001b[1;31mTypeError\u001b[0m                                 Traceback (most recent call last)",
      "\u001b[1;32m<ipython-input-78-d28ccaffaf5f>\u001b[0m in \u001b[0;36m<module>\u001b[1;34m\u001b[0m\n\u001b[1;32m----> 1\u001b[1;33m \u001b[0msample_tuple\u001b[0m\u001b[1;33m[\u001b[0m\u001b[1;36m3\u001b[0m\u001b[1;33m]\u001b[0m\u001b[1;33m=\u001b[0m\u001b[1;36m100\u001b[0m\u001b[1;33m\u001b[0m\u001b[1;33m\u001b[0m\u001b[0m\n\u001b[0m",
      "\u001b[1;31mTypeError\u001b[0m: 'tuple' object does not support item assignment"
     ]
    }
   ],
   "source": [
    "sample_tuple[3]=100  ### 'tuple' object does not support item assignment"
   ]
  },
  {
   "cell_type": "markdown",
   "id": "0ee3a3ee",
   "metadata": {},
   "source": [
    "### Q. create a tuple with int anfd float number\n",
    "###     sort the elements of tuple\n"
   ]
  },
  {
   "cell_type": "code",
   "execution_count": 83,
   "id": "ec3283c0",
   "metadata": {},
   "outputs": [],
   "source": [
    "tuple = (102,112,123,10.5,115,1.02)"
   ]
  },
  {
   "cell_type": "code",
   "execution_count": 84,
   "id": "899ee713",
   "metadata": {},
   "outputs": [
    {
     "ename": "AttributeError",
     "evalue": "'tuple' object has no attribute 'sort'",
     "output_type": "error",
     "traceback": [
      "\u001b[1;31m---------------------------------------------------------------------------\u001b[0m",
      "\u001b[1;31mAttributeError\u001b[0m                            Traceback (most recent call last)",
      "\u001b[1;32m<ipython-input-84-d6b109c7a5b9>\u001b[0m in \u001b[0;36m<module>\u001b[1;34m\u001b[0m\n\u001b[1;32m----> 1\u001b[1;33m \u001b[0mtuple\u001b[0m\u001b[1;33m.\u001b[0m\u001b[0msort\u001b[0m\u001b[1;33m(\u001b[0m\u001b[1;33m)\u001b[0m \u001b[1;31m###  'tuple' object has no attribute 'sort'\u001b[0m\u001b[1;33m\u001b[0m\u001b[1;33m\u001b[0m\u001b[0m\n\u001b[0m",
      "\u001b[1;31mAttributeError\u001b[0m: 'tuple' object has no attribute 'sort'"
     ]
    }
   ],
   "source": [
    "tuple.sort() ###  'tuple' object has no attribute 'sort'"
   ]
  },
  {
   "cell_type": "code",
   "execution_count": 85,
   "id": "5f4171ff",
   "metadata": {},
   "outputs": [
    {
     "data": {
      "text/plain": [
       "[1.02, 10.5, 102, 112, 115, 123]"
      ]
     },
     "execution_count": 85,
     "metadata": {},
     "output_type": "execute_result"
    }
   ],
   "source": [
    "sorted(tuple)"
   ]
  },
  {
   "cell_type": "code",
   "execution_count": 86,
   "id": "073e72ac",
   "metadata": {},
   "outputs": [
    {
     "data": {
      "text/plain": [
       "[123, 115, 112, 102, 10.5, 1.02]"
      ]
     },
     "execution_count": 86,
     "metadata": {},
     "output_type": "execute_result"
    }
   ],
   "source": [
    "sorted(tuple,reverse=True)"
   ]
  },
  {
   "cell_type": "code",
   "execution_count": 87,
   "id": "1bdb250c",
   "metadata": {},
   "outputs": [
    {
     "data": {
      "text/plain": [
       "(102,\n",
       " 112,\n",
       " 123,\n",
       " 10.5,\n",
       " 115,\n",
       " 1.02,\n",
       " 102,\n",
       " 112,\n",
       " 123,\n",
       " 10.5,\n",
       " 115,\n",
       " 1.02,\n",
       " 102,\n",
       " 112,\n",
       " 123,\n",
       " 10.5,\n",
       " 115,\n",
       " 1.02,\n",
       " 102,\n",
       " 112,\n",
       " 123,\n",
       " 10.5,\n",
       " 115,\n",
       " 1.02)"
      ]
     },
     "execution_count": 87,
     "metadata": {},
     "output_type": "execute_result"
    }
   ],
   "source": [
    "### Repeat Tuple 4 time\n",
    "n=4\n",
    "new_tuple=tuple*n\n",
    "new_tuple"
   ]
  },
  {
   "cell_type": "code",
   "execution_count": 88,
   "id": "c7bce739",
   "metadata": {},
   "outputs": [
    {
     "data": {
      "text/plain": [
       "(123, 115, 112, 102, 10.5, 1.02, 3, 15, 11, 2, 10.5, 1)"
      ]
     },
     "execution_count": 88,
     "metadata": {},
     "output_type": "execute_result"
    }
   ],
   "source": [
    "### concatnation\n",
    "tuple1 = (123, 115, 112, 102, 10.5, 1.02)\n",
    "tuple2 = (3, 15, 11,2, 10.5, 1)\n",
    "tuple3=tuple1+tuple2\n",
    "tuple3"
   ]
  },
  {
   "cell_type": "code",
   "execution_count": 89,
   "id": "f7ae6ee5",
   "metadata": {},
   "outputs": [
    {
     "name": "stdout",
     "output_type": "stream",
     "text": [
      "False\n"
     ]
    }
   ],
   "source": [
    "### check for a particular element:\n",
    "tuple = (123, 115, 112, 102, 10.5, 1.02)\n",
    "print(100 in tuple)"
   ]
  },
  {
   "cell_type": "code",
   "execution_count": 90,
   "id": "fe7e4f1f",
   "metadata": {},
   "outputs": [
    {
     "name": "stdout",
     "output_type": "stream",
     "text": [
      "True\n"
     ]
    }
   ],
   "source": [
    "print(100 not in tuple)"
   ]
  },
  {
   "cell_type": "code",
   "execution_count": 93,
   "id": "966eafe8",
   "metadata": {},
   "outputs": [
    {
     "name": "stdout",
     "output_type": "stream",
     "text": [
      "apple\n",
      "banana\n",
      "cherry\n",
      "mango\n"
     ]
    }
   ],
   "source": [
    "fruits_tuple = (\"apple\",\"banana\",\"cherry\",\"mango\")\n",
    "for fruit in fruits_tuple:\n",
    "    print(fruit)"
   ]
  },
  {
   "cell_type": "markdown",
   "id": "f5a4e837",
   "metadata": {},
   "source": [
    "## Test on Tuple:"
   ]
  },
  {
   "cell_type": "markdown",
   "id": "7c134f3c",
   "metadata": {},
   "source": [
    "### Create a tuple of int and float data type\n",
    "### find the number of elements in the tuple\n",
    "### find the minimum and maximum value\n",
    "### Append a new element to the tuple\n",
    "### create a copy of the tuple\n",
    "### Return index position of an object\n",
    "### Insert a new element at the specified index position \n",
    "### Delete an  element from a tuple\n",
    "### Reverse a tuple\n",
    "### Sort a tuple\n",
    "### Remove all the Elements from the tuple\n",
    "### concat two tuple"
   ]
  },
  {
   "cell_type": "code",
   "execution_count": 3,
   "id": "8631723a",
   "metadata": {},
   "outputs": [],
   "source": [
    "tuple = (10,20.5,0.5,20,0.3,30)"
   ]
  },
  {
   "cell_type": "code",
   "execution_count": 4,
   "id": "5a5f339b",
   "metadata": {},
   "outputs": [
    {
     "data": {
      "text/plain": [
       "6"
      ]
     },
     "execution_count": 4,
     "metadata": {},
     "output_type": "execute_result"
    }
   ],
   "source": [
    "len(tuple)"
   ]
  },
  {
   "cell_type": "code",
   "execution_count": 5,
   "id": "ddf95be9",
   "metadata": {},
   "outputs": [
    {
     "data": {
      "text/plain": [
       "0.3"
      ]
     },
     "execution_count": 5,
     "metadata": {},
     "output_type": "execute_result"
    }
   ],
   "source": [
    "min(tuple)"
   ]
  },
  {
   "cell_type": "code",
   "execution_count": 6,
   "id": "e1f17706",
   "metadata": {},
   "outputs": [
    {
     "data": {
      "text/plain": [
       "30"
      ]
     },
     "execution_count": 6,
     "metadata": {},
     "output_type": "execute_result"
    }
   ],
   "source": [
    "max(tuple)"
   ]
  },
  {
   "cell_type": "code",
   "execution_count": 7,
   "id": "032dc98d",
   "metadata": {},
   "outputs": [
    {
     "ename": "AttributeError",
     "evalue": "'tuple' object has no attribute 'append'",
     "output_type": "error",
     "traceback": [
      "\u001b[1;31m---------------------------------------------------------------------------\u001b[0m",
      "\u001b[1;31mAttributeError\u001b[0m                            Traceback (most recent call last)",
      "\u001b[1;32m<ipython-input-7-b6b7dfddd34a>\u001b[0m in \u001b[0;36m<module>\u001b[1;34m\u001b[0m\n\u001b[1;32m----> 1\u001b[1;33m \u001b[0mtuple\u001b[0m\u001b[1;33m.\u001b[0m\u001b[0mappend\u001b[0m\u001b[1;33m(\u001b[0m\u001b[1;36m200\u001b[0m\u001b[1;33m)\u001b[0m\u001b[1;33m\u001b[0m\u001b[1;33m\u001b[0m\u001b[0m\n\u001b[0m",
      "\u001b[1;31mAttributeError\u001b[0m: 'tuple' object has no attribute 'append'"
     ]
    }
   ],
   "source": [
    "tuple.append(200)  ## immutable "
   ]
  },
  {
   "cell_type": "code",
   "execution_count": 1,
   "id": "a183b56a",
   "metadata": {},
   "outputs": [
    {
     "data": {
      "text/plain": [
       "[10, 20.5, 0.5, 20, 0.3, 30]"
      ]
     },
     "execution_count": 1,
     "metadata": {},
     "output_type": "execute_result"
    }
   ],
   "source": [
    "tuple = (10,20.5,0.5,20,0.3,30)\n",
    "new_list=list(tuple)\n",
    "new_list"
   ]
  },
  {
   "cell_type": "code",
   "execution_count": 3,
   "id": "291dda90",
   "metadata": {},
   "outputs": [
    {
     "data": {
      "text/plain": [
       "[10, 20.5, 0.5, 20, 0.3, 30, 200, 200]"
      ]
     },
     "execution_count": 3,
     "metadata": {},
     "output_type": "execute_result"
    }
   ],
   "source": [
    "new_list.append(200)\n",
    "new_list"
   ]
  },
  {
   "cell_type": "code",
   "execution_count": 13,
   "id": "f72ac161",
   "metadata": {},
   "outputs": [
    {
     "data": {
      "text/plain": [
       "[10, 20.5, 0.5, 20, 0.3, 30, 200]"
      ]
     },
     "execution_count": 13,
     "metadata": {},
     "output_type": "execute_result"
    }
   ],
   "source": [
    "list1=new_list.copy()\n",
    "list1"
   ]
  },
  {
   "cell_type": "code",
   "execution_count": 111,
   "id": "f2844000",
   "metadata": {},
   "outputs": [
    {
     "data": {
      "text/plain": [
       "2"
      ]
     },
     "execution_count": 111,
     "metadata": {},
     "output_type": "execute_result"
    }
   ],
   "source": [
    "tuple.index(0.5)"
   ]
  },
  {
   "cell_type": "code",
   "execution_count": 18,
   "id": "8e122b33",
   "metadata": {},
   "outputs": [
    {
     "data": {
      "text/plain": [
       "[10, 200, 200, 20.5, 0.5, 20, 0.3, 30, 200]"
      ]
     },
     "execution_count": 18,
     "metadata": {},
     "output_type": "execute_result"
    }
   ],
   "source": [
    "new_list.insert(1,200)\n",
    "new_list"
   ]
  },
  {
   "cell_type": "code",
   "execution_count": 20,
   "id": "6beb9c79",
   "metadata": {},
   "outputs": [
    {
     "data": {
      "text/plain": [
       "[200, 20.5, 0.5, 20, 0.3, 30, 200]"
      ]
     },
     "execution_count": 20,
     "metadata": {},
     "output_type": "execute_result"
    }
   ],
   "source": [
    "del new_list[0]\n",
    "new_list"
   ]
  },
  {
   "cell_type": "code",
   "execution_count": 29,
   "id": "a70d92a1",
   "metadata": {},
   "outputs": [
    {
     "data": {
      "text/plain": [
       "[20.5, 0.3, 30, 200]"
      ]
     },
     "execution_count": 29,
     "metadata": {},
     "output_type": "execute_result"
    }
   ],
   "source": [
    "new_list.remove(200)\n",
    "new_list"
   ]
  },
  {
   "cell_type": "code",
   "execution_count": 33,
   "id": "845b59ed",
   "metadata": {},
   "outputs": [
    {
     "data": {
      "text/plain": [
       "[200, 30, 0.3, 20.5]"
      ]
     },
     "execution_count": 33,
     "metadata": {},
     "output_type": "execute_result"
    }
   ],
   "source": [
    "new_list.reverse()\n",
    "new_list"
   ]
  },
  {
   "cell_type": "code",
   "execution_count": 36,
   "id": "b0be1a97",
   "metadata": {},
   "outputs": [
    {
     "data": {
      "text/plain": [
       "[0.3, 20.5, 30, 200]"
      ]
     },
     "execution_count": 36,
     "metadata": {},
     "output_type": "execute_result"
    }
   ],
   "source": [
    "new_list.sort()\n",
    "new_list"
   ]
  },
  {
   "cell_type": "code",
   "execution_count": 108,
   "id": "86046d28",
   "metadata": {},
   "outputs": [
    {
     "data": {
      "text/plain": [
       "(1, 3, 2, 6, 4, 9, 8, 0, 5, 9, 4, 2)"
      ]
     },
     "execution_count": 108,
     "metadata": {},
     "output_type": "execute_result"
    }
   ],
   "source": [
    "tuple1 = (1,3,2,6,4,9,8)\n",
    "tuple2 = (0,5,9,4,2)\n",
    "tuple3=tuple1+tuple2\n",
    "tuple3"
   ]
  },
  {
   "cell_type": "code",
   "execution_count": 38,
   "id": "3f6f128a",
   "metadata": {},
   "outputs": [
    {
     "data": {
      "text/plain": [
       "['apple', 'banana', 'pine', 'cherry']"
      ]
     },
     "execution_count": 38,
     "metadata": {},
     "output_type": "execute_result"
    }
   ],
   "source": [
    "fruit=(\"apple\",\"banana\",\"pine\")\n",
    "f=list(fruit)\n",
    "f.append(\"cherry\")\n",
    "f"
   ]
  },
  {
   "cell_type": "markdown",
   "id": "cfdb0ecd",
   "metadata": {},
   "source": [
    "## Set:"
   ]
  },
  {
   "cell_type": "code",
   "execution_count": 40,
   "id": "1ffaca45",
   "metadata": {},
   "outputs": [
    {
     "data": {
      "text/plain": [
       "{16, 17, 2, 21, 4, 5, 8.4, 'hi'}"
      ]
     },
     "execution_count": 40,
     "metadata": {},
     "output_type": "execute_result"
    }
   ],
   "source": [
    "set ={17,17,2,4,5,16,16,21,8.4,\"hi\"}\n",
    "set"
   ]
  },
  {
   "cell_type": "code",
   "execution_count": 41,
   "id": "695b05a2",
   "metadata": {},
   "outputs": [
    {
     "data": {
      "text/plain": [
       "set"
      ]
     },
     "execution_count": 41,
     "metadata": {},
     "output_type": "execute_result"
    }
   ],
   "source": [
    "type(set)"
   ]
  },
  {
   "cell_type": "code",
   "execution_count": 42,
   "id": "31770629",
   "metadata": {},
   "outputs": [
    {
     "ename": "AttributeError",
     "evalue": "'set' object has no attribute 'append'",
     "output_type": "error",
     "traceback": [
      "\u001b[1;31m---------------------------------------------------------------------------\u001b[0m",
      "\u001b[1;31mAttributeError\u001b[0m                            Traceback (most recent call last)",
      "\u001b[1;32m<ipython-input-42-785679eeb21a>\u001b[0m in \u001b[0;36m<module>\u001b[1;34m\u001b[0m\n\u001b[1;32m----> 1\u001b[1;33m \u001b[0mset\u001b[0m\u001b[1;33m.\u001b[0m\u001b[0mappend\u001b[0m\u001b[1;33m(\u001b[0m\u001b[1;36m10\u001b[0m\u001b[1;33m)\u001b[0m\u001b[1;33m\u001b[0m\u001b[1;33m\u001b[0m\u001b[0m\n\u001b[0m",
      "\u001b[1;31mAttributeError\u001b[0m: 'set' object has no attribute 'append'"
     ]
    }
   ],
   "source": [
    "set.append(10)"
   ]
  },
  {
   "cell_type": "code",
   "execution_count": 44,
   "id": "847e5714",
   "metadata": {},
   "outputs": [
    {
     "data": {
      "text/plain": [
       "{10, 16, 17, 2, 21, 4, 5, 8.4, 'hi'}"
      ]
     },
     "execution_count": 44,
     "metadata": {},
     "output_type": "execute_result"
    }
   ],
   "source": [
    "set.add(10)\n",
    "set"
   ]
  },
  {
   "cell_type": "markdown",
   "id": "5def0410",
   "metadata": {},
   "source": []
  },
  {
   "cell_type": "code",
   "execution_count": 45,
   "id": "7a0079f7",
   "metadata": {},
   "outputs": [
    {
     "data": {
      "text/plain": [
       "{10, 17, 2, 21, 4, 5, 8.4, 'hi'}"
      ]
     },
     "execution_count": 45,
     "metadata": {},
     "output_type": "execute_result"
    }
   ],
   "source": [
    "set.remove(16)\n",
    "set"
   ]
  },
  {
   "cell_type": "code",
   "execution_count": 46,
   "id": "964d3939",
   "metadata": {},
   "outputs": [
    {
     "ename": "TypeError",
     "evalue": "'set' object is not subscriptable",
     "output_type": "error",
     "traceback": [
      "\u001b[1;31m---------------------------------------------------------------------------\u001b[0m",
      "\u001b[1;31mTypeError\u001b[0m                                 Traceback (most recent call last)",
      "\u001b[1;32m<ipython-input-46-5a7e82b41e48>\u001b[0m in \u001b[0;36m<module>\u001b[1;34m\u001b[0m\n\u001b[1;32m----> 1\u001b[1;33m \u001b[0mset\u001b[0m\u001b[1;33m[\u001b[0m\u001b[1;36m0\u001b[0m\u001b[1;33m]\u001b[0m\u001b[1;33m\u001b[0m\u001b[1;33m\u001b[0m\u001b[0m\n\u001b[0m",
      "\u001b[1;31mTypeError\u001b[0m: 'set' object is not subscriptable"
     ]
    }
   ],
   "source": [
    "set[0]  ## using index we can not retrive the data"
   ]
  },
  {
   "cell_type": "code",
   "execution_count": 47,
   "id": "b8b9393e",
   "metadata": {},
   "outputs": [
    {
     "ename": "TypeError",
     "evalue": "'set' object does not support item assignment",
     "output_type": "error",
     "traceback": [
      "\u001b[1;31m---------------------------------------------------------------------------\u001b[0m",
      "\u001b[1;31mTypeError\u001b[0m                                 Traceback (most recent call last)",
      "\u001b[1;32m<ipython-input-47-0bd3fe725ce2>\u001b[0m in \u001b[0;36m<module>\u001b[1;34m\u001b[0m\n\u001b[1;32m----> 1\u001b[1;33m \u001b[0mset\u001b[0m\u001b[1;33m[\u001b[0m\u001b[1;36m0\u001b[0m\u001b[1;33m]\u001b[0m\u001b[1;33m=\u001b[0m\u001b[1;36m100\u001b[0m\u001b[1;33m\u001b[0m\u001b[1;33m\u001b[0m\u001b[0m\n\u001b[0m",
      "\u001b[1;31mTypeError\u001b[0m: 'set' object does not support item assignment"
     ]
    }
   ],
   "source": [
    "set[0]=100"
   ]
  },
  {
   "cell_type": "code",
   "execution_count": 50,
   "id": "2cd7a3cd",
   "metadata": {},
   "outputs": [
    {
     "name": "stdout",
     "output_type": "stream",
     "text": [
      "{'Mon', 'Wed', 'Fri', 'Sat', 'Thrus', 'Tues', 'Sun'}\n",
      "<class 'set'>\n",
      "looping through the set elements....\n",
      "Mon\n",
      "Wed\n",
      "Fri\n",
      "Sat\n",
      "Thrus\n",
      "Tues\n",
      "Sun\n"
     ]
    }
   ],
   "source": [
    "Days = {\"Mon\",\"Tues\",\"Wed\",\"Thrus\",\"Fri\",\"Sat\",\"Sun\"}\n",
    "print(Days)\n",
    "print(type(Days))\n",
    "print(\"looping through the set elements....\")\n",
    "for i in Days:\n",
    "    print(i)\n",
    "    "
   ]
  },
  {
   "cell_type": "markdown",
   "id": "5baa4de0",
   "metadata": {},
   "source": [
    "## Test on Set:"
   ]
  },
  {
   "cell_type": "markdown",
   "id": "cfb3ed28",
   "metadata": {},
   "source": [
    "### Create a set of int and float data type\n",
    "### find the number of elements in the set\n",
    "### find the minimum and maximum value\n",
    "### Append a new element to the set\n",
    "### create a copy of the set\n",
    "### Return index position of an object\n",
    "### Insert a new element at the specified index position \n",
    "### Delete an  element from a set\n",
    "### Reverse a set\n",
    "### Sort a set\n",
    "### Remove all the Elements from the set\n",
    "### concat two tuple"
   ]
  },
  {
   "cell_type": "code",
   "execution_count": 61,
   "id": "204be1ab",
   "metadata": {},
   "outputs": [
    {
     "data": {
      "text/plain": [
       "{0.5, 10, 15, 20, 30.3}"
      ]
     },
     "execution_count": 61,
     "metadata": {},
     "output_type": "execute_result"
    }
   ],
   "source": [
    "set = {0.5,20,30.3,10,15,10}\n",
    "set"
   ]
  },
  {
   "cell_type": "code",
   "execution_count": 62,
   "id": "13ea603f",
   "metadata": {},
   "outputs": [
    {
     "data": {
      "text/plain": [
       "5"
      ]
     },
     "execution_count": 62,
     "metadata": {},
     "output_type": "execute_result"
    }
   ],
   "source": [
    "len(set)"
   ]
  },
  {
   "cell_type": "code",
   "execution_count": 63,
   "id": "6f1eec37",
   "metadata": {},
   "outputs": [
    {
     "data": {
      "text/plain": [
       "0.5"
      ]
     },
     "execution_count": 63,
     "metadata": {},
     "output_type": "execute_result"
    }
   ],
   "source": [
    "min(set)"
   ]
  },
  {
   "cell_type": "code",
   "execution_count": 64,
   "id": "e27ae8a7",
   "metadata": {},
   "outputs": [
    {
     "data": {
      "text/plain": [
       "30.3"
      ]
     },
     "execution_count": 64,
     "metadata": {},
     "output_type": "execute_result"
    }
   ],
   "source": [
    "max(set)"
   ]
  },
  {
   "cell_type": "code",
   "execution_count": 65,
   "id": "ff27b2f5",
   "metadata": {},
   "outputs": [
    {
     "ename": "AttributeError",
     "evalue": "'set' object has no attribute 'append'",
     "output_type": "error",
     "traceback": [
      "\u001b[1;31m---------------------------------------------------------------------------\u001b[0m",
      "\u001b[1;31mAttributeError\u001b[0m                            Traceback (most recent call last)",
      "\u001b[1;32m<ipython-input-65-99478907d783>\u001b[0m in \u001b[0;36m<module>\u001b[1;34m\u001b[0m\n\u001b[1;32m----> 1\u001b[1;33m \u001b[0mset\u001b[0m\u001b[1;33m.\u001b[0m\u001b[0mappend\u001b[0m\u001b[1;33m(\u001b[0m\u001b[1;36m100\u001b[0m\u001b[1;33m)\u001b[0m\u001b[1;33m\u001b[0m\u001b[1;33m\u001b[0m\u001b[0m\n\u001b[0m",
      "\u001b[1;31mAttributeError\u001b[0m: 'set' object has no attribute 'append'"
     ]
    }
   ],
   "source": [
    "set.append(100)"
   ]
  },
  {
   "cell_type": "code",
   "execution_count": 66,
   "id": "88865d67",
   "metadata": {},
   "outputs": [
    {
     "data": {
      "text/plain": [
       "{0.5, 10, 15, 20, 30.3}"
      ]
     },
     "execution_count": 66,
     "metadata": {},
     "output_type": "execute_result"
    }
   ],
   "source": [
    "new_set=set.copy()\n",
    "new_set"
   ]
  },
  {
   "cell_type": "code",
   "execution_count": 67,
   "id": "7679b5c4",
   "metadata": {},
   "outputs": [
    {
     "ename": "AttributeError",
     "evalue": "'set' object has no attribute 'index'",
     "output_type": "error",
     "traceback": [
      "\u001b[1;31m---------------------------------------------------------------------------\u001b[0m",
      "\u001b[1;31mAttributeError\u001b[0m                            Traceback (most recent call last)",
      "\u001b[1;32m<ipython-input-67-b02ae51772b8>\u001b[0m in \u001b[0;36m<module>\u001b[1;34m\u001b[0m\n\u001b[1;32m----> 1\u001b[1;33m \u001b[0mset\u001b[0m\u001b[1;33m.\u001b[0m\u001b[0mindex\u001b[0m\u001b[1;33m(\u001b[0m\u001b[1;36m15\u001b[0m\u001b[1;33m)\u001b[0m\u001b[1;33m\u001b[0m\u001b[1;33m\u001b[0m\u001b[0m\n\u001b[0m",
      "\u001b[1;31mAttributeError\u001b[0m: 'set' object has no attribute 'index'"
     ]
    }
   ],
   "source": [
    "set.index(15)"
   ]
  },
  {
   "cell_type": "code",
   "execution_count": 68,
   "id": "899a98a6",
   "metadata": {},
   "outputs": [
    {
     "ename": "AttributeError",
     "evalue": "'set' object has no attribute 'insert'",
     "output_type": "error",
     "traceback": [
      "\u001b[1;31m---------------------------------------------------------------------------\u001b[0m",
      "\u001b[1;31mAttributeError\u001b[0m                            Traceback (most recent call last)",
      "\u001b[1;32m<ipython-input-68-81cd5a1bf8b3>\u001b[0m in \u001b[0;36m<module>\u001b[1;34m\u001b[0m\n\u001b[1;32m----> 1\u001b[1;33m \u001b[0mset\u001b[0m\u001b[1;33m.\u001b[0m\u001b[0minsert\u001b[0m\u001b[1;33m(\u001b[0m\u001b[1;36m0\u001b[0m\u001b[1;33m,\u001b[0m\u001b[1;36m100\u001b[0m\u001b[1;33m)\u001b[0m\u001b[1;33m\u001b[0m\u001b[1;33m\u001b[0m\u001b[0m\n\u001b[0m",
      "\u001b[1;31mAttributeError\u001b[0m: 'set' object has no attribute 'insert'"
     ]
    }
   ],
   "source": [
    "set.insert(0,100)"
   ]
  },
  {
   "cell_type": "code",
   "execution_count": 69,
   "id": "7b2a2ee5",
   "metadata": {},
   "outputs": [
    {
     "data": {
      "text/plain": [
       "{0.5, 15, 20, 30.3}"
      ]
     },
     "execution_count": 69,
     "metadata": {},
     "output_type": "execute_result"
    }
   ],
   "source": [
    "set.remove(10)\n",
    "set"
   ]
  },
  {
   "cell_type": "code",
   "execution_count": 70,
   "id": "b936d413",
   "metadata": {},
   "outputs": [
    {
     "ename": "AttributeError",
     "evalue": "'set' object has no attribute 'reverse'",
     "output_type": "error",
     "traceback": [
      "\u001b[1;31m---------------------------------------------------------------------------\u001b[0m",
      "\u001b[1;31mAttributeError\u001b[0m                            Traceback (most recent call last)",
      "\u001b[1;32m<ipython-input-70-37ab82cd8793>\u001b[0m in \u001b[0;36m<module>\u001b[1;34m\u001b[0m\n\u001b[1;32m----> 1\u001b[1;33m \u001b[0mset\u001b[0m\u001b[1;33m.\u001b[0m\u001b[0mreverse\u001b[0m\u001b[1;33m(\u001b[0m\u001b[1;33m)\u001b[0m\u001b[1;33m\u001b[0m\u001b[1;33m\u001b[0m\u001b[0m\n\u001b[0m",
      "\u001b[1;31mAttributeError\u001b[0m: 'set' object has no attribute 'reverse'"
     ]
    }
   ],
   "source": [
    "set.reverse()"
   ]
  },
  {
   "cell_type": "code",
   "execution_count": 71,
   "id": "03267a5d",
   "metadata": {},
   "outputs": [
    {
     "ename": "AttributeError",
     "evalue": "'set' object has no attribute 'sort'",
     "output_type": "error",
     "traceback": [
      "\u001b[1;31m---------------------------------------------------------------------------\u001b[0m",
      "\u001b[1;31mAttributeError\u001b[0m                            Traceback (most recent call last)",
      "\u001b[1;32m<ipython-input-71-843eb792e169>\u001b[0m in \u001b[0;36m<module>\u001b[1;34m\u001b[0m\n\u001b[1;32m----> 1\u001b[1;33m \u001b[0mset\u001b[0m\u001b[1;33m.\u001b[0m\u001b[0msort\u001b[0m\u001b[1;33m(\u001b[0m\u001b[1;33m)\u001b[0m\u001b[1;33m\u001b[0m\u001b[1;33m\u001b[0m\u001b[0m\n\u001b[0m",
      "\u001b[1;31mAttributeError\u001b[0m: 'set' object has no attribute 'sort'"
     ]
    }
   ],
   "source": [
    "set.sort()"
   ]
  },
  {
   "cell_type": "code",
   "execution_count": 72,
   "id": "1a12fad4",
   "metadata": {},
   "outputs": [
    {
     "data": {
      "text/plain": [
       "{0.5, 10, 15, 20, 30.3}"
      ]
     },
     "execution_count": 72,
     "metadata": {},
     "output_type": "execute_result"
    }
   ],
   "source": [
    "set = {0.5,20,30.3,10,15,10}\n",
    "sorted(set)\n",
    "set"
   ]
  },
  {
   "cell_type": "code",
   "execution_count": 73,
   "id": "32f66d5c",
   "metadata": {},
   "outputs": [
    {
     "data": {
      "text/plain": [
       "set()"
      ]
     },
     "execution_count": 73,
     "metadata": {},
     "output_type": "execute_result"
    }
   ],
   "source": [
    "set.clear()\n",
    "set"
   ]
  },
  {
   "cell_type": "code",
   "execution_count": 74,
   "id": "80602a49",
   "metadata": {},
   "outputs": [
    {
     "ename": "TypeError",
     "evalue": "unsupported operand type(s) for +: 'set' and 'set'",
     "output_type": "error",
     "traceback": [
      "\u001b[1;31m---------------------------------------------------------------------------\u001b[0m",
      "\u001b[1;31mTypeError\u001b[0m                                 Traceback (most recent call last)",
      "\u001b[1;32m<ipython-input-74-a5073e06d899>\u001b[0m in \u001b[0;36m<module>\u001b[1;34m\u001b[0m\n\u001b[0;32m      1\u001b[0m \u001b[0mset1\u001b[0m \u001b[1;33m=\u001b[0m \u001b[1;33m{\u001b[0m\u001b[1;36m10\u001b[0m\u001b[1;33m,\u001b[0m\u001b[1;36m3\u001b[0m\u001b[1;33m,\u001b[0m\u001b[1;36m12\u001b[0m\u001b[1;33m,\u001b[0m\u001b[1;36m21\u001b[0m\u001b[1;33m,\u001b[0m\u001b[1;36m30\u001b[0m\u001b[1;33m}\u001b[0m\u001b[1;33m\u001b[0m\u001b[1;33m\u001b[0m\u001b[0m\n\u001b[0;32m      2\u001b[0m \u001b[0mset2\u001b[0m \u001b[1;33m=\u001b[0m \u001b[1;33m{\u001b[0m\u001b[1;36m21\u001b[0m\u001b[1;33m,\u001b[0m\u001b[1;36m23\u001b[0m\u001b[1;33m,\u001b[0m\u001b[1;36m52\u001b[0m\u001b[1;33m,\u001b[0m\u001b[1;36m48\u001b[0m\u001b[1;33m,\u001b[0m\u001b[1;36m65\u001b[0m\u001b[1;33m}\u001b[0m\u001b[1;33m\u001b[0m\u001b[1;33m\u001b[0m\u001b[0m\n\u001b[1;32m----> 3\u001b[1;33m \u001b[0mset3\u001b[0m\u001b[1;33m=\u001b[0m\u001b[0mset1\u001b[0m\u001b[1;33m+\u001b[0m\u001b[0mset2\u001b[0m\u001b[1;33m\u001b[0m\u001b[1;33m\u001b[0m\u001b[0m\n\u001b[0m\u001b[0;32m      4\u001b[0m \u001b[0mset3\u001b[0m\u001b[1;33m\u001b[0m\u001b[1;33m\u001b[0m\u001b[0m\n",
      "\u001b[1;31mTypeError\u001b[0m: unsupported operand type(s) for +: 'set' and 'set'"
     ]
    }
   ],
   "source": [
    "set1 = {10,3,12,21,30}\n",
    "set2 = {21,23,52,48,65}\n",
    "set3=set1+set2\n",
    "set3"
   ]
  },
  {
   "cell_type": "code",
   "execution_count": 75,
   "id": "aab01492",
   "metadata": {},
   "outputs": [
    {
     "data": {
      "text/plain": [
       "{0.5, 10, 15, 20, 30.3}"
      ]
     },
     "execution_count": 75,
     "metadata": {},
     "output_type": "execute_result"
    }
   ],
   "source": [
    "set = {0.5,20,30.3,10,15,10}\n",
    "set"
   ]
  },
  {
   "cell_type": "code",
   "execution_count": 76,
   "id": "f9591d84",
   "metadata": {},
   "outputs": [
    {
     "data": {
      "text/plain": [
       "0.5"
      ]
     },
     "execution_count": 76,
     "metadata": {},
     "output_type": "execute_result"
    }
   ],
   "source": [
    "set.pop()"
   ]
  },
  {
   "cell_type": "code",
   "execution_count": 77,
   "id": "f85c6a53",
   "metadata": {},
   "outputs": [
    {
     "data": {
      "text/plain": [
       "{10, 15, 20, 30.3}"
      ]
     },
     "execution_count": 77,
     "metadata": {},
     "output_type": "execute_result"
    }
   ],
   "source": [
    "set"
   ]
  },
  {
   "cell_type": "markdown",
   "id": "b86a188f",
   "metadata": {},
   "source": [
    "## Dictionary:"
   ]
  },
  {
   "cell_type": "markdown",
   "id": "28b8585d",
   "metadata": {},
   "source": [
    "#### 1.Dictionary has key value pair datastructure\n",
    "#### 2.Key is unique and values can be duplicated\n",
    "#### 3.Can retrieve the value using key\n",
    "#### 4.can change the value using key\n",
    "#### 5.key is immutable"
   ]
  },
  {
   "cell_type": "code",
   "execution_count": 78,
   "id": "f4c2ba2d",
   "metadata": {},
   "outputs": [
    {
     "data": {
      "text/plain": [
       "dict"
      ]
     },
     "execution_count": 78,
     "metadata": {},
     "output_type": "execute_result"
    }
   ],
   "source": [
    "dict_test = {\"a\":\"alpha\",1:\"first\",2:\"second\",3:\"third\",1:\"fourth\",5:\"fifth\",6:\"sixth\"}\n",
    "type(dict_test)"
   ]
  },
  {
   "cell_type": "code",
   "execution_count": 79,
   "id": "a3976b64",
   "metadata": {},
   "outputs": [
    {
     "data": {
      "text/plain": [
       "{'a': 'alpha', 1: 'fourth', 2: 'second', 3: 'third', 5: 'fifth', 6: 'sixth'}"
      ]
     },
     "execution_count": 79,
     "metadata": {},
     "output_type": "execute_result"
    }
   ],
   "source": [
    "dict_test ### Key is unique / values can be duplicated If same key is there, Last key could be considered."
   ]
  },
  {
   "cell_type": "code",
   "execution_count": 82,
   "id": "fb0fb6ec",
   "metadata": {
    "scrolled": true
   },
   "outputs": [
    {
     "data": {
      "text/plain": [
       "['a', 1, 2, 3, 5, 6]"
      ]
     },
     "execution_count": 82,
     "metadata": {},
     "output_type": "execute_result"
    }
   ],
   "source": [
    "list(dict_test) ## this function create a list of keys not values  "
   ]
  },
  {
   "cell_type": "code",
   "execution_count": 85,
   "id": "45fc398b",
   "metadata": {},
   "outputs": [
    {
     "data": {
      "text/plain": [
       "dict_keys(['a', 1, 2, 3, 5, 6])"
      ]
     },
     "execution_count": 85,
     "metadata": {},
     "output_type": "execute_result"
    }
   ],
   "source": [
    "dict_test.keys()"
   ]
  },
  {
   "cell_type": "code",
   "execution_count": 86,
   "id": "49d69970",
   "metadata": {},
   "outputs": [
    {
     "data": {
      "text/plain": [
       "dict_values(['alpha', 'fourth', 'second', 'third', 'fifth', 'sixth'])"
      ]
     },
     "execution_count": 86,
     "metadata": {},
     "output_type": "execute_result"
    }
   ],
   "source": [
    "dict_test.values()"
   ]
  },
  {
   "cell_type": "code",
   "execution_count": 89,
   "id": "a94a22df",
   "metadata": {},
   "outputs": [
    {
     "data": {
      "text/plain": [
       "dict_items([('a', 'alpha'), (1, 'fourth'), (2, 'second'), (3, 'third'), (5, 'fifth'), (6, 'sixth')])"
      ]
     },
     "execution_count": 89,
     "metadata": {},
     "output_type": "execute_result"
    }
   ],
   "source": [
    "dict_test.items()"
   ]
  },
  {
   "cell_type": "code",
   "execution_count": 87,
   "id": "23a8166e",
   "metadata": {},
   "outputs": [
    {
     "data": {
      "text/plain": [
       "'alpha'"
      ]
     },
     "execution_count": 87,
     "metadata": {},
     "output_type": "execute_result"
    }
   ],
   "source": [
    "dict_test[\"a\"]"
   ]
  },
  {
   "cell_type": "code",
   "execution_count": 7,
   "id": "d69dffb8",
   "metadata": {},
   "outputs": [
    {
     "data": {
      "text/plain": [
       "'fifth'"
      ]
     },
     "execution_count": 7,
     "metadata": {},
     "output_type": "execute_result"
    }
   ],
   "source": [
    "dict_test[5]  ### Retrieve the value using key"
   ]
  },
  {
   "cell_type": "code",
   "execution_count": 8,
   "id": "3e6c8e55",
   "metadata": {},
   "outputs": [
    {
     "data": {
      "text/plain": [
       "'fourth'"
      ]
     },
     "execution_count": 8,
     "metadata": {},
     "output_type": "execute_result"
    }
   ],
   "source": [
    "dict_test[1]"
   ]
  },
  {
   "cell_type": "code",
   "execution_count": 9,
   "id": "ae714408",
   "metadata": {},
   "outputs": [
    {
     "data": {
      "text/plain": [
       "{'a': 'alpha', 1: 'fourth', 2: 'second', 3: 'third', 5: 'fourth', 6: 'sixth'}"
      ]
     },
     "execution_count": 9,
     "metadata": {},
     "output_type": "execute_result"
    }
   ],
   "source": [
    "dict_test[5]=\"fourth\"   ### mutable using key\n",
    "dict_test"
   ]
  },
  {
   "cell_type": "code",
   "execution_count": 11,
   "id": "9a754002",
   "metadata": {},
   "outputs": [
    {
     "ename": "KeyError",
     "evalue": "'alpha'",
     "output_type": "error",
     "traceback": [
      "\u001b[1;31m---------------------------------------------------------------------------\u001b[0m",
      "\u001b[1;31mKeyError\u001b[0m                                  Traceback (most recent call last)",
      "\u001b[1;32m<ipython-input-11-0e4374112e5d>\u001b[0m in \u001b[0;36m<module>\u001b[1;34m\u001b[0m\n\u001b[1;32m----> 1\u001b[1;33m \u001b[0mdict_test\u001b[0m\u001b[1;33m[\u001b[0m\u001b[1;34m\"alpha\"\u001b[0m\u001b[1;33m]\u001b[0m\u001b[1;33m\u001b[0m\u001b[1;33m\u001b[0m\u001b[0m\n\u001b[0m",
      "\u001b[1;31mKeyError\u001b[0m: 'alpha'"
     ]
    }
   ],
   "source": [
    "dict_test[\"alpha\"]  ### Key cannot be retrieved using value"
   ]
  },
  {
   "cell_type": "code",
   "execution_count": 10,
   "id": "2d51a854",
   "metadata": {},
   "outputs": [
    {
     "data": {
      "text/plain": [
       "{'a': 'alpha',\n",
       " 1: 'fourth',\n",
       " 2: 'second',\n",
       " 3: 'third',\n",
       " 5: 'fourth',\n",
       " 6: 'sixth',\n",
       " 8: 'Sharma'}"
      ]
     },
     "execution_count": 10,
     "metadata": {},
     "output_type": "execute_result"
    }
   ],
   "source": [
    "dict_test[8]=\"Sharma\"  ### we can add key and value to a dictionary\n",
    "dict_test"
   ]
  },
  {
   "cell_type": "code",
   "execution_count": 12,
   "id": "0139e278",
   "metadata": {},
   "outputs": [
    {
     "ename": "AttributeError",
     "evalue": "'dict' object has no attribute 'reverse'",
     "output_type": "error",
     "traceback": [
      "\u001b[1;31m---------------------------------------------------------------------------\u001b[0m",
      "\u001b[1;31mAttributeError\u001b[0m                            Traceback (most recent call last)",
      "\u001b[1;32m<ipython-input-12-4c82be232f3a>\u001b[0m in \u001b[0;36m<module>\u001b[1;34m\u001b[0m\n\u001b[1;32m----> 1\u001b[1;33m \u001b[0mdict_test\u001b[0m\u001b[1;33m.\u001b[0m\u001b[0mreverse\u001b[0m\u001b[1;33m(\u001b[0m\u001b[1;33m)\u001b[0m\u001b[1;33m\u001b[0m\u001b[1;33m\u001b[0m\u001b[0m\n\u001b[0m",
      "\u001b[1;31mAttributeError\u001b[0m: 'dict' object has no attribute 'reverse'"
     ]
    }
   ],
   "source": [
    "dict_test.reverse()"
   ]
  },
  {
   "cell_type": "code",
   "execution_count": 13,
   "id": "d56ee576",
   "metadata": {},
   "outputs": [
    {
     "data": {
      "text/plain": [
       "{1: 'fourth', 2: 'second', 3: 'third', 5: 'fourth', 6: 'sixth', 8: 'Sharma'}"
      ]
     },
     "execution_count": 13,
     "metadata": {},
     "output_type": "execute_result"
    }
   ],
   "source": [
    "dict_test.pop(\"a\")\n",
    "dict_test"
   ]
  },
  {
   "cell_type": "code",
   "execution_count": 90,
   "id": "86e51cce",
   "metadata": {},
   "outputs": [
    {
     "data": {
      "text/plain": [
       "6"
      ]
     },
     "execution_count": 90,
     "metadata": {},
     "output_type": "execute_result"
    }
   ],
   "source": [
    "len(dict_test)"
   ]
  },
  {
   "cell_type": "code",
   "execution_count": 91,
   "id": "3c6fec9c",
   "metadata": {},
   "outputs": [
    {
     "data": {
      "text/plain": [
       "{'word1': ['meaning1', 'meaning12'], 'word2': 'meaning2', 'word3': 'meaning3'}"
      ]
     },
     "execution_count": 91,
     "metadata": {},
     "output_type": "execute_result"
    }
   ],
   "source": [
    "Dict1 = {'word1': ['meaning1', 'meaning12'], 'word2': 'meaning2', 'word3': 'meaning3'}\n",
    "Dict1"
   ]
  },
  {
   "cell_type": "code",
   "execution_count": 92,
   "id": "49a9ce59",
   "metadata": {},
   "outputs": [
    {
     "data": {
      "text/plain": [
       "['meaning1', 'meaning12']"
      ]
     },
     "execution_count": 92,
     "metadata": {},
     "output_type": "execute_result"
    }
   ],
   "source": [
    "Dict1['word1']"
   ]
  },
  {
   "cell_type": "code",
   "execution_count": 93,
   "id": "74f93e02",
   "metadata": {},
   "outputs": [
    {
     "data": {
      "text/plain": [
       "'meaning2'"
      ]
     },
     "execution_count": 93,
     "metadata": {},
     "output_type": "execute_result"
    }
   ],
   "source": [
    "Dict1['word2']"
   ]
  },
  {
   "cell_type": "markdown",
   "id": "d07951c8",
   "metadata": {},
   "source": [
    "## Create Nested Dictionary"
   ]
  },
  {
   "cell_type": "code",
   "execution_count": 94,
   "id": "3b9272d5",
   "metadata": {},
   "outputs": [],
   "source": [
    "class_room ={\n",
    "              'boys': ['boy1', 'boy2'],\n",
    "              'girls' : ['girl1', 'girl2', 'girl3']\n",
    "             }"
   ]
  },
  {
   "cell_type": "code",
   "execution_count": 95,
   "id": "847dc6ba",
   "metadata": {},
   "outputs": [
    {
     "data": {
      "text/plain": [
       "{'boys': ['boy1', 'boy2'], 'girls': ['girl1', 'girl2', 'girl3']}"
      ]
     },
     "execution_count": 95,
     "metadata": {},
     "output_type": "execute_result"
    }
   ],
   "source": [
    "class_room"
   ]
  },
  {
   "cell_type": "code",
   "execution_count": 96,
   "id": "3337218a",
   "metadata": {},
   "outputs": [
    {
     "data": {
      "text/plain": [
       "['boy1', 'boy2']"
      ]
     },
     "execution_count": 96,
     "metadata": {},
     "output_type": "execute_result"
    }
   ],
   "source": [
    "class_room['boys']"
   ]
  },
  {
   "cell_type": "code",
   "execution_count": 97,
   "id": "85b8b920",
   "metadata": {},
   "outputs": [
    {
     "data": {
      "text/plain": [
       "['girl1', 'girl2', 'girl3']"
      ]
     },
     "execution_count": 97,
     "metadata": {},
     "output_type": "execute_result"
    }
   ],
   "source": [
    "class_room['girls']"
   ]
  },
  {
   "cell_type": "code",
   "execution_count": 99,
   "id": "831af0f8",
   "metadata": {},
   "outputs": [],
   "source": [
    "## nested Dict\n",
    "class_room ={\n",
    "              'boys': {'boy1': ['p', 'c'], 'boy2':['h', 'b']},\n",
    "              'girls' : {'girl1':['p', 'c'], 'girl2':['p', 'c'], 'girl3':['p', 'c']}\n",
    "             }"
   ]
  },
  {
   "cell_type": "code",
   "execution_count": 100,
   "id": "09ed2ffc",
   "metadata": {},
   "outputs": [
    {
     "data": {
      "text/plain": [
       "{'boy1': ['p', 'c'], 'boy2': ['h', 'b']}"
      ]
     },
     "execution_count": 100,
     "metadata": {},
     "output_type": "execute_result"
    }
   ],
   "source": [
    "class_room['boys']"
   ]
  },
  {
   "cell_type": "code",
   "execution_count": 101,
   "id": "b17083dd",
   "metadata": {},
   "outputs": [
    {
     "data": {
      "text/plain": [
       "{'girl1': ['p', 'c'], 'girl2': ['p', 'c'], 'girl3': ['p', 'c']}"
      ]
     },
     "execution_count": 101,
     "metadata": {},
     "output_type": "execute_result"
    }
   ],
   "source": [
    "class_room['girls']"
   ]
  },
  {
   "cell_type": "code",
   "execution_count": 105,
   "id": "39651766",
   "metadata": {},
   "outputs": [],
   "source": [
    "## nested Dict\n",
    "class_room ={\n",
    "              'boys': {'boy1': \n",
    "                         {\n",
    "                            'p':78, \n",
    "                            'c':83\n",
    "                         }, \n",
    "                       'boy2':\n",
    "                         {\n",
    "                            'h':79, \n",
    "                            'b':87\n",
    "                         }\n",
    "                      },\n",
    "              'girls' : {'girl1':\n",
    "                            {\n",
    "                               'p':82, \n",
    "                               'c':72\n",
    "                            }, \n",
    "                         'girl2':\n",
    "                            {\n",
    "                                'p':75, \n",
    "                                'c':99\n",
    "                            }, \n",
    "                         'girl3':\n",
    "                            {\n",
    "                                'p':80, \n",
    "                                'c':90\n",
    "                            }\n",
    "                        }\n",
    "             }"
   ]
  },
  {
   "cell_type": "code",
   "execution_count": 106,
   "id": "78c2fef1",
   "metadata": {},
   "outputs": [
    {
     "data": {
      "text/plain": [
       "{'boy1': {'p': 78, 'c': 83}, 'boy2': {'h': 79, 'b': 87}}"
      ]
     },
     "execution_count": 106,
     "metadata": {},
     "output_type": "execute_result"
    }
   ],
   "source": [
    "class_room['boys']"
   ]
  },
  {
   "cell_type": "code",
   "execution_count": 108,
   "id": "64630360",
   "metadata": {},
   "outputs": [
    {
     "data": {
      "text/plain": [
       "{'p': 78, 'c': 83}"
      ]
     },
     "execution_count": 108,
     "metadata": {},
     "output_type": "execute_result"
    }
   ],
   "source": [
    "## access boy1 record\n",
    "class_room['boys']['boy1']"
   ]
  },
  {
   "cell_type": "code",
   "execution_count": 109,
   "id": "e857718f",
   "metadata": {},
   "outputs": [
    {
     "data": {
      "text/plain": [
       "83"
      ]
     },
     "execution_count": 109,
     "metadata": {},
     "output_type": "execute_result"
    }
   ],
   "source": [
    "## retrieve marks of boy1 in chemistry\n",
    "class_room['boys']['boy1']['c']"
   ]
  },
  {
   "cell_type": "code",
   "execution_count": 110,
   "id": "e47522d4",
   "metadata": {},
   "outputs": [
    {
     "data": {
      "text/plain": [
       "79"
      ]
     },
     "execution_count": 110,
     "metadata": {},
     "output_type": "execute_result"
    }
   ],
   "source": [
    "class_room['boys']['boy2']['h']"
   ]
  },
  {
   "cell_type": "code",
   "execution_count": 111,
   "id": "13888fb9",
   "metadata": {},
   "outputs": [
    {
     "data": {
      "text/plain": [
       "{'girl1': {'p': 82, 'c': 72},\n",
       " 'girl2': {'p': 75, 'c': 99},\n",
       " 'girl3': {'p': 80, 'c': 90}}"
      ]
     },
     "execution_count": 111,
     "metadata": {},
     "output_type": "execute_result"
    }
   ],
   "source": [
    "class_room['girls']"
   ]
  },
  {
   "cell_type": "code",
   "execution_count": 112,
   "id": "1f02dd7e",
   "metadata": {},
   "outputs": [
    {
     "data": {
      "text/plain": [
       "80"
      ]
     },
     "execution_count": 112,
     "metadata": {},
     "output_type": "execute_result"
    }
   ],
   "source": [
    "class_room['girls']['girl3']['p']"
   ]
  },
  {
   "cell_type": "code",
   "execution_count": 113,
   "id": "edfa03f1",
   "metadata": {},
   "outputs": [],
   "source": [
    "## create a new key for storing new value\n",
    "class_room['girls']['girl3']['m'] = 100"
   ]
  },
  {
   "cell_type": "code",
   "execution_count": 115,
   "id": "0d32148d",
   "metadata": {},
   "outputs": [
    {
     "data": {
      "text/plain": [
       "{'boys': {'boy1': {'p': 78, 'c': 83}, 'boy2': {'h': 79, 'b': 87}},\n",
       " 'girls': {'girl1': {'p': 82, 'c': 72},\n",
       "  'girl2': {'p': 75, 'c': 99},\n",
       "  'girl3': {'p': 80, 'c': 90, 'm': 100}}}"
      ]
     },
     "execution_count": 115,
     "metadata": {},
     "output_type": "execute_result"
    }
   ],
   "source": [
    "class_room"
   ]
  },
  {
   "cell_type": "code",
   "execution_count": 116,
   "id": "b7a7772a",
   "metadata": {},
   "outputs": [],
   "source": [
    "del class_room['girls']['girl3']['c']"
   ]
  },
  {
   "cell_type": "code",
   "execution_count": 117,
   "id": "e2c18187",
   "metadata": {},
   "outputs": [
    {
     "data": {
      "text/plain": [
       "{'boys': {'boy1': {'p': 78, 'c': 83}, 'boy2': {'h': 79, 'b': 87}},\n",
       " 'girls': {'girl1': {'p': 82, 'c': 72},\n",
       "  'girl2': {'p': 75, 'c': 99},\n",
       "  'girl3': {'p': 80, 'm': 100}}}"
      ]
     },
     "execution_count": 117,
     "metadata": {},
     "output_type": "execute_result"
    }
   ],
   "source": [
    "class_room"
   ]
  },
  {
   "cell_type": "code",
   "execution_count": 118,
   "id": "5bb9d9a9",
   "metadata": {},
   "outputs": [],
   "source": [
    "class_room.update(dict_test)"
   ]
  },
  {
   "cell_type": "code",
   "execution_count": 119,
   "id": "a2fb1390",
   "metadata": {},
   "outputs": [
    {
     "data": {
      "text/plain": [
       "{'boys': {'boy1': {'p': 78, 'c': 83}, 'boy2': {'h': 79, 'b': 87}},\n",
       " 'girls': {'girl1': {'p': 82, 'c': 72},\n",
       "  'girl2': {'p': 75, 'c': 99},\n",
       "  'girl3': {'p': 80, 'm': 100}},\n",
       " 'a': 'alpha',\n",
       " 1: 'fourth',\n",
       " 2: 'second',\n",
       " 3: 'third',\n",
       " 5: 'fifth',\n",
       " 6: 'sixth'}"
      ]
     },
     "execution_count": 119,
     "metadata": {},
     "output_type": "execute_result"
    }
   ],
   "source": [
    "class_room"
   ]
  },
  {
   "cell_type": "code",
   "execution_count": 120,
   "id": "0880794d",
   "metadata": {},
   "outputs": [],
   "source": [
    "## nested Dict\n",
    "class_room ={\n",
    "              'boys': {'boy1': ['Phy',\n",
    "                         {\n",
    "                            'p':78, \n",
    "                            'c':83\n",
    "                         }], \n",
    "                       'boy2':\n",
    "                         {\n",
    "                            'h':79, \n",
    "                            'b':87\n",
    "                         }\n",
    "                      },\n",
    "              'girls' : {'girl1':\n",
    "                            {\n",
    "                               'p':82, \n",
    "                               'c':72\n",
    "                            }, \n",
    "                         'girl2':\n",
    "                            {\n",
    "                                'p':75, \n",
    "                                'c':99\n",
    "                            }, \n",
    "                         'girl3':\n",
    "                            {\n",
    "                                'p':80, \n",
    "                                'c':90\n",
    "                            }\n",
    "                        }\n",
    "             }"
   ]
  },
  {
   "cell_type": "code",
   "execution_count": 121,
   "id": "ad5e11ae",
   "metadata": {},
   "outputs": [
    {
     "data": {
      "text/plain": [
       "{'boys': {'boy1': ['Phy', {'p': 78, 'c': 83}], 'boy2': {'h': 79, 'b': 87}},\n",
       " 'girls': {'girl1': {'p': 82, 'c': 72},\n",
       "  'girl2': {'p': 75, 'c': 99},\n",
       "  'girl3': {'p': 80, 'c': 90}}}"
      ]
     },
     "execution_count": 121,
     "metadata": {},
     "output_type": "execute_result"
    }
   ],
   "source": [
    "class_room"
   ]
  },
  {
   "cell_type": "code",
   "execution_count": 124,
   "id": "02d97be1",
   "metadata": {},
   "outputs": [
    {
     "data": {
      "text/plain": [
       "{'girl1': {'p': 82, 'c': 72},\n",
       " 'girl2': {'p': 75, 'c': 99},\n",
       " 'girl3': {'p': 80, 'c': 90}}"
      ]
     },
     "execution_count": 124,
     "metadata": {},
     "output_type": "execute_result"
    }
   ],
   "source": [
    "class_room.pop('girls')"
   ]
  },
  {
   "cell_type": "code",
   "execution_count": 125,
   "id": "6d64efa3",
   "metadata": {},
   "outputs": [
    {
     "data": {
      "text/plain": [
       "{'boys': {'boy1': ['Phy', {'p': 78, 'c': 83}], 'boy2': {'h': 79, 'b': 87}}}"
      ]
     },
     "execution_count": 125,
     "metadata": {},
     "output_type": "execute_result"
    }
   ],
   "source": [
    "class_room"
   ]
  },
  {
   "cell_type": "code",
   "execution_count": 127,
   "id": "87bc95a9",
   "metadata": {},
   "outputs": [],
   "source": [
    "del class_room['boys']['boy2']"
   ]
  },
  {
   "cell_type": "code",
   "execution_count": 128,
   "id": "acca0ddd",
   "metadata": {},
   "outputs": [
    {
     "data": {
      "text/plain": [
       "{'boys': {'boy1': ['Phy', {'p': 78, 'c': 83}]}}"
      ]
     },
     "execution_count": 128,
     "metadata": {},
     "output_type": "execute_result"
    }
   ],
   "source": [
    "class_room"
   ]
  },
  {
   "cell_type": "code",
   "execution_count": null,
   "id": "22391452",
   "metadata": {},
   "outputs": [],
   "source": []
  }
 ],
 "metadata": {
  "kernelspec": {
   "display_name": "Python 3",
   "language": "python",
   "name": "python3"
  },
  "language_info": {
   "codemirror_mode": {
    "name": "ipython",
    "version": 3
   },
   "file_extension": ".py",
   "mimetype": "text/x-python",
   "name": "python",
   "nbconvert_exporter": "python",
   "pygments_lexer": "ipython3",
   "version": "3.8.8"
  }
 },
 "nbformat": 4,
 "nbformat_minor": 5
}
