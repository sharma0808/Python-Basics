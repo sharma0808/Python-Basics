{
 "cells": [
  {
   "cell_type": "code",
   "execution_count": 1,
   "id": "a5db42b2",
   "metadata": {},
   "outputs": [
    {
     "name": "stdout",
     "output_type": "stream",
     "text": [
      "46\n"
     ]
    }
   ],
   "source": [
    "#a=12\n",
    "#b=34\n",
    "#print(\"sum of two numbers : \", a+b)\n",
    "\n",
    "class Number:\n",
    "    def sum(self):\n",
    "        return self.a + self.b\n",
    "\n",
    "num = Number()\n",
    "num.a = 12\n",
    "num.b = 34\n",
    "s = num.sum()\n",
    "print(s)"
   ]
  },
  {
   "cell_type": "code",
   "execution_count": 2,
   "id": "ad2002c7",
   "metadata": {},
   "outputs": [
    {
     "name": "stdout",
     "output_type": "stream",
     "text": [
      "multiplication of a and b is 150\n"
     ]
    }
   ],
   "source": [
    "class Multiplication:\n",
    "    def mul(self):\n",
    "        return self.a*self.b\n",
    "    \n",
    "num  = Multiplication()\n",
    "num.a=10\n",
    "num.b=15\n",
    "m = num.mul()\n",
    "print(f\"multiplication of a and b is {m}\")"
   ]
  },
  {
   "cell_type": "code",
   "execution_count": 3,
   "id": "9766fcfd",
   "metadata": {},
   "outputs": [
    {
     "name": "stdout",
     "output_type": "stream",
     "text": [
      "Name is Praveen\n",
      "Train is Rajdhani Express\n"
     ]
    }
   ],
   "source": [
    "import pandas as pd\n",
    "\n",
    "pd.DataFrame()\n",
    "class RailwayForm:\n",
    "    formType = \"RailwayForm\"\n",
    "    def printData(self):\n",
    "        print(f\"Name is {self.name}\")\n",
    "        print(f\"Train is {self.train}\")\n",
    "\n",
    "perrysApplication = RailwayForm()\n",
    "perrysApplication.name = \"Praveen\"\n",
    "perrysApplication.train = \"Rajdhani Express\"\n",
    "perrysApplication.printData()"
   ]
  },
  {
   "cell_type": "markdown",
   "id": "bce6b82e",
   "metadata": {},
   "source": [
    "# game example\n",
    "class Remote(self):\n",
    "    pass\n",
    "\n",
    "class Player:\n",
    "    def moveRight(self):\n",
    "        pass\n",
    "\n",
    "    def moveLeft(self):\n",
    "        pass\n",
    "\n",
    "    def moveTop(self):\n",
    "        pass\n",
    "\n",
    "remote1 = Remote()\n",
    "player1 = Player()\n",
    "\n",
    "if(remote1.isLeftPressed()):\n",
    "    player1.moveLeft()"
   ]
  },
  {
   "cell_type": "code",
   "execution_count": 6,
   "id": "76a98653",
   "metadata": {},
   "outputs": [
    {
     "name": "stdout",
     "output_type": "stream",
     "text": [
      "Google\n",
      "Google\n",
      "YouTube\n",
      "YouTube\n",
      "300\n",
      "400\n"
     ]
    }
   ],
   "source": [
    "class Employee:\n",
    "    company = \"Google\"\n",
    "    salary = 100\n",
    "\n",
    "harry = Employee()\n",
    "rajni = Employee()\n",
    "harry.salary = 300\n",
    "rajni.salary = 400\n",
    "\n",
    "print(harry.company)\n",
    "print(rajni.company)\n",
    "Employee.company = \"YouTube\"\n",
    "print(harry.company)\n",
    "print(rajni.company)\n",
    "print(harry.salary)\n",
    "print(rajni.salary)"
   ]
  },
  {
   "cell_type": "code",
   "execution_count": 7,
   "id": "bd3df6ec",
   "metadata": {},
   "outputs": [
    {
     "name": "stdout",
     "output_type": "stream",
     "text": [
      "45\n",
      "100\n"
     ]
    }
   ],
   "source": [
    "# instance and class attribute\n",
    "class Employee:\n",
    "    company = \"Google\"\n",
    "    salary = 100\n",
    "\n",
    "harry = Employee()\n",
    "rajni = Employee()\n",
    "\n",
    "# Creating instance attribute salary for both the objects\n",
    "# harry.salary = 300\n",
    "# rajni.salary = 400\n",
    "harry.salary = 45\n",
    "print(harry.salary)\n",
    "print(rajni.salary)\n",
    "\n",
    "# Below line throws an error as address is not present in instance/class \n",
    "# print(rajni.address) "
   ]
  },
  {
   "cell_type": "code",
   "execution_count": 12,
   "id": "384dbda7",
   "metadata": {},
   "outputs": [
    {
     "name": "stdout",
     "output_type": "stream",
     "text": [
      "Salary for this employee working in Google is 100000\n"
     ]
    }
   ],
   "source": [
    "# self parameter\n",
    "class Employee:\n",
    "    company = \"Google\"\n",
    "    def getSalary(self):\n",
    "        print(f\"Salary for this employee working in {self.company} is {self.salary}\")\n",
    "\n",
    "perry = Employee()\n",
    "perry.salary = 100000\n",
    "perry.getSalary() # Employee.getSalary(harry)"
   ]
  },
  {
   "cell_type": "code",
   "execution_count": 13,
   "id": "a4123ca5",
   "metadata": {},
   "outputs": [
    {
     "name": "stdout",
     "output_type": "stream",
     "text": [
      "Salary for this employee working in Google is 100000\n",
      "Thanks!\n",
      "Good Morning, Sir\n",
      "The time is 9AM in the morning\n"
     ]
    }
   ],
   "source": [
    "# static method\n",
    "class Employee:\n",
    "    company = \"Google\"\n",
    "\n",
    "    def getSalary(self, signature):\n",
    "        print(f\"Salary for this employee working in {self.company} is {self.salary}\\n{signature}\")\n",
    "\n",
    "    @staticmethod\n",
    "    def greet():\n",
    "        print(\"Good Morning, Sir\")\n",
    "\n",
    "    @staticmethod\n",
    "    def time():\n",
    "        print(\"The time is 9AM in the morning\")\n",
    "\n",
    "harry = Employee()\n",
    "harry.salary = 100000\n",
    "harry.getSalary(\"Thanks!\") # Employee.getSalary(harry)\n",
    "harry.greet() # Employee.greet()\n",
    "harry.time()\n",
    "\n"
   ]
  },
  {
   "cell_type": "code",
   "execution_count": 14,
   "id": "0b1b2f10",
   "metadata": {},
   "outputs": [
    {
     "name": "stdout",
     "output_type": "stream",
     "text": [
      "Employee is created!\n"
     ]
    }
   ],
   "source": [
    "# __int__() constructor\n",
    "class Employee:\n",
    "    company = \"Google\"\n",
    "\n",
    "    def __init__(self):\n",
    "        print(\"Employee is created!\") \n",
    "\n",
    "    def getSalary(self, signature):\n",
    "        print(f\"Salary for this employee working in {self.company} is {self.salary}\\n{signature}\")\n",
    "\n",
    "harry = Employee() # not need to call constructor function"
   ]
  },
  {
   "cell_type": "code",
   "execution_count": 15,
   "id": "45c38062",
   "metadata": {},
   "outputs": [
    {
     "name": "stdout",
     "output_type": "stream",
     "text": [
      "Employee is created!\n",
      "The name of the employee is Harry\n",
      "The salary of the employee is 100\n",
      "The subunit of the employee is YouTube\n"
     ]
    }
   ],
   "source": [
    "class Employee:\n",
    "    company = \"Google\"\n",
    "\n",
    "    def __init__(self, name, salary, subunit):\n",
    "        self.name = name\n",
    "        self.salary = salary\n",
    "        self.subunit = subunit\n",
    "        print(\"Employee is created!\") \n",
    "\n",
    "    def getDetails(self):\n",
    "        print(f\"The name of the employee is {self.name}\")\n",
    "        print(f\"The salary of the employee is {self.salary}\")\n",
    "        print(f\"The subunit of the employee is {self.subunit}\")\n",
    "\n",
    "    def getSalary(self, signature):\n",
    "        print(f\"Salary for this employee working in {self.company} is {self.salary}\\n{signature}\")\n",
    "\n",
    "    @staticmethod\n",
    "    def greet():\n",
    "        print(\"Good Morning, Sir\")\n",
    "\n",
    "    @staticmethod\n",
    "    def time():\n",
    "        print(\"The time is 9AM in the morning\")\n",
    "\n",
    "harry = Employee(\"Harry\", 100, \"YouTube\")\n",
    "# harry = Employee() --> This throws an error (missing 3 required positional arguments:)\n",
    "harry.getDetails()"
   ]
  },
  {
   "cell_type": "markdown",
   "id": "8b91ab12",
   "metadata": {},
   "source": [
    "### 1. Create a class programmer for storing information of few programmers working at microsoft."
   ]
  },
  {
   "cell_type": "code",
   "execution_count": 32,
   "id": "5c8bdc42",
   "metadata": {},
   "outputs": [
    {
     "name": "stdout",
     "output_type": "stream",
     "text": [
      "Compant name is microsoft\n",
      "\n",
      "Name of Employee is Praveen Sharma\n",
      "Company Joined on 21/12/2021\n",
      "Working on FrontEnd Technology\n",
      "\n",
      "\n",
      "Name of Employee is Kamal\n",
      "Company Joined on 01/01/2021\n",
      "Working on BackEnd Technology\n",
      "\n",
      "\n",
      "Name of Employee is Raghav\n",
      "Company Joined on 26/01/2022\n",
      "Working on FullStack Developer Technology\n",
      "\n",
      "\n"
     ]
    }
   ],
   "source": [
    "class Programmer:\n",
    "    company = \"microsoft\"\n",
    "    print(f\"Compant name is {company}\\n\")\n",
    "    def getInfo(self):\n",
    "        print(f\"Name of Employee is {self.name}\")\n",
    "        print(f\"Company Joined on {self.joinDate}\")\n",
    "        print(f\"Working on {self.workingOn} Technology\")\n",
    "        print(\"\\n\")\n",
    "    \n",
    "praveen = Programmer()\n",
    "kamal = Programmer()\n",
    "raghav = Programmer()\n",
    "praveen.name = \"Praveen Sharma\"\n",
    "praveen.joinDate = \"21/12/2021\"\n",
    "praveen.workingOn = \"FrontEnd\"\n",
    "\n",
    "kamal.name = \"Kamal\"\n",
    "kamal.joinDate = \"01/01/2021\"\n",
    "kamal.workingOn = \"BackEnd\"\n",
    "\n",
    "raghav.name = \"Raghav\"\n",
    "raghav.joinDate = \"26/01/2022\"\n",
    "raghav.workingOn = \"FullStack Developer\"\n",
    "\n",
    "praveen.getInfo()\n",
    "kamal.getInfo()\n",
    "raghav.getInfo()"
   ]
  },
  {
   "cell_type": "code",
   "execution_count": 25,
   "id": "a3bf127a",
   "metadata": {},
   "outputs": [
    {
     "name": "stdout",
     "output_type": "stream",
     "text": [
      "The name of the Microsoft programmer is Perry and the product is Skype\n",
      "The name of the Microsoft programmer is Alka and the product is GitHub\n"
     ]
    }
   ],
   "source": [
    "# using constructor\n",
    "class Programmer:\n",
    "    company = \"Microsoft\"\n",
    "\n",
    "    def __init__(self, name, product):\n",
    "        self.name = name\n",
    "        self.product = product\n",
    "\n",
    "    def getInfo(self):\n",
    "        print(f\"The name of the {self.company} programmer is {self.name} and the product is {self.product}\")\n",
    "\n",
    "\n",
    "perry = Programmer(\"Perry\", \"Skype\")\n",
    "alka = Programmer(\"Alka\", \"GitHub\")\n",
    "perry.getInfo()\n",
    "alka.getInfo()"
   ]
  },
  {
   "cell_type": "markdown",
   "id": "39db6ca8",
   "metadata": {},
   "source": [
    "### 2. Write a class calculator capable of finding square, cube and squareroot of a number."
   ]
  },
  {
   "cell_type": "code",
   "execution_count": 33,
   "id": "ad482a91",
   "metadata": {},
   "outputs": [
    {
     "name": "stdout",
     "output_type": "stream",
     "text": [
      "The value of 9 square is 81\n",
      "The value of 9 square root is 3.0\n",
      "The value of 9 cube is 729\n"
     ]
    }
   ],
   "source": [
    "class Calculator:\n",
    "    def __init__(self, num):\n",
    "        self.number = num\n",
    "\n",
    "    def square(self):\n",
    "        print(f\"The value of {self.number} square is {self.number **2}\")\n",
    "\n",
    "    def squareRoot(self):\n",
    "        print(f\"The value of {self.number} square root is {self.number **0.5}\")\n",
    "\n",
    "    def cube(self):\n",
    "        print(f\"The value of {self.number} cube is {self.number **3}\")\n",
    "\n",
    "a = Calculator(9)\n",
    "a.square()\n",
    "a.squareRoot() \n",
    "a.cube()"
   ]
  },
  {
   "cell_type": "markdown",
   "id": "93471ba4",
   "metadata": {},
   "source": [
    "### 3 .Create a class with a class attribute a ; create an object from it and set a directly using object.a= 0 . Does this change the class attribute?"
   ]
  },
  {
   "cell_type": "code",
   "execution_count": 41,
   "id": "af682b8e",
   "metadata": {},
   "outputs": [
    {
     "name": "stdout",
     "output_type": "stream",
     "text": [
      "100\n",
      "0\n"
     ]
    }
   ],
   "source": [
    "class Sample:\n",
    "    a = 100\n",
    "\n",
    "obj = Sample()\n",
    "obj.a = 0\n",
    "# Sample.a = 100  # this code change class attribute\n",
    "\n",
    "print(Sample.a)\n",
    "print(obj.a)"
   ]
  },
  {
   "cell_type": "markdown",
   "id": "2cd5347e",
   "metadata": {},
   "source": [
    "### 4. Add a static method in problem 2 to greet the user with hello."
   ]
  },
  {
   "cell_type": "code",
   "execution_count": 43,
   "id": "9a58ef8e",
   "metadata": {},
   "outputs": [
    {
     "name": "stdout",
     "output_type": "stream",
     "text": [
      "*******Hello there welcome to the best calculator of the world*******\n",
      "The value of 9 square is 81\n",
      "The value of 9 square root is 3.0\n",
      "The value of 9 cube is 729\n"
     ]
    }
   ],
   "source": [
    "class Calculator:\n",
    "    \n",
    "    def __init__(self, num):\n",
    "        self.number = num\n",
    "\n",
    "    def square(self):\n",
    "        print(f\"The value of {self.number} square is {self.number **2}\")\n",
    "\n",
    "    def squareRoot(self):\n",
    "        print(f\"The value of {self.number} square root is {self.number **0.5}\")\n",
    "\n",
    "    def cube(self):\n",
    "        print(f\"The value of {self.number} cube is {self.number **3}\")\n",
    "        \n",
    "    @staticmethod\n",
    "    def greet():\n",
    "        print(\"*******Hello there welcome to the best calculator of the world*******\")\n",
    "\n",
    "a = Calculator(9)\n",
    "a.greet()\n",
    "a.square()\n",
    "a.squareRoot() \n",
    "a.cube()"
   ]
  },
  {
   "cell_type": "markdown",
   "id": "23b7bc5c",
   "metadata": {},
   "source": [
    "### 5. Write a class Train which has methods to book a ticket, get status (no of seats) and get fare information of trains running under Indian Railways."
   ]
  },
  {
   "cell_type": "code",
   "execution_count": 46,
   "id": "e1e2d791",
   "metadata": {},
   "outputs": [
    {
     "name": "stdout",
     "output_type": "stream",
     "text": [
      "************\n",
      "The name of the train is Intercity Express: 14015\n",
      "The seats available in the train are 2\n",
      "************\n",
      "The price of the ticket is: Rs 90\n",
      "************\n",
      "Your ticket has been booked! Your seat number is 2\n",
      "Your ticket has been booked! Your seat number is 1\n",
      "Sorry this train is full! Kindly try in tatkal\n",
      "************\n",
      "The name of the train is Intercity Express: 14015\n",
      "The seats available in the train are 0\n",
      "************\n"
     ]
    }
   ],
   "source": [
    "'''\n",
    "1 2 3 4 5 6 7 8 9 10\n",
    "'''\n",
    "\n",
    "class Train:\n",
    "    def __init__(self, name, fare, seats):\n",
    "        self.name = name\n",
    "        self.fare = fare\n",
    "        self.seats = seats\n",
    "\n",
    "    def getStatus(self):\n",
    "        print(\"************\")\n",
    "        print(f\"The name of the train is {self.name}\")\n",
    "        print(f\"The seats available in the train are {self.seats}\")\n",
    "        print(\"************\")\n",
    "\n",
    "    def fareInfo(self):\n",
    "        print(f\"The price of the ticket is: Rs {self.fare}\")\n",
    "        print(\"************\")\n",
    "\n",
    "    def bookTicket(self):\n",
    "        if(self.seats>0):\n",
    "            print(f\"Your ticket has been booked! Your seat number is {self.seats}\")\n",
    "            self.seats = self.seats - 1\n",
    "        else:\n",
    "            print(\"Sorry this train is full! Kindly try in tatkal\")\n",
    "\n",
    "    def cancelTicket(self, seatNo):\n",
    "        pass\n",
    "\n",
    "intercity = Train(\"Intercity Express: 14015\", 90, 2)\n",
    "intercity.getStatus() \n",
    "intercity.fareInfo()\n",
    "intercity.bookTicket()\n",
    "intercity.bookTicket()\n",
    "intercity.bookTicket()\n",
    "intercity.getStatus()"
   ]
  },
  {
   "cell_type": "markdown",
   "id": "d66bb97b",
   "metadata": {},
   "source": [
    "### 6. Can you change the self parameter inside a class  to something else (say 'perry') . Try changing self to 'slf' or 'perry' and see the effects."
   ]
  },
  {
   "cell_type": "code",
   "execution_count": 48,
   "id": "d3f6fa64",
   "metadata": {},
   "outputs": [
    {
     "name": "stdout",
     "output_type": "stream",
     "text": [
      "perry\n"
     ]
    }
   ],
   "source": [
    "class Sample: \n",
    "    def __init__(perry, name):\n",
    "        perry.name = name\n",
    "\n",
    "obj = Sample(\"perry\") \n",
    "print(obj.name) \n",
    " "
   ]
  },
  {
   "cell_type": "code",
   "execution_count": null,
   "id": "54f6290e",
   "metadata": {},
   "outputs": [],
   "source": []
  }
 ],
 "metadata": {
  "kernelspec": {
   "display_name": "Python 3",
   "language": "python",
   "name": "python3"
  },
  "language_info": {
   "codemirror_mode": {
    "name": "ipython",
    "version": 3
   },
   "file_extension": ".py",
   "mimetype": "text/x-python",
   "name": "python",
   "nbconvert_exporter": "python",
   "pygments_lexer": "ipython3",
   "version": "3.8.8"
  }
 },
 "nbformat": 4,
 "nbformat_minor": 5
}
